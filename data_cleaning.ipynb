{
 "cells": [
  {
   "cell_type": "code",
   "execution_count": 1,
   "metadata": {},
   "outputs": [],
   "source": [
    "from astral import LocationInfo\n",
    "from astral.sun import sun\n",
    "import datetime as dt\n",
    "from pathlib import Path  \n",
    "import pytz\n",
    "from pytz import timezone\n",
    "import matplotlib.pyplot as plt\n",
    "from multiprocessing import Pool\n",
    "import numpy as np\n",
    "import os\n",
    "from os import listdir\n",
    "from os.path import isfile, join\n",
    "import pandas as pd\n",
    "import re\n",
    "import seaborn as sns\n",
    "import swifter\n",
    "from swifter import set_defaults\n",
    "import sys"
   ]
  },
  {
   "cell_type": "code",
   "execution_count": 2,
   "metadata": {},
   "outputs": [],
   "source": [
    "set_defaults(\n",
    "    npartitions=None,\n",
    "    dask_threshold=1,\n",
    "    scheduler=\"processes\",\n",
    "    progress_bar=True,\n",
    "    progress_bar_desc=None,\n",
    "    allow_dask_on_strings=True,\n",
    "    force_parallel=False,\n",
    ")"
   ]
  },
  {
   "cell_type": "markdown",
   "metadata": {},
   "source": [
    "# Standardization\n"
   ]
  },
  {
   "cell_type": "code",
   "execution_count": 3,
   "metadata": {},
   "outputs": [],
   "source": [
    "def get_standardized_datetime(row, originaltzstring):\n",
    "    \"\"\"\n",
    "    Given a row representing one time series \n",
    "    point from a corrected white shark archival tag \n",
    "    file and a str of the timezone of the timestamps, \n",
    "    returns a datetime object for the event in \n",
    "    Pacific/Honolulu time.\n",
    "    \"\"\"\n",
    "    originaltz = pytz.timezone(originaltzstring)\n",
    "    originaldt = dt.datetime(row[\"Year\"], row[\"Month\"], row[\"Day\"], row[\"Hour\"], row[\"Min\"], row[\"Sec\"], 0, originaltz)\n",
    "    return originaldt.astimezone(pytz.timezone(\"Pacific/Honolulu\"))\n",
    "    \n",
    "\n",
    "def get_time_of_day(hour):\n",
    "    \"\"\"\n",
    "    Given an int between 0 and 23 representing the\n",
    "    hour of the day, returns the time of day \n",
    "    corresponding to that hour in Hawaii e.g.\n",
    "    \"Dawn,\" \"Day,\" \"Dusk,\" or \"Night.\"\n",
    "    \"\"\"\n",
    "    sunrise = 6\n",
    "    sunset = 18\n",
    "\n",
    "    if (hour in range(0, sunrise - 1)) or (hour in range(sunset + 1, 24)):\n",
    "        return 'Night'\n",
    "    elif hour in range(sunrise - 1, sunrise + 1):\n",
    "        return 'Dawn'\n",
    "    elif hour in range(sunrise + 1, sunset - 1):\n",
    "        return 'Day'\n",
    "    elif hour in range(sunset - 1, sunset + 1):\n",
    "        return 'Dusk'\n",
    "    else:\n",
    "        return np.NaN\n",
    "\n",
    "\n",
    "def get_plot_data(filename): \n",
    "    \"\"\"\n",
    "    Given a filename to corrected archival White Shark tag\n",
    "    data, returns a pandas dataframe containing data for\n",
    "    plotting\n",
    "    \"\"\"\n",
    "    df = pd.read_csv(filename)\n",
    "    \n",
    "    # Get timezone of date/time\n",
    "    dateColName = df.columns[0]\n",
    "    originaltz = ''\n",
    "    if dateColName == \"Date(UTC-8)\":\n",
    "        originaltz = 'Etc/GMT+8' # why? no one knows\n",
    "    elif dateColName == \"Date(EST)\":\n",
    "        originaltz = 'UTC' # ehy? EST was mistake\n",
    "    elif dateColName == \"Date\":\n",
    "        originaltz = 'UTC'\n",
    "    else:\n",
    "        raise ValueError(\"Cannot processes timezone of Date column\" + dateColName)\n",
    "    \n",
    "    # Build standard datetime\n",
    "    df[\"Datetime (UTC-10)\"] = df.swifter.apply(lambda row: get_standardized_datetime(row, originaltz), axis=1)\n",
    "    \n",
    "    # add hour column\n",
    "    df[\"Hour (UTC-10)\"] = df[\"Datetime (UTC-10)\"].swifter.apply(lambda x: x.hour)\n",
    "    \n",
    "    # add time of day column\n",
    "    df[\"Time of Day\"] = df[\"Hour (UTC-10)\"].swifter.apply(get_time_of_day)\n",
    "    \n",
    "    return df\n",
    "\n",
    "\n",
    "def get_filepaths_in_dir(dir_path):\n",
    "    \"\"\"\n",
    "    Given a directory path, return a list of files in the given directory.\n",
    "    >>> get_files_in_dir('./test')\n",
    "    ['test1.txt', 'test.txt']\n",
    "    \"\"\"\n",
    "    only_files = [join(dir_path, f) for f in listdir(dir_path) if isfile(join(dir_path, f))]\n",
    "    return only_files\n",
    "\n",
    "\n",
    "def filter_csvs(filepaths):\n",
    "    \"\"\"\n",
    "    Given a list of filepaths, returns a list containing only the csv filepaths \n",
    "    in the given list.\n",
    "    \"\"\"\n",
    "    csv_files = [f for f in filepaths if '.csv' in f]\n",
    "    return csv_files\n",
    "\n",
    "\n",
    "def get_shark_ID(filepath):\n",
    "    \"\"\"\n",
    "    Given string filepath, returns 7 digit shark ID in filepath\n",
    "    name.\n",
    "    \"\"\"\n",
    "    # pattern matches any sequence of 7 digits\n",
    "    pattern = '\\\\d{7}'\n",
    "\n",
    "    sharkIDMatch = re.search(pattern, filepath)\n",
    "    assert sharkIDMatch, 'Could not find 7 digit ID in filepath: {}'.format(filepath)\n",
    "    \n",
    "    sharkID = sharkIDMatch.group(0)\n",
    "    return sharkID + '00'"
   ]
  },
  {
   "cell_type": "code",
   "execution_count": 4,
   "metadata": {},
   "outputs": [],
   "source": [
    "# from manuel digging:\n",
    "# sample rate on 190000400 is once every 2 min\n",
    "# 190400900 is once every min\n",
    "# 190502800 is once every min\n",
    "# 190600200 is once every min\n",
    "# 190601200 is oncer every 15 sec\n",
    "# 190900200 is once every 10 sec\n",
    "# 191909200 is once every 57 m 36 s (effectively 1/hour)\n",
    "# So reampling everything to once per house will be good"
   ]
  },
  {
   "cell_type": "code",
   "execution_count": 16,
   "metadata": {},
   "outputs": [
    {
     "data": {
      "application/vnd.jupyter.widget-view+json": {
       "model_id": "b72504965b904454b8120422673f2d8f",
       "version_major": 2,
       "version_minor": 0
      },
      "text/plain": "Dask Apply:   0%|          | 0/32 [00:00<?, ?it/s]"
     },
     "metadata": {},
     "output_type": "display_data"
    },
    {
     "data": {
      "application/vnd.jupyter.widget-view+json": {
       "model_id": "1b70461c16da4658b4bce4e6e5288722",
       "version_major": 2,
       "version_minor": 0
      },
      "text/plain": "Pandas Apply:   0%|          | 0/74310 [00:00<?, ?it/s]"
     },
     "metadata": {},
     "output_type": "display_data"
    },
    {
     "data": {
      "application/vnd.jupyter.widget-view+json": {
       "model_id": "f2520589ad164b529a565a47f0a91136",
       "version_major": 2,
       "version_minor": 0
      },
      "text/plain": "Pandas Apply:   0%|          | 0/74310 [00:00<?, ?it/s]"
     },
     "metadata": {},
     "output_type": "display_data"
    },
    {
     "data": {
      "application/vnd.jupyter.widget-view+json": {
       "model_id": "3000e84c37ae4cbfb89d085add6ef9f6",
       "version_major": 2,
       "version_minor": 0
      },
      "text/plain": "Dask Apply:   0%|          | 0/32 [00:00<?, ?it/s]"
     },
     "metadata": {},
     "output_type": "display_data"
    },
    {
     "data": {
      "application/vnd.jupyter.widget-view+json": {
       "model_id": "56e697e9abba4764a2fd049b871cd2c5",
       "version_major": 2,
       "version_minor": 0
      },
      "text/plain": "Pandas Apply:   0%|          | 0/116640 [00:00<?, ?it/s]"
     },
     "metadata": {},
     "output_type": "display_data"
    },
    {
     "data": {
      "application/vnd.jupyter.widget-view+json": {
       "model_id": "33c0e72ca0344f1dbefea5d5a59a8c05",
       "version_major": 2,
       "version_minor": 0
      },
      "text/plain": "Pandas Apply:   0%|          | 0/116640 [00:00<?, ?it/s]"
     },
     "metadata": {},
     "output_type": "display_data"
    },
    {
     "data": {
      "application/vnd.jupyter.widget-view+json": {
       "model_id": "7b90df40a5a14a88b81dd7f2defebba4",
       "version_major": 2,
       "version_minor": 0
      },
      "text/plain": "Dask Apply:   0%|          | 0/32 [00:00<?, ?it/s]"
     },
     "metadata": {},
     "output_type": "display_data"
    },
    {
     "data": {
      "application/vnd.jupyter.widget-view+json": {
       "model_id": "9c0d2539a2624073b9516f830af1da21",
       "version_major": 2,
       "version_minor": 0
      },
      "text/plain": "Pandas Apply:   0%|          | 0/87840 [00:00<?, ?it/s]"
     },
     "metadata": {},
     "output_type": "display_data"
    },
    {
     "data": {
      "application/vnd.jupyter.widget-view+json": {
       "model_id": "8d0bdc7a071d4a1f90abe2af4c5916a4",
       "version_major": 2,
       "version_minor": 0
      },
      "text/plain": "Pandas Apply:   0%|          | 0/87840 [00:00<?, ?it/s]"
     },
     "metadata": {},
     "output_type": "display_data"
    },
    {
     "data": {
      "application/vnd.jupyter.widget-view+json": {
       "model_id": "47f06c3681004d22828f3c86686d6f92",
       "version_major": 2,
       "version_minor": 0
      },
      "text/plain": "Dask Apply:   0%|          | 0/32 [00:00<?, ?it/s]"
     },
     "metadata": {},
     "output_type": "display_data"
    },
    {
     "data": {
      "application/vnd.jupyter.widget-view+json": {
       "model_id": "906f1dcc1e7e42a1a02db40ed28617f5",
       "version_major": 2,
       "version_minor": 0
      },
      "text/plain": "Pandas Apply:   0%|          | 0/125280 [00:00<?, ?it/s]"
     },
     "metadata": {},
     "output_type": "display_data"
    },
    {
     "data": {
      "application/vnd.jupyter.widget-view+json": {
       "model_id": "aff4af932d3148879dbbfeb309b9a2f4",
       "version_major": 2,
       "version_minor": 0
      },
      "text/plain": "Pandas Apply:   0%|          | 0/125280 [00:00<?, ?it/s]"
     },
     "metadata": {},
     "output_type": "display_data"
    },
    {
     "data": {
      "application/vnd.jupyter.widget-view+json": {
       "model_id": "ba759ae0d9e0417f9823837ec2e5bb90",
       "version_major": 2,
       "version_minor": 0
      },
      "text/plain": "Dask Apply:   0%|          | 0/32 [00:00<?, ?it/s]"
     },
     "metadata": {},
     "output_type": "display_data"
    },
    {
     "data": {
      "application/vnd.jupyter.widget-view+json": {
       "model_id": "73c50fa3dc4b46edaffca88c2507c5e9",
       "version_major": 2,
       "version_minor": 0
      },
      "text/plain": "Pandas Apply:   0%|          | 0/673920 [00:00<?, ?it/s]"
     },
     "metadata": {},
     "output_type": "display_data"
    },
    {
     "data": {
      "application/vnd.jupyter.widget-view+json": {
       "model_id": "43f5d8207d34483d849284268dac0b44",
       "version_major": 2,
       "version_minor": 0
      },
      "text/plain": "Pandas Apply:   0%|          | 0/673920 [00:00<?, ?it/s]"
     },
     "metadata": {},
     "output_type": "display_data"
    },
    {
     "data": {
      "application/vnd.jupyter.widget-view+json": {
       "model_id": "789b1c10498345228602e0551345f7f0",
       "version_major": 2,
       "version_minor": 0
      },
      "text/plain": "Dask Apply:   0%|          | 0/32 [00:00<?, ?it/s]"
     },
     "metadata": {},
     "output_type": "display_data"
    },
    {
     "data": {
      "application/vnd.jupyter.widget-view+json": {
       "model_id": "3e09dc857dbf41c2959835d6c29218b0",
       "version_major": 2,
       "version_minor": 0
      },
      "text/plain": "Pandas Apply:   0%|          | 0/734400 [00:00<?, ?it/s]"
     },
     "metadata": {},
     "output_type": "display_data"
    },
    {
     "data": {
      "application/vnd.jupyter.widget-view+json": {
       "model_id": "74c7bee42db34059831f73ea61f3e2f9",
       "version_major": 2,
       "version_minor": 0
      },
      "text/plain": "Dask Apply:   0%|          | 0/32 [00:00<?, ?it/s]"
     },
     "metadata": {},
     "output_type": "display_data"
    },
    {
     "data": {
      "application/vnd.jupyter.widget-view+json": {
       "model_id": "dda433c5447043ae8ab11478992594ac",
       "version_major": 2,
       "version_minor": 0
      },
      "text/plain": "Pandas Apply:   0%|          | 0/2017 [00:00<?, ?it/s]"
     },
     "metadata": {},
     "output_type": "display_data"
    },
    {
     "data": {
      "application/vnd.jupyter.widget-view+json": {
       "model_id": "48d6708a53f1461abc655766f0798d1b",
       "version_major": 2,
       "version_minor": 0
      },
      "text/plain": "Pandas Apply:   0%|          | 0/2017 [00:00<?, ?it/s]"
     },
     "metadata": {},
     "output_type": "display_data"
    },
    {
     "data": {
      "application/vnd.jupyter.widget-view+json": {
       "model_id": "c9596f475ee5436693d0569c575957c9",
       "version_major": 2,
       "version_minor": 0
      },
      "text/plain": "Pandas Apply:   0%|          | 0/2017 [00:00<?, ?it/s]"
     },
     "metadata": {},
     "output_type": "display_data"
    }
   ],
   "source": [
    "# all Hawaii white shark archival files\n",
    "files = filter_csvs(get_filepaths_in_dir('./HawaiiData'))\n",
    "\n",
    "# metadata for Hawaii white sharks with Id, tag number, \n",
    "# ptt, tagging date, length, sex, and first/last date\n",
    "# that shark was in Hawaiian lees\n",
    "meta_df = pd.read_csv('./ws_hawaiionly_ssm_archivals_dateranges_2022apr18.csv')\n",
    "\n",
    "# build a master dataframe containing these columns for all Hawaii white sharks\n",
    "columns = [\"Id\", \"Datetime (UTC-10)\", \"Hour (UTC-10)\", \"Time of Day\", \"Depth(m)\", \"External Temp (c)\", \"Sex\", \"Shark Length (cm)\"] # add all the other stuff just incase\n",
    "dfs = []\n",
    "\n",
    "for file in sorted(files):\n",
    "    df = get_plot_data(file)\n",
    "    shark_id = get_shark_ID(file)\n",
    "    df['Id'] = shark_id\n",
    "    sex = meta_df[meta_df['eventid'] == int(shark_id) ]['sex'].iloc[0]\n",
    "    df['Sex'] = sex\n",
    "    df['External Temp (c)'] = df['ExtTemp(C)']\n",
    "    df['Shark Length (cm)'] = meta_df[meta_df['eventid'] == int(shark_id) ]['length'].iloc[0]\n",
    "    df = df[columns]\n",
    "\n",
    "    # uncomment for re-sampling\n",
    "    # # standardize sample frequency in master dataframe\n",
    "    # if shark_id == '190000400':\n",
    "    #     df = df.iloc[::30, :]\n",
    "    # elif (shark_id == '190400900') or (shark_id == '190502800') or (shark_id == '190600200'):\n",
    "    #     df = df.iloc[::60, :]\n",
    "    # elif shark_id == '190601200':\n",
    "    #     df = df.iloc[::240, :]\n",
    "    # elif shark_id == '190900200':\n",
    "    #     df = df.iloc[::360, :]\n",
    "\n",
    "    dfs.append(df)\n",
    "\n",
    "combined = pd.concat(dfs, ignore_index=True)"
   ]
  },
  {
   "cell_type": "markdown",
   "metadata": {},
   "source": [
    "# Calculating Time of Day Using Astral"
   ]
  },
  {
   "cell_type": "code",
   "execution_count": null,
   "metadata": {},
   "outputs": [
    {
     "data": {
      "application/vnd.jupyter.widget-view+json": {
       "model_id": "742f8c74dde74701ab1d79c7ca2f3889",
       "version_major": 2,
       "version_minor": 0
      },
      "text/plain": "Pandas Apply:   0%|          | 0/116640 [00:00<?, ?it/s]"
     },
     "metadata": {},
     "output_type": "display_data"
    },
    {
     "data": {
      "application/vnd.jupyter.widget-view+json": {
       "model_id": "4e32148b611946dda28b1a0a47e8c61f",
       "version_major": 2,
       "version_minor": 0
      },
      "text/plain": "Pandas Apply:   0%|          | 0/116640 [00:00<?, ?it/s]"
     },
     "metadata": {},
     "output_type": "display_data"
    },
    {
     "data": {
      "application/vnd.jupyter.widget-view+json": {
       "model_id": "ddf19d54221e425eb417323a72bd768e",
       "version_major": 2,
       "version_minor": 0
      },
      "text/plain": "Dask Apply:   0%|          | 0/32 [00:00<?, ?it/s]"
     },
     "metadata": {},
     "output_type": "display_data"
    }
   ],
   "source": [
    "\"\"\"Provides a `DateTimeRange` class, which is used for managing ranges of datetimes.\"\"\"\n",
    "import datetime\n",
    "\n",
    "class DateTimeRange(object):\n",
    "    \"\"\"Represents a range of datetimes, with a start and (optionally) an end.\n",
    "       \n",
    "       Basically implements most of the methods on a standard sequence data type to provide\n",
    "       some lovely syntactic sugar. Specifically, you can iterate on this, index it, slice it,\n",
    "       use the in operator, reverse it, and use it in a boolean context to see if there is any\n",
    "       time in between the start and end.\"\"\"\n",
    "    DEFAULT_STEP = datetime.timedelta(seconds=1)\n",
    "    \n",
    "    def __init__(self, start, end=None, step=DEFAULT_STEP, *args, **kwargs):\n",
    "        self.start = start\n",
    "        self.end = end\n",
    "        self.step = step\n",
    "        return super(DateTimeRange, self).__init__(*args, **kwargs)\n",
    "    \n",
    "    def __contains__(self, item):\n",
    "        \"\"\"Returns whether or not the passed datetime is within the range. Does not take into\n",
    "           account the stride length from `self.step` -- if you need that use dateutil's rrule\n",
    "           instead.\"\"\"\n",
    "        if self.end is None:\n",
    "            # The range never ends, so we just need to check `item` is beyond the start\n",
    "            return (self.start <= item)\n",
    "        else:\n",
    "            return (self.start <= item <= self.end)\n",
    "    \n",
    "    def __iter__(self):\n",
    "        \"\"\"Returns a generator which will yield datetime objects within the range, incrementing\n",
    "           with `self.step` as its stride length on each iteration.\"\"\"\n",
    "        value = self.start\n",
    "        while (value in self):\n",
    "            yield value\n",
    "            value += self.step\n",
    "    \n",
    "    def __reversed__(self):\n",
    "        \"\"\"Reverse iterator yielding the datetime objects within the range in reverse. Similarly\n",
    "           to the forward-iterator, decrements (rather than increments) by `self.step` each time.\n",
    "           \n",
    "           This can only be called if an end is defined.\"\"\"\n",
    "        assert self.end is not None, 'Reverse iteration is not supported without an end'\n",
    "        \n",
    "        value = self.end\n",
    "        while (value in self):\n",
    "            yield value\n",
    "            value -= self.step\n",
    "    \n",
    "    def __nonzero__(self):\n",
    "        \"\"\"Returns whether the date range covers a length of time (i.e. the end value is beyond\n",
    "           the start). If no end is defined, always returns True as the range continues forever.\"\"\"\n",
    "        return ((not self.end) or (self.end > self.start))\n",
    "    \n",
    "    def __get_slice(self, start, stop, step=None):\n",
    "        \"\"\"Internal method for slicing the date range. Use the standard slicing syntax as the\n",
    "           external interface.\"\"\"\n",
    "        indices = (xrange(start, stop, step) if step is not None else xrange(start, stop))\n",
    "        result = []\n",
    "        \n",
    "        for index in indices:\n",
    "            try:\n",
    "                result.append(self[index])\n",
    "            except IndexError:\n",
    "                pass\n",
    "        return result\n",
    "    \n",
    "    def __getitem__(self, key):\n",
    "        \"\"\"Returns the n'th datetime from the range, using `self.step` to determine the\n",
    "           increment. Does not calculate every datetime up until the index, but rather\n",
    "           multiplies the step value by the index to achieve the same result more efficiently.\n",
    "           \n",
    "           Negative indexing is only supported if an end is defined. Also supports slicing -- the\n",
    "           same rule regarding negative indexing still applying.\"\"\"\n",
    "        if isinstance(key, tuple):\n",
    "            # Multiple indices\n",
    "            return [self[i] for i in key]\n",
    "        elif isinstance(key, slice):\n",
    "            # Slicing\n",
    "            return self.__get_slice(start=key.start, stop=key.stop, step=key.step)\n",
    "        else:\n",
    "            # Regular indexing\n",
    "            if key < 0:\n",
    "                # Reverse-indexing\n",
    "                assert self.end is not None, 'Negative indexing is not supported without an end'\n",
    "                value = (self.end - (self.step * key))\n",
    "            else:\n",
    "                # Forward-indexing\n",
    "                value = (self.start + (self.step * key))\n",
    "            \n",
    "            # Check that the value is in the range; return it if it is, raise IndexError if not\n",
    "            if value in self:\n",
    "                return value\n",
    "            else:\n",
    "                raise IndexError('index out of range')"
   ]
  },
  {
   "cell_type": "code",
   "execution_count": null,
   "metadata": {},
   "outputs": [
    {
     "data": {
      "application/vnd.jupyter.widget-view+json": {
       "model_id": "75c4f143ee1f4722bc9a034a466130f2",
       "version_major": 2,
       "version_minor": 0
      },
      "text/plain": "Pandas Apply:   0%|          | 0/87840 [00:00<?, ?it/s]"
     },
     "metadata": {},
     "output_type": "display_data"
    },
    {
     "data": {
      "application/vnd.jupyter.widget-view+json": {
       "model_id": "e6d724fc9019406387c944030d935651",
       "version_major": 2,
       "version_minor": 0
      },
      "text/plain": "Pandas Apply:   0%|          | 0/87840 [00:00<?, ?it/s]"
     },
     "metadata": {},
     "output_type": "display_data"
    },
    {
     "data": {
      "application/vnd.jupyter.widget-view+json": {
       "model_id": "f5d108ac5be04cc4a98ec12c300f205e",
       "version_major": 2,
       "version_minor": 0
      },
      "text/plain": "Dask Apply:   0%|          | 0/32 [00:00<?, ?it/s]"
     },
     "metadata": {},
     "output_type": "display_data"
    }
   ],
   "source": [
    "# test inclusivity of class\n",
    "one_hr = dt.timedelta(hours=1)\n",
    "sunrise = dt.datetime(2020, 3, 21, 6, 0, 0).astimezone(pytz.timezone(\"Pacific/Honolulu\"))\n",
    "sunset = dt.datetime(2020, 3, 21, 18, 0, 0).astimezone(pytz.timezone(\"Pacific/Honolulu\"))\n",
    "ran = DateTimeRange(sunrise + one_hr, sunset - one_hr)\n",
    "(sunset - one_hr) in ran # TRUE if DateTimeRange is end inclusive, FALSE else"
   ]
  },
  {
   "cell_type": "code",
   "execution_count": 8,
   "metadata": {},
   "outputs": [
    {
     "data": {
      "application/vnd.jupyter.widget-view+json": {
       "model_id": "49bbda1530d5421cae37743b058ad253",
       "version_major": 2,
       "version_minor": 0
      },
      "text/plain": "Pandas Apply:   0%|          | 0/125280 [00:00<?, ?it/s]"
     },
     "metadata": {},
     "output_type": "display_data"
    },
    {
     "data": {
      "application/vnd.jupyter.widget-view+json": {
       "model_id": "83368cc8fe7a480187c883eba4c42a87",
       "version_major": 2,
       "version_minor": 0
      },
      "text/plain": "Pandas Apply:   0%|          | 0/125280 [00:00<?, ?it/s]"
     },
     "metadata": {},
     "output_type": "display_data"
    },
    {
     "data": {
      "application/vnd.jupyter.widget-view+json": {
       "model_id": "fbb5e0ca3fa1435ba0f2293d3e58a7a7",
       "version_major": 2,
       "version_minor": 0
      },
      "text/plain": "Dask Apply:   0%|          | 0/32 [00:00<?, ?it/s]"
     },
     "metadata": {},
     "output_type": "display_data"
    },
    {
     "data": {
      "application/vnd.jupyter.widget-view+json": {
       "model_id": "c1e18422c0134298add259c33fc932f3",
       "version_major": 2,
       "version_minor": 0
      },
      "text/plain": "Pandas Apply:   0%|          | 0/673920 [00:00<?, ?it/s]"
     },
     "metadata": {},
     "output_type": "display_data"
    },
    {
     "data": {
      "application/vnd.jupyter.widget-view+json": {
       "model_id": "9e7150e3209d455abb3c23e4a259bde9",
       "version_major": 2,
       "version_minor": 0
      },
      "text/plain": "Dask Apply:   0%|          | 0/32 [00:00<?, ?it/s]"
     },
     "metadata": {},
     "output_type": "display_data"
    },
    {
     "data": {
      "application/vnd.jupyter.widget-view+json": {
       "model_id": "250b06af711f4b86b72c706d1bbee048",
       "version_major": 2,
       "version_minor": 0
      },
      "text/plain": "Dask Apply:   0%|          | 0/32 [00:00<?, ?it/s]"
     },
     "metadata": {},
     "output_type": "display_data"
    },
    {
     "data": {
      "application/vnd.jupyter.widget-view+json": {
       "model_id": "9a1b8f65c9464ca19d5902daf6f5cf36",
       "version_major": 2,
       "version_minor": 0
      },
      "text/plain": "Pandas Apply:   0%|          | 0/734400 [00:00<?, ?it/s]"
     },
     "metadata": {},
     "output_type": "display_data"
    },
    {
     "data": {
      "application/vnd.jupyter.widget-view+json": {
       "model_id": "987ffcc1e1f341b59c41625b3024af16",
       "version_major": 2,
       "version_minor": 0
      },
      "text/plain": "Dask Apply:   0%|          | 0/32 [00:00<?, ?it/s]"
     },
     "metadata": {},
     "output_type": "display_data"
    },
    {
     "data": {
      "application/vnd.jupyter.widget-view+json": {
       "model_id": "29cb95488ffe4aa182d0773b508d8e95",
       "version_major": 2,
       "version_minor": 0
      },
      "text/plain": "Pandas Apply:   0%|          | 0/2017 [00:00<?, ?it/s]"
     },
     "metadata": {},
     "output_type": "display_data"
    },
    {
     "data": {
      "application/vnd.jupyter.widget-view+json": {
       "model_id": "d2e78736e2924e409e89dd8e54c23beb",
       "version_major": 2,
       "version_minor": 0
      },
      "text/plain": "Pandas Apply:   0%|          | 0/2017 [00:00<?, ?it/s]"
     },
     "metadata": {},
     "output_type": "display_data"
    },
    {
     "data": {
      "application/vnd.jupyter.widget-view+json": {
       "model_id": "3576cead02cb4d0fad17d9372a69f5c2",
       "version_major": 2,
       "version_minor": 0
      },
      "text/plain": "Pandas Apply:   0%|          | 0/2017 [00:00<?, ?it/s]"
     },
     "metadata": {},
     "output_type": "display_data"
    },
    {
     "data": {
      "text/plain": "True"
     },
     "execution_count": 7,
     "metadata": {},
     "output_type": "execute_result"
    }
   ],
   "source": [
    "def get_time_of_day_astral(date_time, lat, lon):\n",
    "    \"\"\"\n",
    "    Given a datetime object in Hawaii time (UTC-10), \n",
    "    an int representing latitude, and an int representing \n",
    "    longitude, returns returns local apparent the time \n",
    "    of day corresponding to that hour in Hawaii e.g.\n",
    "    \"Dawn,\" \"Day,\" \"Dusk,\" or \"Night.\"\n",
    "    \"\"\"\n",
    "    # date_time = date_time.astimezone(pytz.timezone(\"Pacific/Honolulu\")) # run this line if input date_time os not in Hawaii time\n",
    "    if (date_time.date is None) or (date_time.year is None) or (date_time.month is None) or (date_time.day is None):\n",
    "        raise ValueError(\"Cannot processes date with value: \", date)\n",
    "\n",
    "    date_time_std = dt.datetime(date_time.year, date_time.month, date_time.day, date_time.hour, date_time.minute, date_time.second, 0, pytz.UTC)\n",
    "    date_time_std = date_time_std.replace(tzinfo=pytz.timezone(\"Pacific/Honolulu\"))\n",
    "\n",
    "    location = LocationInfo(\"Honolulu\", \"Hawaii\", \"Pacific/Honolulu\", lat, lon)\n",
    "    s = sun(location.observer, date=datetime.date(date_time.year, date_time.month, date_time.day), tzinfo=location.timezone) \n",
    "\n",
    "    # time of day\n",
    "    sunrise = s[\"sunrise\"]\n",
    "    sunrise_std = dt.datetime(sunrise.year, sunrise.month, sunrise.day, sunrise.hour, sunrise.minute, sunrise.second, 0, pytz.UTC)\n",
    "    sunrise_std = sunrise_std.replace(tzinfo=pytz.timezone(\"Pacific/Honolulu\"))\n",
    "\n",
    "    sunset = s[\"sunset\"]\n",
    "    sunset_std = dt.datetime(sunset.year, sunset.month, sunset.day, sunset.hour, sunset.minute, sunset.second, 0, pytz.UTC)\n",
    "    sunset_std = sunset_std.replace(tzinfo=pytz.timezone(\"Pacific/Honolulu\"))\n",
    "\n",
    "    one_hr = dt.timedelta(hours=1)\n",
    "    one_s = dt.timedelta(seconds=1)\n",
    "\n",
    "    midnight = dt.datetime(date_time.year, date_time.month, date_time.day, 0, 0, 0, 0, pytz.UTC)\n",
    "    midnight = midnight.replace(tzinfo=pytz.timezone(\"Pacific/Honolulu\"))\n",
    "    \n",
    "    pre_midnight = dt.datetime(date_time.year, date_time.month, date_time.day, 23, 59, 59, 0, pytz.UTC)\n",
    "    pre_midnight = pre_midnight.replace(tzinfo=pytz.timezone(\"Pacific/Honolulu\"))\n",
    "    \n",
    "    # DateTimeRange is inclusive of start and stop inputs\n",
    "    if (date_time_std in DateTimeRange(midnight, sunrise_std - one_hr)) or (date_time_std in DateTimeRange(sunset_std + one_hr, pre_midnight)):\n",
    "        return 'Night'\n",
    "    elif date_time_std in DateTimeRange(sunrise_std - one_hr + one_s, sunrise_std + one_hr):\n",
    "        return 'Dawn'\n",
    "    elif date_time_std in DateTimeRange(sunrise_std + one_hr + one_s, sunset_std - one_hr):\n",
    "        return \"Day\"\n",
    "    elif date_time_std in DateTimeRange(sunset_std - one_hr + one_s, sunset_std + one_hr - one_s):\n",
    "        return 'Dusk'\n",
    "    else:\n",
    "        return np.NaN"
   ]
  },
  {
   "cell_type": "code",
   "execution_count": 9,
   "metadata": {},
   "outputs": [
    {
     "data": {
      "text/plain": "(datetime.datetime(2022, 7, 14, 6, 4, 52, 722561, tzinfo=<DstTzInfo 'Pacific/Honolulu' HST-1 day, 14:00:00 STD>),\n datetime.datetime(2022, 7, 14, 23, 59, 59, tzinfo=<DstTzInfo 'Pacific/Honolulu' LMT-1 day, 13:29:00 STD>))"
     },
     "execution_count": 9,
     "metadata": {},
     "output_type": "execute_result"
    }
   ],
   "source": [
    "avg_lat = pd.read_csv('./ws_hawaiionly_ssm_archivals_2022apr12.csv')[\"latitude\"].mean()\n",
    "avg_lon = pd.read_csv('./ws_hawaiionly_ssm_archivals_2022apr12.csv')[\"longitude\"].mean()\n",
    "location = LocationInfo(\"Honolulu\", \"Hawaii\", \"Pacific/Honolulu\", avg_lat, avg_lon)\n",
    "s = sun(location.observer, dt.datetime.now(), tzinfo=location.timezone) \n",
    "\n",
    "pre_midnight = dt.datetime(dt.datetime.now().year, dt.datetime.now().month, dt.datetime.now().day, 23, 59, 59, 0, pytz.UTC)\n",
    "pre_midnight = pre_midnight.replace(tzinfo=pytz.timezone(\"Pacific/Honolulu\"))\n",
    "\n",
    "s[\"sunrise\"], pre_midnight"
   ]
  },
  {
   "cell_type": "code",
   "execution_count": 10,
   "metadata": {},
   "outputs": [
    {
     "data": {
      "application/vnd.jupyter.widget-view+json": {
       "model_id": "c9d992c04ef34e9b8db94f6af23f7d68",
       "version_major": 2,
       "version_minor": 0
      },
      "text/plain": "Dask Apply:   0%|          | 0/32 [00:00<?, ?it/s]"
     },
     "metadata": {},
     "output_type": "display_data"
    }
   ],
   "source": [
    "# add a \"Time of Day (Astral)\" column\" - time of day (\"Dusk,\" \"Dawn,\" etc.) calculated by the Astral API\n",
    "\n",
    "# can parallelize with multiprocessing later https://stackoverflow.com/questions/45545110/make-pandas-dataframe-apply-use-all-cores \n",
    "avg_lat = pd.read_csv('./ws_hawaiionly_ssm_archivals_2022apr12.csv')[\"latitude\"].mean()\n",
    "avg_lon = pd.read_csv('./ws_hawaiionly_ssm_archivals_2022apr12.csv')[\"longitude\"].mean()\n",
    "combined[\"Time of Day (Astral)\"] = combined.swifter.apply(lambda x: get_time_of_day_astral(x[\"Datetime (UTC-10)\"], avg_lat, avg_lon), axis=1)"
   ]
  },
  {
   "cell_type": "code",
   "execution_count": 11,
   "metadata": {},
   "outputs": [
    {
     "name": "stdout",
     "output_type": "stream",
     "text": [
      "<class 'pandas.core.frame.DataFrame'>\n",
      "RangeIndex: 14838 entries, 0 to 14837\n",
      "Data columns (total 9 columns):\n",
      " #   Column                Non-Null Count  Dtype                           \n",
      "---  ------                --------------  -----                           \n",
      " 0   Id                    14838 non-null  object                          \n",
      " 1   Datetime (UTC-10)     14838 non-null  datetime64[ns, Pacific/Honolulu]\n",
      " 2   Hour (UTC-10)         14838 non-null  int64                           \n",
      " 3   Time of Day           14838 non-null  object                          \n",
      " 4   Depth(m)              14838 non-null  float64                         \n",
      " 5   External Temp (c)     14838 non-null  float64                         \n",
      " 6   Sex                   14838 non-null  object                          \n",
      " 7   Shark Length (cm)     14838 non-null  float64                         \n",
      " 8   Time of Day (Astral)  14838 non-null  object                          \n",
      "dtypes: datetime64[ns, Pacific/Honolulu](1), float64(3), int64(1), object(4)\n",
      "memory usage: 1.0+ MB\n"
     ]
    },
    {
     "data": {
      "text/html": "<div>\n<style scoped>\n    .dataframe tbody tr th:only-of-type {\n        vertical-align: middle;\n    }\n\n    .dataframe tbody tr th {\n        vertical-align: top;\n    }\n\n    .dataframe thead th {\n        text-align: right;\n    }\n</style>\n<table border=\"1\" class=\"dataframe\">\n  <thead>\n    <tr style=\"text-align: right;\">\n      <th></th>\n      <th>Id</th>\n      <th>Datetime (UTC-10)</th>\n      <th>Hour (UTC-10)</th>\n      <th>Time of Day</th>\n      <th>Depth(m)</th>\n      <th>External Temp (c)</th>\n      <th>Sex</th>\n      <th>Shark Length (cm)</th>\n      <th>Time of Day (Astral)</th>\n    </tr>\n  </thead>\n  <tbody>\n    <tr>\n      <th>0</th>\n      <td>190000400</td>\n      <td>2001-01-02 18:59:50-10:00</td>\n      <td>18</td>\n      <td>Dusk</td>\n      <td>38.4</td>\n      <td>24.600002</td>\n      <td>M</td>\n      <td>457.0</td>\n      <td>Dusk</td>\n    </tr>\n    <tr>\n      <th>1</th>\n      <td>190000400</td>\n      <td>2001-01-02 19:59:50-10:00</td>\n      <td>19</td>\n      <td>Night</td>\n      <td>154.4</td>\n      <td>20.400002</td>\n      <td>M</td>\n      <td>457.0</td>\n      <td>Night</td>\n    </tr>\n    <tr>\n      <th>2</th>\n      <td>190000400</td>\n      <td>2001-01-02 20:59:50-10:00</td>\n      <td>20</td>\n      <td>Night</td>\n      <td>124.4</td>\n      <td>21.600000</td>\n      <td>M</td>\n      <td>457.0</td>\n      <td>Night</td>\n    </tr>\n    <tr>\n      <th>3</th>\n      <td>190000400</td>\n      <td>2001-01-02 21:59:50-10:00</td>\n      <td>21</td>\n      <td>Night</td>\n      <td>28.4</td>\n      <td>24.600002</td>\n      <td>M</td>\n      <td>457.0</td>\n      <td>Night</td>\n    </tr>\n    <tr>\n      <th>4</th>\n      <td>190000400</td>\n      <td>2001-01-02 22:59:50-10:00</td>\n      <td>22</td>\n      <td>Night</td>\n      <td>126.4</td>\n      <td>21.150002</td>\n      <td>M</td>\n      <td>457.0</td>\n      <td>Night</td>\n    </tr>\n    <tr>\n      <th>...</th>\n      <td>...</td>\n      <td>...</td>\n      <td>...</td>\n      <td>...</td>\n      <td>...</td>\n      <td>...</td>\n      <td>...</td>\n      <td>...</td>\n      <td>...</td>\n    </tr>\n    <tr>\n      <th>14833</th>\n      <td>191901200</td>\n      <td>2020-04-16 18:47:59-10:00</td>\n      <td>18</td>\n      <td>Dusk</td>\n      <td>303.3</td>\n      <td>11.500000</td>\n      <td>M</td>\n      <td>366.0</td>\n      <td>Dusk</td>\n    </tr>\n    <tr>\n      <th>14834</th>\n      <td>191901200</td>\n      <td>2020-04-16 19:45:35-10:00</td>\n      <td>19</td>\n      <td>Night</td>\n      <td>146.3</td>\n      <td>19.880000</td>\n      <td>M</td>\n      <td>366.0</td>\n      <td>Dusk</td>\n    </tr>\n    <tr>\n      <th>14835</th>\n      <td>191901200</td>\n      <td>2020-04-16 20:43:11-10:00</td>\n      <td>20</td>\n      <td>Night</td>\n      <td>163.3</td>\n      <td>19.120000</td>\n      <td>M</td>\n      <td>366.0</td>\n      <td>Night</td>\n    </tr>\n    <tr>\n      <th>14836</th>\n      <td>191901200</td>\n      <td>2020-04-16 21:40:47-10:00</td>\n      <td>21</td>\n      <td>Night</td>\n      <td>147.3</td>\n      <td>20.640000</td>\n      <td>M</td>\n      <td>366.0</td>\n      <td>Night</td>\n    </tr>\n    <tr>\n      <th>14837</th>\n      <td>191901200</td>\n      <td>2020-04-16 22:38:23-10:00</td>\n      <td>22</td>\n      <td>Night</td>\n      <td>41.3</td>\n      <td>23.940000</td>\n      <td>M</td>\n      <td>366.0</td>\n      <td>Night</td>\n    </tr>\n  </tbody>\n</table>\n<p>14838 rows × 9 columns</p>\n</div>",
      "text/plain": "              Id         Datetime (UTC-10)  Hour (UTC-10) Time of Day  \\\n0      190000400 2001-01-02 18:59:50-10:00             18        Dusk   \n1      190000400 2001-01-02 19:59:50-10:00             19       Night   \n2      190000400 2001-01-02 20:59:50-10:00             20       Night   \n3      190000400 2001-01-02 21:59:50-10:00             21       Night   \n4      190000400 2001-01-02 22:59:50-10:00             22       Night   \n...          ...                       ...            ...         ...   \n14833  191901200 2020-04-16 18:47:59-10:00             18        Dusk   \n14834  191901200 2020-04-16 19:45:35-10:00             19       Night   \n14835  191901200 2020-04-16 20:43:11-10:00             20       Night   \n14836  191901200 2020-04-16 21:40:47-10:00             21       Night   \n14837  191901200 2020-04-16 22:38:23-10:00             22       Night   \n\n       Depth(m)  External Temp (c) Sex  Shark Length (cm) Time of Day (Astral)  \n0          38.4          24.600002   M              457.0                 Dusk  \n1         154.4          20.400002   M              457.0                Night  \n2         124.4          21.600000   M              457.0                Night  \n3          28.4          24.600002   M              457.0                Night  \n4         126.4          21.150002   M              457.0                Night  \n...         ...                ...  ..                ...                  ...  \n14833     303.3          11.500000   M              366.0                 Dusk  \n14834     146.3          19.880000   M              366.0                 Dusk  \n14835     163.3          19.120000   M              366.0                Night  \n14836     147.3          20.640000   M              366.0                Night  \n14837      41.3          23.940000   M              366.0                Night  \n\n[14838 rows x 9 columns]"
     },
     "execution_count": 11,
     "metadata": {},
     "output_type": "execute_result"
    }
   ],
   "source": [
    "combined.info()\n",
    "combined"
   ]
  },
  {
   "cell_type": "markdown",
   "metadata": {},
   "source": [
    "# Compare Orginal Time of Day with Time of Day Computed Using Astral"
   ]
  },
  {
   "cell_type": "code",
   "execution_count": 12,
   "metadata": {},
   "outputs": [
    {
     "data": {
      "text/plain": "Day      6237\nNight    6146\nDawn     1228\nDusk     1227\nName: Time of Day, dtype: int64"
     },
     "execution_count": 12,
     "metadata": {},
     "output_type": "execute_result"
    }
   ],
   "source": [
    "combined[\"Time of Day\"].value_counts()"
   ]
  },
  {
   "cell_type": "code",
   "execution_count": 13,
   "metadata": {},
   "outputs": [
    {
     "data": {
      "text/plain": "Day      6366\nNight    6001\nDusk     1242\nDawn     1229\nName: Time of Day (Astral), dtype: int64"
     },
     "execution_count": 13,
     "metadata": {},
     "output_type": "execute_result"
    }
   ],
   "source": [
    "combined[\"Time of Day (Astral)\"].value_counts()"
   ]
  },
  {
   "cell_type": "code",
   "execution_count": 14,
   "metadata": {},
   "outputs": [
    {
     "data": {
      "text/html": "<div>\n<style scoped>\n    .dataframe tbody tr th:only-of-type {\n        vertical-align: middle;\n    }\n\n    .dataframe tbody tr th {\n        vertical-align: top;\n    }\n\n    .dataframe thead th {\n        text-align: right;\n    }\n</style>\n<table border=\"1\" class=\"dataframe\">\n  <thead>\n    <tr style=\"text-align: right;\">\n      <th></th>\n      <th>Id</th>\n      <th>Datetime (UTC-10)</th>\n      <th>Hour (UTC-10)</th>\n      <th>Time of Day</th>\n      <th>Depth(m)</th>\n      <th>External Temp (c)</th>\n      <th>Sex</th>\n      <th>Shark Length (cm)</th>\n      <th>Time of Day (Astral)</th>\n    </tr>\n  </thead>\n  <tbody>\n  </tbody>\n</table>\n</div>",
      "text/plain": "Empty DataFrame\nColumns: [Id, Datetime (UTC-10), Hour (UTC-10), Time of Day, Depth(m), External Temp (c), Sex, Shark Length (cm), Time of Day (Astral)]\nIndex: []"
     },
     "execution_count": 14,
     "metadata": {},
     "output_type": "execute_result"
    }
   ],
   "source": [
    "# check for NaN\n",
    "combined[combined['Time of Day'].isna()]\n",
    "combined[combined['Time of Day (Astral)'].isna()]"
   ]
  },
  {
   "cell_type": "code",
   "execution_count": 15,
   "metadata": {},
   "outputs": [],
   "source": [
    "combined.to_csv('./master.csv')"
   ]
  }
 ],
 "metadata": {
  "kernelspec": {
   "display_name": "Python 3.10.2 64-bit",
   "name": "python3102jvsc74a57bd098590ff4fe04c8543246b2a01debd3de3c5ca9b666f43f1fa87d5110c692004c"
  },
  "language_info": {
   "codemirror_mode": {
    "name": "ipython",
    "version": 3
   },
   "file_extension": ".py",
   "mimetype": "text/x-python",
   "name": "python",
   "nbconvert_exporter": "python",
   "pygments_lexer": "ipython3",
   "version": "3.10.2"
  },
  "orig_nbformat": 2
 },
 "nbformat": 4,
 "nbformat_minor": 2
}