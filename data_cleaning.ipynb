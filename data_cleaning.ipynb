{
 "cells": [
  {
   "cell_type": "code",
   "execution_count": 1,
   "metadata": {},
   "outputs": [],
   "source": [
    "from astral import LocationInfo\n",
    "from astral.sun import sun\n",
    "import datetime as dt\n",
    "from pathlib import Path  \n",
    "import pytz\n",
    "from pytz import timezone\n",
    "import matplotlib.pyplot as plt\n",
    "from multiprocessing import Pool\n",
    "import numpy as np\n",
    "import os\n",
    "from os import listdir\n",
    "from os.path import isfile, join\n",
    "import pandas as pd\n",
    "import re\n",
    "import seaborn as sns\n",
    "import swifter\n",
    "from swifter import set_defaults\n",
    "import sys"
   ]
  },
  {
   "cell_type": "code",
   "execution_count": 2,
   "metadata": {},
   "outputs": [],
   "source": [
    "set_defaults(\n",
    "    npartitions=None,\n",
    "    dask_threshold=1,\n",
    "    scheduler=\"processes\",\n",
    "    progress_bar=True,\n",
    "    progress_bar_desc=None,\n",
    "    allow_dask_on_strings=True,\n",
    "    force_parallel=False,\n",
    ")"
   ]
  },
  {
   "cell_type": "markdown",
   "metadata": {},
   "source": [
    "# Standardization\n"
   ]
  },
  {
   "cell_type": "code",
   "execution_count": 3,
   "metadata": {},
   "outputs": [],
   "source": [
    "def get_standardized_datetime(row, originaltzstring):\n",
    "    \"\"\"\n",
    "    Given a row representing one time series \n",
    "    point from a corrected white shark archival tag \n",
    "    file and a str of the timezone of the timestamps, \n",
    "    returns a datetime object for the event in \n",
    "    Pacific/Honolulu time.\n",
    "    \"\"\"\n",
    "    originaltz = pytz.timezone(originaltzstring)\n",
    "    originaldt = dt.datetime(row[\"Year\"], row[\"Month\"], row[\"Day\"], row[\"Hour\"], row[\"Min\"], row[\"Sec\"], 0, originaltz)\n",
    "    return originaldt.astimezone(pytz.timezone(\"Pacific/Honolulu\"))\n",
    "    \n",
    "\n",
    "def get_time_of_day(hour):\n",
    "    \"\"\"\n",
    "    Given an int between 0 and 23 representing the\n",
    "    hour of the day, returns the time of day \n",
    "    corresponding to that hour in Hawaii e.g.\n",
    "    \"Dawn,\" \"Day,\" \"Dusk,\" or \"Night.\"\n",
    "    \"\"\"\n",
    "    sunrise = 6\n",
    "    sunset = 18\n",
    "\n",
    "    if (hour in range(0, sunrise - 1)) or (hour in range(sunset + 1, 24)):\n",
    "        return 'Night'\n",
    "    elif hour in range(sunrise - 1, sunrise + 1):\n",
    "        return 'Dawn'\n",
    "    elif hour in range(sunrise + 1, sunset - 1):\n",
    "        return 'Day'\n",
    "    elif hour in range(sunset - 1, sunset + 1):\n",
    "        return 'Dusk'\n",
    "    else:\n",
    "        return np.NaN\n",
    "\n",
    "\n",
    "def get_plot_data(filename): \n",
    "    \"\"\"\n",
    "    Given a filename to corrected archival White Shark tag\n",
    "    data, returns a pandas dataframe containing data for\n",
    "    plotting\n",
    "    \"\"\"\n",
    "    df = pd.read_csv(filename)\n",
    "    \n",
    "    # Get timezone of date/time\n",
    "    dateColName = df.columns[0]\n",
    "    originaltz = ''\n",
    "    if dateColName == \"Date(UTC-8)\":\n",
    "        originaltz = 'Etc/GMT+8' # why? no one knows\n",
    "    elif dateColName == \"Date(EST)\":\n",
    "        originaltz = 'UTC' # ehy? EST was mistake\n",
    "    elif dateColName == \"Date\":\n",
    "        originaltz = 'UTC'\n",
    "    else:\n",
    "        raise ValueError(\"Cannot processes timezone of Date column\" + dateColName)\n",
    "    \n",
    "    # Build standard datetime\n",
    "    df[\"Datetime (UTC-10)\"] = df.swifter.apply(lambda row: get_standardized_datetime(row, originaltz), axis=1)\n",
    "    \n",
    "    # add hour column\n",
    "    df[\"Hour (UTC-10)\"] = df[\"Datetime (UTC-10)\"].swifter.apply(lambda x: x.hour)\n",
    "    \n",
    "    # add time of day column\n",
    "    df[\"Time of Day\"] = df[\"Hour (UTC-10)\"].swifter.apply(get_time_of_day)\n",
    "    \n",
    "    return df\n",
    "\n",
    "\n",
    "def get_filepaths_in_dir(dir_path):\n",
    "    \"\"\"\n",
    "    Given a directory path, return a list of files in the given directory.\n",
    "    >>> get_files_in_dir('./test')\n",
    "    ['test1.txt', 'test.txt']\n",
    "    \"\"\"\n",
    "    only_files = [join(dir_path, f) for f in listdir(dir_path) if isfile(join(dir_path, f))]\n",
    "    return only_files\n",
    "\n",
    "\n",
    "def filter_csvs(filepaths):\n",
    "    \"\"\"\n",
    "    Given a list of filepaths, returns a list containing only the csv filepaths \n",
    "    in the given list.\n",
    "    \"\"\"\n",
    "    csv_files = [f for f in filepaths if '.csv' in f]\n",
    "    return csv_files\n",
    "\n",
    "\n",
    "def get_shark_ID(filepath):\n",
    "    \"\"\"\n",
    "    Given string filepath, returns 7 digit shark ID in filepath\n",
    "    name.\n",
    "    \"\"\"\n",
    "    # pattern matches any sequence of 7 digits\n",
    "    pattern = '\\\\d{7}'\n",
    "\n",
    "    sharkIDMatch = re.search(pattern, filepath)\n",
    "    assert sharkIDMatch, 'Could not find 7 digit ID in filepath: {}'.format(filepath)\n",
    "    \n",
    "    sharkID = sharkIDMatch.group(0)\n",
    "    return sharkID + '00'"
   ]
  },
  {
   "cell_type": "code",
   "execution_count": 4,
   "metadata": {},
   "outputs": [
    {
     "data": {
      "application/vnd.jupyter.widget-view+json": {
       "model_id": "5b89085757ab4be8bbdbfceee86db704",
       "version_major": 2,
       "version_minor": 0
      },
      "text/plain": "Dask Apply:   0%|          | 0/32 [00:00<?, ?it/s]"
     },
     "metadata": {},
     "output_type": "display_data"
    },
    {
     "data": {
      "application/vnd.jupyter.widget-view+json": {
       "model_id": "a6b505ba1f39444c9a3d60da6e7e804f",
       "version_major": 2,
       "version_minor": 0
      },
      "text/plain": "Pandas Apply:   0%|          | 0/74310 [00:00<?, ?it/s]"
     },
     "metadata": {},
     "output_type": "display_data"
    },
    {
     "data": {
      "application/vnd.jupyter.widget-view+json": {
       "model_id": "db5216c9a50047f7adf91638292d565d",
       "version_major": 2,
       "version_minor": 0
      },
      "text/plain": "Pandas Apply:   0%|          | 0/74310 [00:00<?, ?it/s]"
     },
     "metadata": {},
     "output_type": "display_data"
    },
    {
     "data": {
      "application/vnd.jupyter.widget-view+json": {
       "model_id": "61102244c7134413a2e6c730eb16f301",
       "version_major": 2,
       "version_minor": 0
      },
      "text/plain": "Dask Apply:   0%|          | 0/32 [00:00<?, ?it/s]"
     },
     "metadata": {},
     "output_type": "display_data"
    },
    {
     "data": {
      "application/vnd.jupyter.widget-view+json": {
       "model_id": "64c8b1f64d5c4037b8d576780f8c489b",
       "version_major": 2,
       "version_minor": 0
      },
      "text/plain": "Pandas Apply:   0%|          | 0/116640 [00:00<?, ?it/s]"
     },
     "metadata": {},
     "output_type": "display_data"
    },
    {
     "data": {
      "application/vnd.jupyter.widget-view+json": {
       "model_id": "ec0adf869413466985e84e1aa65c6a82",
       "version_major": 2,
       "version_minor": 0
      },
      "text/plain": "Pandas Apply:   0%|          | 0/116640 [00:00<?, ?it/s]"
     },
     "metadata": {},
     "output_type": "display_data"
    },
    {
     "data": {
      "application/vnd.jupyter.widget-view+json": {
       "model_id": "abc0fce133f04c37a3c6c6f57b00ee4e",
       "version_major": 2,
       "version_minor": 0
      },
      "text/plain": "Dask Apply:   0%|          | 0/32 [00:00<?, ?it/s]"
     },
     "metadata": {},
     "output_type": "display_data"
    },
    {
     "data": {
      "application/vnd.jupyter.widget-view+json": {
       "model_id": "c9334c8686234242876e09ebae439d41",
       "version_major": 2,
       "version_minor": 0
      },
      "text/plain": "Pandas Apply:   0%|          | 0/87840 [00:00<?, ?it/s]"
     },
     "metadata": {},
     "output_type": "display_data"
    },
    {
     "data": {
      "application/vnd.jupyter.widget-view+json": {
       "model_id": "ceb93503d7ee4088a366f99a255c862b",
       "version_major": 2,
       "version_minor": 0
      },
      "text/plain": "Pandas Apply:   0%|          | 0/87840 [00:00<?, ?it/s]"
     },
     "metadata": {},
     "output_type": "display_data"
    },
    {
     "data": {
      "application/vnd.jupyter.widget-view+json": {
       "model_id": "ee3cf4535215491f9cafeecb90440a2a",
       "version_major": 2,
       "version_minor": 0
      },
      "text/plain": "Dask Apply:   0%|          | 0/32 [00:00<?, ?it/s]"
     },
     "metadata": {},
     "output_type": "display_data"
    },
    {
     "data": {
      "application/vnd.jupyter.widget-view+json": {
       "model_id": "21ad8b0a6414432da8c31e3d1f32391c",
       "version_major": 2,
       "version_minor": 0
      },
      "text/plain": "Pandas Apply:   0%|          | 0/125280 [00:00<?, ?it/s]"
     },
     "metadata": {},
     "output_type": "display_data"
    },
    {
     "data": {
      "application/vnd.jupyter.widget-view+json": {
       "model_id": "ed76e7fb827145c0a8646a1b1ec87fc0",
       "version_major": 2,
       "version_minor": 0
      },
      "text/plain": "Pandas Apply:   0%|          | 0/125280 [00:00<?, ?it/s]"
     },
     "metadata": {},
     "output_type": "display_data"
    },
    {
     "data": {
      "application/vnd.jupyter.widget-view+json": {
       "model_id": "6e394ab48c494c30b0e1cf5e6fb8fec9",
       "version_major": 2,
       "version_minor": 0
      },
      "text/plain": "Dask Apply:   0%|          | 0/32 [00:00<?, ?it/s]"
     },
     "metadata": {},
     "output_type": "display_data"
    },
    {
     "data": {
      "application/vnd.jupyter.widget-view+json": {
       "model_id": "6a26516043cc4788a44ee918c1ffe90b",
       "version_major": 2,
       "version_minor": 0
      },
      "text/plain": "Pandas Apply:   0%|          | 0/673920 [00:00<?, ?it/s]"
     },
     "metadata": {},
     "output_type": "display_data"
    },
    {
     "data": {
      "application/vnd.jupyter.widget-view+json": {
       "model_id": "bd0e3e5b5f8d48caba966c3b9768e419",
       "version_major": 2,
       "version_minor": 0
      },
      "text/plain": "Dask Apply:   0%|          | 0/32 [00:00<?, ?it/s]"
     },
     "metadata": {},
     "output_type": "display_data"
    },
    {
     "data": {
      "application/vnd.jupyter.widget-view+json": {
       "model_id": "fb3f25366417475f81cf26012e436bc3",
       "version_major": 2,
       "version_minor": 0
      },
      "text/plain": "Dask Apply:   0%|          | 0/32 [00:00<?, ?it/s]"
     },
     "metadata": {},
     "output_type": "display_data"
    },
    {
     "data": {
      "application/vnd.jupyter.widget-view+json": {
       "model_id": "964084da052e4c0a9168551b0807e150",
       "version_major": 2,
       "version_minor": 0
      },
      "text/plain": "Pandas Apply:   0%|          | 0/734400 [00:00<?, ?it/s]"
     },
     "metadata": {},
     "output_type": "display_data"
    },
    {
     "data": {
      "application/vnd.jupyter.widget-view+json": {
       "model_id": "21aa9079f15f469db87f1c7480215a7f",
       "version_major": 2,
       "version_minor": 0
      },
      "text/plain": "Dask Apply:   0%|          | 0/32 [00:00<?, ?it/s]"
     },
     "metadata": {},
     "output_type": "display_data"
    }
   ],
   "source": [
    "# all Hawaii white shark archival files\n",
    "files = filter_csvs(get_filepaths_in_dir('./data/hawaii_data/original'))\n",
    "\n",
    "# metadata for Hawaii white sharks with Id, tag number, \n",
    "# ptt, tagging date, length, sex, and first/last date\n",
    "# that shark was in Hawaiian lees\n",
    "meta_df = pd.read_csv('./data/meta_data.csv')\n",
    "\n",
    "# build a master dataframe containing these columns for all Hawaii white sharks\n",
    "columns = [\"Id\", \"Datetime (UTC-10)\", \"Hour (UTC-10)\", \"Time of Day\", \"Depth(m)\", \"External Temp (c)\", \"Sex\", \"Shark Length (cm)\"] # add all the other stuff just incase\n",
    "dfs = []\n",
    "\n",
    "for file in sorted(files):\n",
    "    df = get_plot_data(file)\n",
    "    shark_id = get_shark_ID(file)\n",
    "    df['Id'] = shark_id\n",
    "    sex = meta_df[meta_df['eventid'] == int(shark_id) ]['sex'].iloc[0]\n",
    "    df['Sex'] = sex\n",
    "    df['External Temp (c)'] = df['ExtTemp(C)']\n",
    "    df['Shark Length (cm)'] = meta_df[meta_df['eventid'] == int(shark_id) ]['length'].iloc[0]\n",
    "    df = df[columns]\n",
    "\n",
    "    # uncomment for re-sampling\n",
    "    # # standardize sample frequency in master dataframe\n",
    "    # if shark_id == '190000400':\n",
    "    #     df = df.iloc[::30, :]\n",
    "    # elif (shark_id == '190400900') or (shark_id == '190502800') or (shark_id == '190600200'):\n",
    "    #     df = df.iloc[::60, :]\n",
    "    # elif shark_id == '190601200':\n",
    "    #     df = df.iloc[::240, :]\n",
    "    # elif shark_id == '190900200':\n",
    "    #     df = df.iloc[::360, :]\n",
    "\n",
    "    dfs.append(df)\n",
    "\n",
    "combined = pd.concat(dfs, ignore_index=True)"
   ]
  },
  {
   "cell_type": "markdown",
   "metadata": {},
   "source": [
    "# Calculating Time of Day Using Astral"
   ]
  },
  {
   "cell_type": "code",
   "execution_count": 5,
   "metadata": {},
   "outputs": [],
   "source": [
    "\"\"\"Provides a `DateTimeRange` class, which is used for managing ranges of datetimes.\"\"\"\n",
    "import datetime\n",
    "\n",
    "class DateTimeRange(object):\n",
    "    \"\"\"Represents a range of datetimes, with a start and (optionally) an end.\n",
    "       \n",
    "       Basically implements most of the methods on a standard sequence data type to provide\n",
    "       some lovely syntactic sugar. Specifically, you can iterate on this, index it, slice it,\n",
    "       use the in operator, reverse it, and use it in a boolean context to see if there is any\n",
    "       time in between the start and end.\"\"\"\n",
    "    DEFAULT_STEP = datetime.timedelta(seconds=1)\n",
    "    \n",
    "    def __init__(self, start, end=None, step=DEFAULT_STEP, *args, **kwargs):\n",
    "        self.start = start\n",
    "        self.end = end\n",
    "        self.step = step\n",
    "        return super(DateTimeRange, self).__init__(*args, **kwargs)\n",
    "    \n",
    "    def __contains__(self, item):\n",
    "        \"\"\"Returns whether or not the passed datetime is within the range. Does not take into\n",
    "           account the stride length from `self.step` -- if you need that use dateutil's rrule\n",
    "           instead.\"\"\"\n",
    "        if self.end is None:\n",
    "            # The range never ends, so we just need to check `item` is beyond the start\n",
    "            return (self.start <= item)\n",
    "        else:\n",
    "            return (self.start <= item <= self.end)\n",
    "    \n",
    "    def __iter__(self):\n",
    "        \"\"\"Returns a generator which will yield datetime objects within the range, incrementing\n",
    "           with `self.step` as its stride length on each iteration.\"\"\"\n",
    "        value = self.start\n",
    "        while (value in self):\n",
    "            yield value\n",
    "            value += self.step\n",
    "    \n",
    "    def __reversed__(self):\n",
    "        \"\"\"Reverse iterator yielding the datetime objects within the range in reverse. Similarly\n",
    "           to the forward-iterator, decrements (rather than increments) by `self.step` each time.\n",
    "           \n",
    "           This can only be called if an end is defined.\"\"\"\n",
    "        assert self.end is not None, 'Reverse iteration is not supported without an end'\n",
    "        \n",
    "        value = self.end\n",
    "        while (value in self):\n",
    "            yield value\n",
    "            value -= self.step\n",
    "    \n",
    "    def __nonzero__(self):\n",
    "        \"\"\"Returns whether the date range covers a length of time (i.e. the end value is beyond\n",
    "           the start). If no end is defined, always returns True as the range continues forever.\"\"\"\n",
    "        return ((not self.end) or (self.end > self.start))\n",
    "    \n",
    "    def __get_slice(self, start, stop, step=None):\n",
    "        \"\"\"Internal method for slicing the date range. Use the standard slicing syntax as the\n",
    "           external interface.\"\"\"\n",
    "        indices = (xrange(start, stop, step) if step is not None else xrange(start, stop))\n",
    "        result = []\n",
    "        \n",
    "        for index in indices:\n",
    "            try:\n",
    "                result.append(self[index])\n",
    "            except IndexError:\n",
    "                pass\n",
    "        return result\n",
    "    \n",
    "    def __getitem__(self, key):\n",
    "        \"\"\"Returns the n'th datetime from the range, using `self.step` to determine the\n",
    "           increment. Does not calculate every datetime up until the index, but rather\n",
    "           multiplies the step value by the index to achieve the same result more efficiently.\n",
    "           \n",
    "           Negative indexing is only supported if an end is defined. Also supports slicing -- the\n",
    "           same rule regarding negative indexing still applying.\"\"\"\n",
    "        if isinstance(key, tuple):\n",
    "            # Multiple indices\n",
    "            return [self[i] for i in key]\n",
    "        elif isinstance(key, slice):\n",
    "            # Slicing\n",
    "            return self.__get_slice(start=key.start, stop=key.stop, step=key.step)\n",
    "        else:\n",
    "            # Regular indexing\n",
    "            if key < 0:\n",
    "                # Reverse-indexing\n",
    "                assert self.end is not None, 'Negative indexing is not supported without an end'\n",
    "                value = (self.end - (self.step * key))\n",
    "            else:\n",
    "                # Forward-indexing\n",
    "                value = (self.start + (self.step * key))\n",
    "            \n",
    "            # Check that the value is in the range; return it if it is, raise IndexError if not\n",
    "            if value in self:\n",
    "                return value\n",
    "            else:\n",
    "                raise IndexError('index out of range')"
   ]
  },
  {
   "cell_type": "code",
   "execution_count": 6,
   "metadata": {},
   "outputs": [
    {
     "data": {
      "text/plain": "True"
     },
     "execution_count": 6,
     "metadata": {},
     "output_type": "execute_result"
    }
   ],
   "source": [
    "# test inclusivity of class\n",
    "one_hr = dt.timedelta(hours=1)\n",
    "sunrise = dt.datetime(2020, 3, 21, 6, 0, 0).astimezone(pytz.timezone(\"Pacific/Honolulu\"))\n",
    "sunset = dt.datetime(2020, 3, 21, 18, 0, 0).astimezone(pytz.timezone(\"Pacific/Honolulu\"))\n",
    "ran = DateTimeRange(sunrise + one_hr, sunset - one_hr)\n",
    "(sunset - one_hr) in ran # TRUE if DateTimeRange is end inclusive, FALSE else"
   ]
  },
  {
   "cell_type": "code",
   "execution_count": 7,
   "metadata": {},
   "outputs": [],
   "source": [
    "def get_time_of_day_astral(date_time, lat, lon):\n",
    "    \"\"\"\n",
    "    Given a datetime object in Hawaii time (UTC-10), \n",
    "    an int representing latitude, and an int representing \n",
    "    longitude, returns returns local apparent the time \n",
    "    of day corresponding to that hour in Hawaii e.g.\n",
    "    \"Dawn,\" \"Day,\" \"Dusk,\" or \"Night.\"\n",
    "    \"\"\"\n",
    "    # date_time = date_time.astimezone(pytz.timezone(\"Pacific/Honolulu\")) # run this line if input date_time os not in Hawaii time\n",
    "    if (date_time.date is None) or (date_time.year is None) or (date_time.month is None) or (date_time.day is None):\n",
    "        raise ValueError(\"Cannot processes date with value: \", date)\n",
    "\n",
    "    date_time_std = dt.datetime(date_time.year, date_time.month, date_time.day, date_time.hour, date_time.minute, date_time.second, 0, pytz.UTC)\n",
    "    date_time_std = date_time_std.replace(tzinfo=pytz.timezone(\"Pacific/Honolulu\"))\n",
    "\n",
    "    location = LocationInfo(\"Honolulu\", \"Hawaii\", \"Pacific/Honolulu\", lat, lon)\n",
    "    s = sun(location.observer, date=datetime.date(date_time.year, date_time.month, date_time.day), tzinfo=location.timezone) \n",
    "\n",
    "    # time of day\n",
    "    sunrise = s[\"sunrise\"]\n",
    "    sunrise_std = dt.datetime(sunrise.year, sunrise.month, sunrise.day, sunrise.hour, sunrise.minute, sunrise.second, 0, pytz.UTC)\n",
    "    sunrise_std = sunrise_std.replace(tzinfo=pytz.timezone(\"Pacific/Honolulu\"))\n",
    "\n",
    "    sunset = s[\"sunset\"]\n",
    "    sunset_std = dt.datetime(sunset.year, sunset.month, sunset.day, sunset.hour, sunset.minute, sunset.second, 0, pytz.UTC)\n",
    "    sunset_std = sunset_std.replace(tzinfo=pytz.timezone(\"Pacific/Honolulu\"))\n",
    "\n",
    "    one_hr = dt.timedelta(hours=1)\n",
    "    one_s = dt.timedelta(seconds=1)\n",
    "\n",
    "    midnight = dt.datetime(date_time.year, date_time.month, date_time.day, 0, 0, 0, 0, pytz.UTC)\n",
    "    midnight = midnight.replace(tzinfo=pytz.timezone(\"Pacific/Honolulu\"))\n",
    "    \n",
    "    pre_midnight = dt.datetime(date_time.year, date_time.month, date_time.day, 23, 59, 59, 0, pytz.UTC)\n",
    "    pre_midnight = pre_midnight.replace(tzinfo=pytz.timezone(\"Pacific/Honolulu\"))\n",
    "    \n",
    "    # DateTimeRange is inclusive of start and stop inputs\n",
    "    if (date_time_std in DateTimeRange(midnight, sunrise_std - one_hr)) or (date_time_std in DateTimeRange(sunset_std + one_hr, pre_midnight)):\n",
    "        return 'Night'\n",
    "    elif date_time_std in DateTimeRange(sunrise_std - one_hr + one_s, sunrise_std + one_hr):\n",
    "        return 'Dawn'\n",
    "    elif date_time_std in DateTimeRange(sunrise_std + one_hr + one_s, sunset_std - one_hr):\n",
    "        return \"Day\"\n",
    "    elif date_time_std in DateTimeRange(sunset_std - one_hr + one_s, sunset_std + one_hr - one_s):\n",
    "        return 'Dusk'\n",
    "    else:\n",
    "        return np.NaN"
   ]
  },
  {
   "cell_type": "code",
   "execution_count": 8,
   "metadata": {},
   "outputs": [
    {
     "data": {
      "text/plain": "(datetime.datetime(2022, 8, 22, 6, 16, 32, 534548, tzinfo=<DstTzInfo 'Pacific/Honolulu' HST-1 day, 14:00:00 STD>),\n datetime.datetime(2022, 8, 22, 23, 59, 59, tzinfo=<DstTzInfo 'Pacific/Honolulu' LMT-1 day, 13:29:00 STD>))"
     },
     "execution_count": 8,
     "metadata": {},
     "output_type": "execute_result"
    }
   ],
   "source": [
    "avg_lat = pd.read_csv('./data/hawaii_data/ws_hawaiionly_ssm_archivals_2022apr12.csv')[\"latitude\"].mean()\n",
    "avg_lon = pd.read_csv('./data/hawaii_data/ws_hawaiionly_ssm_archivals_2022apr12.csv')[\"longitude\"].mean()\n",
    "location = LocationInfo(\"Honolulu\", \"Hawaii\", \"Pacific/Honolulu\", avg_lat, avg_lon)\n",
    "s = sun(location.observer, dt.datetime.now(), tzinfo=location.timezone) \n",
    "\n",
    "pre_midnight = dt.datetime(dt.datetime.now().year, dt.datetime.now().month, dt.datetime.now().day, 23, 59, 59, 0, pytz.UTC)\n",
    "pre_midnight = pre_midnight.replace(tzinfo=pytz.timezone(\"Pacific/Honolulu\"))\n",
    "\n",
    "s[\"sunrise\"], pre_midnight"
   ]
  },
  {
   "cell_type": "code",
   "execution_count": 9,
   "metadata": {},
   "outputs": [
    {
     "data": {
      "application/vnd.jupyter.widget-view+json": {
       "model_id": "8daf6664a11341969087dc9f7294b806",
       "version_major": 2,
       "version_minor": 0
      },
      "text/plain": "Dask Apply:   0%|          | 0/32 [00:00<?, ?it/s]"
     },
     "metadata": {},
     "output_type": "display_data"
    }
   ],
   "source": [
    "# add a \"Time of Day (Astral)\" column\" - time of day (\"Dusk,\" \"Dawn,\" etc.) calculated by the Astral API\n",
    "\n",
    "# can parallelize with multiprocessing later https://stackoverflow.com/questions/45545110/make-pandas-dataframe-apply-use-all-cores \n",
    "avg_lat = pd.read_csv('./data/hawaii_data/ws_hawaiionly_ssm_archivals_2022apr12.csv')[\"latitude\"].mean()\n",
    "avg_lon = pd.read_csv('./data/hawaii_data/ws_hawaiionly_ssm_archivals_2022apr12.csv')[\"longitude\"].mean()\n",
    "combined[\"Time of Day (Astral)\"] = combined.swifter.apply(lambda x: get_time_of_day_astral(x[\"Datetime (UTC-10)\"], avg_lat, avg_lon), axis=1)"
   ]
  },
  {
   "cell_type": "code",
   "execution_count": 10,
   "metadata": {},
   "outputs": [
    {
     "name": "stdout",
     "output_type": "stream",
     "text": [
      "<class 'pandas.core.frame.DataFrame'>\n",
      "RangeIndex: 1812390 entries, 0 to 1812389\n",
      "Data columns (total 9 columns):\n",
      " #   Column                Dtype                           \n",
      "---  ------                -----                           \n",
      " 0   Id                    object                          \n",
      " 1   Datetime (UTC-10)     datetime64[ns, Pacific/Honolulu]\n",
      " 2   Hour (UTC-10)         int64                           \n",
      " 3   Time of Day           object                          \n",
      " 4   Depth(m)              float64                         \n",
      " 5   External Temp (c)     float64                         \n",
      " 6   Sex                   object                          \n",
      " 7   Shark Length (cm)     float64                         \n",
      " 8   Time of Day (Astral)  object                          \n",
      "dtypes: datetime64[ns, Pacific/Honolulu](1), float64(3), int64(1), object(4)\n",
      "memory usage: 124.4+ MB\n"
     ]
    },
    {
     "data": {
      "text/html": "<div>\n<style scoped>\n    .dataframe tbody tr th:only-of-type {\n        vertical-align: middle;\n    }\n\n    .dataframe tbody tr th {\n        vertical-align: top;\n    }\n\n    .dataframe thead th {\n        text-align: right;\n    }\n</style>\n<table border=\"1\" class=\"dataframe\">\n  <thead>\n    <tr style=\"text-align: right;\">\n      <th></th>\n      <th>Id</th>\n      <th>Datetime (UTC-10)</th>\n      <th>Hour (UTC-10)</th>\n      <th>Time of Day</th>\n      <th>Depth(m)</th>\n      <th>External Temp (c)</th>\n      <th>Sex</th>\n      <th>Shark Length (cm)</th>\n      <th>Time of Day (Astral)</th>\n    </tr>\n  </thead>\n  <tbody>\n    <tr>\n      <th>0</th>\n      <td>190000400</td>\n      <td>2001-01-02 18:59:50-10:00</td>\n      <td>18</td>\n      <td>Dusk</td>\n      <td>38.4</td>\n      <td>24.600002</td>\n      <td>M</td>\n      <td>457.0</td>\n      <td>Dusk</td>\n    </tr>\n    <tr>\n      <th>1</th>\n      <td>190000400</td>\n      <td>2001-01-02 19:01:50-10:00</td>\n      <td>19</td>\n      <td>Night</td>\n      <td>40.4</td>\n      <td>24.600002</td>\n      <td>M</td>\n      <td>457.0</td>\n      <td>Dusk</td>\n    </tr>\n    <tr>\n      <th>2</th>\n      <td>190000400</td>\n      <td>2001-01-02 19:03:50-10:00</td>\n      <td>19</td>\n      <td>Night</td>\n      <td>43.4</td>\n      <td>24.600002</td>\n      <td>M</td>\n      <td>457.0</td>\n      <td>Dusk</td>\n    </tr>\n    <tr>\n      <th>3</th>\n      <td>190000400</td>\n      <td>2001-01-02 19:05:50-10:00</td>\n      <td>19</td>\n      <td>Night</td>\n      <td>47.4</td>\n      <td>24.600002</td>\n      <td>M</td>\n      <td>457.0</td>\n      <td>Dusk</td>\n    </tr>\n    <tr>\n      <th>4</th>\n      <td>190000400</td>\n      <td>2001-01-02 19:07:50-10:00</td>\n      <td>19</td>\n      <td>Night</td>\n      <td>53.4</td>\n      <td>24.450001</td>\n      <td>M</td>\n      <td>457.0</td>\n      <td>Dusk</td>\n    </tr>\n    <tr>\n      <th>...</th>\n      <td>...</td>\n      <td>...</td>\n      <td>...</td>\n      <td>...</td>\n      <td>...</td>\n      <td>...</td>\n      <td>...</td>\n      <td>...</td>\n      <td>...</td>\n    </tr>\n    <tr>\n      <th>1812385</th>\n      <td>190900200</td>\n      <td>2009-06-09 13:59:10-10:00</td>\n      <td>13</td>\n      <td>Day</td>\n      <td>405.8</td>\n      <td>8.700000</td>\n      <td>F</td>\n      <td>427.0</td>\n      <td>Day</td>\n    </tr>\n    <tr>\n      <th>1812386</th>\n      <td>190900200</td>\n      <td>2009-06-09 13:59:20-10:00</td>\n      <td>13</td>\n      <td>Day</td>\n      <td>405.3</td>\n      <td>8.700000</td>\n      <td>F</td>\n      <td>427.0</td>\n      <td>Day</td>\n    </tr>\n    <tr>\n      <th>1812387</th>\n      <td>190900200</td>\n      <td>2009-06-09 13:59:30-10:00</td>\n      <td>13</td>\n      <td>Day</td>\n      <td>405.8</td>\n      <td>8.700000</td>\n      <td>F</td>\n      <td>427.0</td>\n      <td>Day</td>\n    </tr>\n    <tr>\n      <th>1812388</th>\n      <td>190900200</td>\n      <td>2009-06-09 13:59:40-10:00</td>\n      <td>13</td>\n      <td>Day</td>\n      <td>405.8</td>\n      <td>8.700000</td>\n      <td>F</td>\n      <td>427.0</td>\n      <td>Day</td>\n    </tr>\n    <tr>\n      <th>1812389</th>\n      <td>190900200</td>\n      <td>2009-06-09 13:59:50-10:00</td>\n      <td>13</td>\n      <td>Day</td>\n      <td>405.3</td>\n      <td>8.700000</td>\n      <td>F</td>\n      <td>427.0</td>\n      <td>Day</td>\n    </tr>\n  </tbody>\n</table>\n<p>1812390 rows × 9 columns</p>\n</div>",
      "text/plain": "                Id         Datetime (UTC-10)  Hour (UTC-10) Time of Day  \\\n0        190000400 2001-01-02 18:59:50-10:00             18        Dusk   \n1        190000400 2001-01-02 19:01:50-10:00             19       Night   \n2        190000400 2001-01-02 19:03:50-10:00             19       Night   \n3        190000400 2001-01-02 19:05:50-10:00             19       Night   \n4        190000400 2001-01-02 19:07:50-10:00             19       Night   \n...            ...                       ...            ...         ...   \n1812385  190900200 2009-06-09 13:59:10-10:00             13         Day   \n1812386  190900200 2009-06-09 13:59:20-10:00             13         Day   \n1812387  190900200 2009-06-09 13:59:30-10:00             13         Day   \n1812388  190900200 2009-06-09 13:59:40-10:00             13         Day   \n1812389  190900200 2009-06-09 13:59:50-10:00             13         Day   \n\n         Depth(m)  External Temp (c) Sex  Shark Length (cm)  \\\n0            38.4          24.600002   M              457.0   \n1            40.4          24.600002   M              457.0   \n2            43.4          24.600002   M              457.0   \n3            47.4          24.600002   M              457.0   \n4            53.4          24.450001   M              457.0   \n...           ...                ...  ..                ...   \n1812385     405.8           8.700000   F              427.0   \n1812386     405.3           8.700000   F              427.0   \n1812387     405.8           8.700000   F              427.0   \n1812388     405.8           8.700000   F              427.0   \n1812389     405.3           8.700000   F              427.0   \n\n        Time of Day (Astral)  \n0                       Dusk  \n1                       Dusk  \n2                       Dusk  \n3                       Dusk  \n4                       Dusk  \n...                      ...  \n1812385                  Day  \n1812386                  Day  \n1812387                  Day  \n1812388                  Day  \n1812389                  Day  \n\n[1812390 rows x 9 columns]"
     },
     "execution_count": 10,
     "metadata": {},
     "output_type": "execute_result"
    }
   ],
   "source": [
    "combined.info()\n",
    "combined"
   ]
  },
  {
   "cell_type": "markdown",
   "metadata": {},
   "source": [
    "# Compare Orginal Time of Day with Time of Day Computed Using Astral"
   ]
  },
  {
   "cell_type": "code",
   "execution_count": 11,
   "metadata": {},
   "outputs": [
    {
     "data": {
      "text/plain": "Night    755249\nDay      755100\nDusk     151021\nDawn     151020\nName: Time of Day, dtype: int64"
     },
     "execution_count": 11,
     "metadata": {},
     "output_type": "execute_result"
    }
   ],
   "source": [
    "combined[\"Time of Day\"].value_counts()"
   ]
  },
  {
   "cell_type": "code",
   "execution_count": 12,
   "metadata": {},
   "outputs": [
    {
     "data": {
      "text/plain": "Day      799323\nNight    711042\nDawn     151020\nDusk     151005\nName: Time of Day (Astral), dtype: int64"
     },
     "execution_count": 12,
     "metadata": {},
     "output_type": "execute_result"
    }
   ],
   "source": [
    "combined[\"Time of Day (Astral)\"].value_counts()"
   ]
  },
  {
   "cell_type": "code",
   "execution_count": 13,
   "metadata": {},
   "outputs": [
    {
     "data": {
      "text/html": "<div>\n<style scoped>\n    .dataframe tbody tr th:only-of-type {\n        vertical-align: middle;\n    }\n\n    .dataframe tbody tr th {\n        vertical-align: top;\n    }\n\n    .dataframe thead th {\n        text-align: right;\n    }\n</style>\n<table border=\"1\" class=\"dataframe\">\n  <thead>\n    <tr style=\"text-align: right;\">\n      <th></th>\n      <th>Id</th>\n      <th>Datetime (UTC-10)</th>\n      <th>Hour (UTC-10)</th>\n      <th>Time of Day</th>\n      <th>Depth(m)</th>\n      <th>External Temp (c)</th>\n      <th>Sex</th>\n      <th>Shark Length (cm)</th>\n      <th>Time of Day (Astral)</th>\n    </tr>\n  </thead>\n  <tbody>\n  </tbody>\n</table>\n</div>",
      "text/plain": "Empty DataFrame\nColumns: [Id, Datetime (UTC-10), Hour (UTC-10), Time of Day, Depth(m), External Temp (c), Sex, Shark Length (cm), Time of Day (Astral)]\nIndex: []"
     },
     "execution_count": 13,
     "metadata": {},
     "output_type": "execute_result"
    }
   ],
   "source": [
    "# check for NaN\n",
    "combined[combined['Time of Day'].isna()]\n",
    "combined[combined['Time of Day (Astral)'].isna()]"
   ]
  },
  {
   "cell_type": "markdown",
   "metadata": {},
   "source": [
    "# Compute Velocities"
   ]
  },
  {
   "cell_type": "code",
   "execution_count": 14,
   "metadata": {},
   "outputs": [
    {
     "name": "stderr",
     "output_type": "stream",
     "text": [
      "/var/folders/57/9723dmls3r5f8py4fcxpmz1r0000gp/T/ipykernel_76132/3713021206.py:8: SettingWithCopyWarning: \n",
      "A value is trying to be set on a copy of a slice from a DataFrame.\n",
      "Try using .loc[row_indexer,col_indexer] = value instead\n",
      "\n",
      "See the caveats in the documentation: https://pandas.pydata.org/pandas-docs/stable/user_guide/indexing.html#returning-a-view-versus-a-copy\n",
      "  df['Depth Diff (m)'] = df['Depth(m)'].diff(periods=-1)\n"
     ]
    },
    {
     "data": {
      "application/vnd.jupyter.widget-view+json": {
       "model_id": "49389d6e90c7469e830b63c369c64cbb",
       "version_major": 2,
       "version_minor": 0
      },
      "text/plain": "Dask Apply:   0%|          | 0/32 [00:00<?, ?it/s]"
     },
     "metadata": {},
     "output_type": "display_data"
    },
    {
     "name": "stderr",
     "output_type": "stream",
     "text": [
      "/var/folders/57/9723dmls3r5f8py4fcxpmz1r0000gp/T/ipykernel_76132/3713021206.py:12: SettingWithCopyWarning: \n",
      "A value is trying to be set on a copy of a slice from a DataFrame.\n",
      "Try using .loc[row_indexer,col_indexer] = value instead\n",
      "\n",
      "See the caveats in the documentation: https://pandas.pydata.org/pandas-docs/stable/user_guide/indexing.html#returning-a-view-versus-a-copy\n",
      "  df['Vertical Velocity (m/s)'] = df.swifter.apply(lambda x: x[\"Depth Diff (m)\"] / sample_period, axis=1)\n",
      "/var/folders/57/9723dmls3r5f8py4fcxpmz1r0000gp/T/ipykernel_76132/3713021206.py:8: SettingWithCopyWarning: \n",
      "A value is trying to be set on a copy of a slice from a DataFrame.\n",
      "Try using .loc[row_indexer,col_indexer] = value instead\n",
      "\n",
      "See the caveats in the documentation: https://pandas.pydata.org/pandas-docs/stable/user_guide/indexing.html#returning-a-view-versus-a-copy\n",
      "  df['Depth Diff (m)'] = df['Depth(m)'].diff(periods=-1)\n"
     ]
    },
    {
     "data": {
      "application/vnd.jupyter.widget-view+json": {
       "model_id": "82dd9b9ff5c6486695c0e86bf25d7127",
       "version_major": 2,
       "version_minor": 0
      },
      "text/plain": "Dask Apply:   0%|          | 0/32 [00:00<?, ?it/s]"
     },
     "metadata": {},
     "output_type": "display_data"
    },
    {
     "name": "stderr",
     "output_type": "stream",
     "text": [
      "/var/folders/57/9723dmls3r5f8py4fcxpmz1r0000gp/T/ipykernel_76132/3713021206.py:12: SettingWithCopyWarning: \n",
      "A value is trying to be set on a copy of a slice from a DataFrame.\n",
      "Try using .loc[row_indexer,col_indexer] = value instead\n",
      "\n",
      "See the caveats in the documentation: https://pandas.pydata.org/pandas-docs/stable/user_guide/indexing.html#returning-a-view-versus-a-copy\n",
      "  df['Vertical Velocity (m/s)'] = df.swifter.apply(lambda x: x[\"Depth Diff (m)\"] / sample_period, axis=1)\n",
      "/var/folders/57/9723dmls3r5f8py4fcxpmz1r0000gp/T/ipykernel_76132/3713021206.py:8: SettingWithCopyWarning: \n",
      "A value is trying to be set on a copy of a slice from a DataFrame.\n",
      "Try using .loc[row_indexer,col_indexer] = value instead\n",
      "\n",
      "See the caveats in the documentation: https://pandas.pydata.org/pandas-docs/stable/user_guide/indexing.html#returning-a-view-versus-a-copy\n",
      "  df['Depth Diff (m)'] = df['Depth(m)'].diff(periods=-1)\n"
     ]
    },
    {
     "data": {
      "application/vnd.jupyter.widget-view+json": {
       "model_id": "22d4f13e63bd4d6996412dce79d161dd",
       "version_major": 2,
       "version_minor": 0
      },
      "text/plain": "Dask Apply:   0%|          | 0/32 [00:00<?, ?it/s]"
     },
     "metadata": {},
     "output_type": "display_data"
    },
    {
     "name": "stderr",
     "output_type": "stream",
     "text": [
      "/var/folders/57/9723dmls3r5f8py4fcxpmz1r0000gp/T/ipykernel_76132/3713021206.py:12: SettingWithCopyWarning: \n",
      "A value is trying to be set on a copy of a slice from a DataFrame.\n",
      "Try using .loc[row_indexer,col_indexer] = value instead\n",
      "\n",
      "See the caveats in the documentation: https://pandas.pydata.org/pandas-docs/stable/user_guide/indexing.html#returning-a-view-versus-a-copy\n",
      "  df['Vertical Velocity (m/s)'] = df.swifter.apply(lambda x: x[\"Depth Diff (m)\"] / sample_period, axis=1)\n",
      "/var/folders/57/9723dmls3r5f8py4fcxpmz1r0000gp/T/ipykernel_76132/3713021206.py:8: SettingWithCopyWarning: \n",
      "A value is trying to be set on a copy of a slice from a DataFrame.\n",
      "Try using .loc[row_indexer,col_indexer] = value instead\n",
      "\n",
      "See the caveats in the documentation: https://pandas.pydata.org/pandas-docs/stable/user_guide/indexing.html#returning-a-view-versus-a-copy\n",
      "  df['Depth Diff (m)'] = df['Depth(m)'].diff(periods=-1)\n"
     ]
    },
    {
     "data": {
      "application/vnd.jupyter.widget-view+json": {
       "model_id": "69a2a6fc69eb4ee7ac4aa70b358dc035",
       "version_major": 2,
       "version_minor": 0
      },
      "text/plain": "Dask Apply:   0%|          | 0/32 [00:00<?, ?it/s]"
     },
     "metadata": {},
     "output_type": "display_data"
    },
    {
     "name": "stderr",
     "output_type": "stream",
     "text": [
      "/var/folders/57/9723dmls3r5f8py4fcxpmz1r0000gp/T/ipykernel_76132/3713021206.py:12: SettingWithCopyWarning: \n",
      "A value is trying to be set on a copy of a slice from a DataFrame.\n",
      "Try using .loc[row_indexer,col_indexer] = value instead\n",
      "\n",
      "See the caveats in the documentation: https://pandas.pydata.org/pandas-docs/stable/user_guide/indexing.html#returning-a-view-versus-a-copy\n",
      "  df['Vertical Velocity (m/s)'] = df.swifter.apply(lambda x: x[\"Depth Diff (m)\"] / sample_period, axis=1)\n",
      "/var/folders/57/9723dmls3r5f8py4fcxpmz1r0000gp/T/ipykernel_76132/3713021206.py:8: SettingWithCopyWarning: \n",
      "A value is trying to be set on a copy of a slice from a DataFrame.\n",
      "Try using .loc[row_indexer,col_indexer] = value instead\n",
      "\n",
      "See the caveats in the documentation: https://pandas.pydata.org/pandas-docs/stable/user_guide/indexing.html#returning-a-view-versus-a-copy\n",
      "  df['Depth Diff (m)'] = df['Depth(m)'].diff(periods=-1)\n"
     ]
    },
    {
     "data": {
      "application/vnd.jupyter.widget-view+json": {
       "model_id": "b20b968fb8c04054956852678340d487",
       "version_major": 2,
       "version_minor": 0
      },
      "text/plain": "Dask Apply:   0%|          | 0/32 [00:00<?, ?it/s]"
     },
     "metadata": {},
     "output_type": "display_data"
    },
    {
     "name": "stderr",
     "output_type": "stream",
     "text": [
      "/var/folders/57/9723dmls3r5f8py4fcxpmz1r0000gp/T/ipykernel_76132/3713021206.py:12: SettingWithCopyWarning: \n",
      "A value is trying to be set on a copy of a slice from a DataFrame.\n",
      "Try using .loc[row_indexer,col_indexer] = value instead\n",
      "\n",
      "See the caveats in the documentation: https://pandas.pydata.org/pandas-docs/stable/user_guide/indexing.html#returning-a-view-versus-a-copy\n",
      "  df['Vertical Velocity (m/s)'] = df.swifter.apply(lambda x: x[\"Depth Diff (m)\"] / sample_period, axis=1)\n",
      "/var/folders/57/9723dmls3r5f8py4fcxpmz1r0000gp/T/ipykernel_76132/3713021206.py:8: SettingWithCopyWarning: \n",
      "A value is trying to be set on a copy of a slice from a DataFrame.\n",
      "Try using .loc[row_indexer,col_indexer] = value instead\n",
      "\n",
      "See the caveats in the documentation: https://pandas.pydata.org/pandas-docs/stable/user_guide/indexing.html#returning-a-view-versus-a-copy\n",
      "  df['Depth Diff (m)'] = df['Depth(m)'].diff(periods=-1)\n"
     ]
    },
    {
     "data": {
      "application/vnd.jupyter.widget-view+json": {
       "model_id": "a1ac54b0fb194052818d63413610aa82",
       "version_major": 2,
       "version_minor": 0
      },
      "text/plain": "Dask Apply:   0%|          | 0/32 [00:00<?, ?it/s]"
     },
     "metadata": {},
     "output_type": "display_data"
    },
    {
     "name": "stderr",
     "output_type": "stream",
     "text": [
      "/var/folders/57/9723dmls3r5f8py4fcxpmz1r0000gp/T/ipykernel_76132/3713021206.py:12: SettingWithCopyWarning: \n",
      "A value is trying to be set on a copy of a slice from a DataFrame.\n",
      "Try using .loc[row_indexer,col_indexer] = value instead\n",
      "\n",
      "See the caveats in the documentation: https://pandas.pydata.org/pandas-docs/stable/user_guide/indexing.html#returning-a-view-versus-a-copy\n",
      "  df['Vertical Velocity (m/s)'] = df.swifter.apply(lambda x: x[\"Depth Diff (m)\"] / sample_period, axis=1)\n"
     ]
    }
   ],
   "source": [
    "dfs = []\n",
    "for Id in meta_df['eventid']: # for each shark\n",
    "    df = combined[combined['Id'] == str(Id)]\n",
    "    \n",
    "    # find depth dif in successive rows\n",
    "    # negaitve values mean descending in depth\n",
    "    # positive means ascending \n",
    "    df['Depth Diff (m)'] = df['Depth(m)'].diff(periods=-1) \n",
    "    \n",
    "    # find vertical velocity using unique sampling period of PSAT\n",
    "    sample_period = meta_df.loc[meta_df['eventid'] == Id]['Sampling Period (sec)'] \n",
    "    df['Vertical Velocity (m/s)'] = df.swifter.apply(lambda x: x[\"Depth Diff (m)\"] / sample_period, axis=1)\n",
    "    dfs.append(df)\n",
    "\n",
    "combined = pd.concat(dfs, ignore_index=True)"
   ]
  },
  {
   "cell_type": "code",
   "execution_count": 15,
   "metadata": {},
   "outputs": [
    {
     "data": {
      "text/plain": "<AxesSubplot:xlabel='Datetime (UTC-10)'>"
     },
     "execution_count": 15,
     "metadata": {},
     "output_type": "execute_result"
    },
    {
     "data": {
      "image/png": "[encoded data removed]",
      "text/plain": "<Figure size 432x288 with 1 Axes>"
     },
     "metadata": {
      "needs_background": "light"
     },
     "output_type": "display_data"
    },
    {
     "data": {
      "image/png": "[encoded data removed]",
      "text/plain": "<Figure size 432x288 with 1 Axes>"
     },
     "metadata": {
      "needs_background": "light"
     },
     "output_type": "display_data"
    }
   ],
   "source": [
    "# quick check\n",
    "combined.head(100).plot(x='Datetime (UTC-10)', y='Depth(m)')\n",
    "combined.head(100).plot(x='Datetime (UTC-10)', y='Vertical Velocity (m/s)')"
   ]
  },
  {
   "cell_type": "code",
   "execution_count": 16,
   "metadata": {},
   "outputs": [
    {
     "data": {
      "text/html": "<div>\n<style scoped>\n    .dataframe tbody tr th:only-of-type {\n        vertical-align: middle;\n    }\n\n    .dataframe tbody tr th {\n        vertical-align: top;\n    }\n\n    .dataframe thead th {\n        text-align: right;\n    }\n</style>\n<table border=\"1\" class=\"dataframe\">\n  <thead>\n    <tr style=\"text-align: right;\">\n      <th></th>\n      <th>Id</th>\n      <th>Datetime (UTC-10)</th>\n      <th>Hour (UTC-10)</th>\n      <th>Time of Day</th>\n      <th>Depth(m)</th>\n      <th>External Temp (c)</th>\n      <th>Sex</th>\n      <th>Shark Length (cm)</th>\n      <th>Time of Day (Astral)</th>\n      <th>Depth Diff (m)</th>\n      <th>Vertical Velocity (m/s)</th>\n    </tr>\n  </thead>\n  <tbody>\n    <tr>\n      <th>74309</th>\n      <td>190000400</td>\n      <td>2001-04-15 23:57:50-10:00</td>\n      <td>23</td>\n      <td>Night</td>\n      <td>223.6</td>\n      <td>15.900002</td>\n      <td>M</td>\n      <td>457.00</td>\n      <td>Night</td>\n      <td>NaN</td>\n      <td>NaN</td>\n    </tr>\n    <tr>\n      <th>190949</th>\n      <td>190400900</td>\n      <td>2005-06-10 13:59:00-10:00</td>\n      <td>13</td>\n      <td>Day</td>\n      <td>533.1</td>\n      <td>7.050000</td>\n      <td>F</td>\n      <td>396.00</td>\n      <td>Day</td>\n      <td>NaN</td>\n      <td>NaN</td>\n    </tr>\n    <tr>\n      <th>278789</th>\n      <td>190502800</td>\n      <td>2006-05-30 13:59:00-10:00</td>\n      <td>13</td>\n      <td>Day</td>\n      <td>217.1</td>\n      <td>15.450001</td>\n      <td>F</td>\n      <td>480.00</td>\n      <td>Day</td>\n      <td>NaN</td>\n      <td>NaN</td>\n    </tr>\n    <tr>\n      <th>404069</th>\n      <td>190600200</td>\n      <td>2006-09-03 13:59:00-10:00</td>\n      <td>13</td>\n      <td>Day</td>\n      <td>1.2</td>\n      <td>26.700000</td>\n      <td>F</td>\n      <td>400.00</td>\n      <td>Day</td>\n      <td>NaN</td>\n      <td>NaN</td>\n    </tr>\n    <tr>\n      <th>1077989</th>\n      <td>190601200</td>\n      <td>2007-06-05 13:59:45-10:00</td>\n      <td>13</td>\n      <td>Day</td>\n      <td>197.2</td>\n      <td>17.750000</td>\n      <td>M</td>\n      <td>426.72</td>\n      <td>Day</td>\n      <td>NaN</td>\n      <td>NaN</td>\n    </tr>\n    <tr>\n      <th>1812389</th>\n      <td>190900200</td>\n      <td>2009-06-09 13:59:50-10:00</td>\n      <td>13</td>\n      <td>Day</td>\n      <td>405.3</td>\n      <td>8.700000</td>\n      <td>F</td>\n      <td>427.00</td>\n      <td>Day</td>\n      <td>NaN</td>\n      <td>NaN</td>\n    </tr>\n  </tbody>\n</table>\n</div>",
      "text/plain": "                Id         Datetime (UTC-10)  Hour (UTC-10) Time of Day  \\\n74309    190000400 2001-04-15 23:57:50-10:00             23       Night   \n190949   190400900 2005-06-10 13:59:00-10:00             13         Day   \n278789   190502800 2006-05-30 13:59:00-10:00             13         Day   \n404069   190600200 2006-09-03 13:59:00-10:00             13         Day   \n1077989  190601200 2007-06-05 13:59:45-10:00             13         Day   \n1812389  190900200 2009-06-09 13:59:50-10:00             13         Day   \n\n         Depth(m)  External Temp (c) Sex  Shark Length (cm)  \\\n74309       223.6          15.900002   M             457.00   \n190949      533.1           7.050000   F             396.00   \n278789      217.1          15.450001   F             480.00   \n404069        1.2          26.700000   F             400.00   \n1077989     197.2          17.750000   M             426.72   \n1812389     405.3           8.700000   F             427.00   \n\n        Time of Day (Astral)  Depth Diff (m)  Vertical Velocity (m/s)  \n74309                  Night             NaN                      NaN  \n190949                   Day             NaN                      NaN  \n278789                   Day             NaN                      NaN  \n404069                   Day             NaN                      NaN  \n1077989                  Day             NaN                      NaN  \n1812389                  Day             NaN                      NaN  "
     },
     "execution_count": 16,
     "metadata": {},
     "output_type": "execute_result"
    }
   ],
   "source": [
    "combined\n",
    "combined[combined['Vertical Velocity (m/s)'].isna()]"
   ]
  },
  {
   "cell_type": "code",
   "execution_count": 17,
   "metadata": {},
   "outputs": [
    {
     "data": {
      "text/html": "<div>\n<style scoped>\n    .dataframe tbody tr th:only-of-type {\n        vertical-align: middle;\n    }\n\n    .dataframe tbody tr th {\n        vertical-align: top;\n    }\n\n    .dataframe thead th {\n        text-align: right;\n    }\n</style>\n<table border=\"1\" class=\"dataframe\">\n  <thead>\n    <tr style=\"text-align: right;\">\n      <th></th>\n      <th>Id</th>\n      <th>Datetime (UTC-10)</th>\n      <th>Hour (UTC-10)</th>\n      <th>Time of Day</th>\n      <th>Depth(m)</th>\n      <th>External Temp (c)</th>\n      <th>Sex</th>\n      <th>Shark Length (cm)</th>\n      <th>Time of Day (Astral)</th>\n      <th>Depth Diff (m)</th>\n      <th>Vertical Velocity (m/s)</th>\n      <th>Speed (m/s)</th>\n    </tr>\n  </thead>\n  <tbody>\n    <tr>\n      <th>0</th>\n      <td>190000400</td>\n      <td>2001-01-02 18:59:50-10:00</td>\n      <td>18</td>\n      <td>Dusk</td>\n      <td>38.4</td>\n      <td>24.600002</td>\n      <td>M</td>\n      <td>457.0</td>\n      <td>Dusk</td>\n      <td>-2.0</td>\n      <td>-0.016667</td>\n      <td>0.016667</td>\n    </tr>\n    <tr>\n      <th>1</th>\n      <td>190000400</td>\n      <td>2001-01-02 19:01:50-10:00</td>\n      <td>19</td>\n      <td>Night</td>\n      <td>40.4</td>\n      <td>24.600002</td>\n      <td>M</td>\n      <td>457.0</td>\n      <td>Dusk</td>\n      <td>-3.0</td>\n      <td>-0.025000</td>\n      <td>0.025000</td>\n    </tr>\n    <tr>\n      <th>2</th>\n      <td>190000400</td>\n      <td>2001-01-02 19:03:50-10:00</td>\n      <td>19</td>\n      <td>Night</td>\n      <td>43.4</td>\n      <td>24.600002</td>\n      <td>M</td>\n      <td>457.0</td>\n      <td>Dusk</td>\n      <td>-4.0</td>\n      <td>-0.033333</td>\n      <td>0.033333</td>\n    </tr>\n    <tr>\n      <th>3</th>\n      <td>190000400</td>\n      <td>2001-01-02 19:05:50-10:00</td>\n      <td>19</td>\n      <td>Night</td>\n      <td>47.4</td>\n      <td>24.600002</td>\n      <td>M</td>\n      <td>457.0</td>\n      <td>Dusk</td>\n      <td>-6.0</td>\n      <td>-0.050000</td>\n      <td>0.050000</td>\n    </tr>\n    <tr>\n      <th>4</th>\n      <td>190000400</td>\n      <td>2001-01-02 19:07:50-10:00</td>\n      <td>19</td>\n      <td>Night</td>\n      <td>53.4</td>\n      <td>24.450001</td>\n      <td>M</td>\n      <td>457.0</td>\n      <td>Dusk</td>\n      <td>-9.0</td>\n      <td>-0.075000</td>\n      <td>0.075000</td>\n    </tr>\n    <tr>\n      <th>...</th>\n      <td>...</td>\n      <td>...</td>\n      <td>...</td>\n      <td>...</td>\n      <td>...</td>\n      <td>...</td>\n      <td>...</td>\n      <td>...</td>\n      <td>...</td>\n      <td>...</td>\n      <td>...</td>\n      <td>...</td>\n    </tr>\n    <tr>\n      <th>1812385</th>\n      <td>190900200</td>\n      <td>2009-06-09 13:59:10-10:00</td>\n      <td>13</td>\n      <td>Day</td>\n      <td>405.8</td>\n      <td>8.700000</td>\n      <td>F</td>\n      <td>427.0</td>\n      <td>Day</td>\n      <td>0.5</td>\n      <td>0.050000</td>\n      <td>0.050000</td>\n    </tr>\n    <tr>\n      <th>1812386</th>\n      <td>190900200</td>\n      <td>2009-06-09 13:59:20-10:00</td>\n      <td>13</td>\n      <td>Day</td>\n      <td>405.3</td>\n      <td>8.700000</td>\n      <td>F</td>\n      <td>427.0</td>\n      <td>Day</td>\n      <td>-0.5</td>\n      <td>-0.050000</td>\n      <td>0.050000</td>\n    </tr>\n    <tr>\n      <th>1812387</th>\n      <td>190900200</td>\n      <td>2009-06-09 13:59:30-10:00</td>\n      <td>13</td>\n      <td>Day</td>\n      <td>405.8</td>\n      <td>8.700000</td>\n      <td>F</td>\n      <td>427.0</td>\n      <td>Day</td>\n      <td>0.0</td>\n      <td>0.000000</td>\n      <td>0.000000</td>\n    </tr>\n    <tr>\n      <th>1812388</th>\n      <td>190900200</td>\n      <td>2009-06-09 13:59:40-10:00</td>\n      <td>13</td>\n      <td>Day</td>\n      <td>405.8</td>\n      <td>8.700000</td>\n      <td>F</td>\n      <td>427.0</td>\n      <td>Day</td>\n      <td>0.5</td>\n      <td>0.050000</td>\n      <td>0.050000</td>\n    </tr>\n    <tr>\n      <th>1812389</th>\n      <td>190900200</td>\n      <td>2009-06-09 13:59:50-10:00</td>\n      <td>13</td>\n      <td>Day</td>\n      <td>405.3</td>\n      <td>8.700000</td>\n      <td>F</td>\n      <td>427.0</td>\n      <td>Day</td>\n      <td>NaN</td>\n      <td>NaN</td>\n      <td>NaN</td>\n    </tr>\n  </tbody>\n</table>\n<p>1812390 rows × 12 columns</p>\n</div>",
      "text/plain": "                Id         Datetime (UTC-10)  Hour (UTC-10) Time of Day  \\\n0        190000400 2001-01-02 18:59:50-10:00             18        Dusk   \n1        190000400 2001-01-02 19:01:50-10:00             19       Night   \n2        190000400 2001-01-02 19:03:50-10:00             19       Night   \n3        190000400 2001-01-02 19:05:50-10:00             19       Night   \n4        190000400 2001-01-02 19:07:50-10:00             19       Night   \n...            ...                       ...            ...         ...   \n1812385  190900200 2009-06-09 13:59:10-10:00             13         Day   \n1812386  190900200 2009-06-09 13:59:20-10:00             13         Day   \n1812387  190900200 2009-06-09 13:59:30-10:00             13         Day   \n1812388  190900200 2009-06-09 13:59:40-10:00             13         Day   \n1812389  190900200 2009-06-09 13:59:50-10:00             13         Day   \n\n         Depth(m)  External Temp (c) Sex  Shark Length (cm)  \\\n0            38.4          24.600002   M              457.0   \n1            40.4          24.600002   M              457.0   \n2            43.4          24.600002   M              457.0   \n3            47.4          24.600002   M              457.0   \n4            53.4          24.450001   M              457.0   \n...           ...                ...  ..                ...   \n1812385     405.8           8.700000   F              427.0   \n1812386     405.3           8.700000   F              427.0   \n1812387     405.8           8.700000   F              427.0   \n1812388     405.8           8.700000   F              427.0   \n1812389     405.3           8.700000   F              427.0   \n\n        Time of Day (Astral)  Depth Diff (m)  Vertical Velocity (m/s)  \\\n0                       Dusk            -2.0                -0.016667   \n1                       Dusk            -3.0                -0.025000   \n2                       Dusk            -4.0                -0.033333   \n3                       Dusk            -6.0                -0.050000   \n4                       Dusk            -9.0                -0.075000   \n...                      ...             ...                      ...   \n1812385                  Day             0.5                 0.050000   \n1812386                  Day            -0.5                -0.050000   \n1812387                  Day             0.0                 0.000000   \n1812388                  Day             0.5                 0.050000   \n1812389                  Day             NaN                      NaN   \n\n         Speed (m/s)  \n0           0.016667  \n1           0.025000  \n2           0.033333  \n3           0.050000  \n4           0.075000  \n...              ...  \n1812385     0.050000  \n1812386     0.050000  \n1812387     0.000000  \n1812388     0.050000  \n1812389          NaN  \n\n[1812390 rows x 12 columns]"
     },
     "execution_count": 17,
     "metadata": {},
     "output_type": "execute_result"
    }
   ],
   "source": [
    "combined['Speed (m/s)'] = combined['Vertical Velocity (m/s)'].swifter.apply(np.abs)\n",
    "combined"
   ]
  },
  {
   "cell_type": "markdown",
   "metadata": {},
   "source": [
    "# Find the Moon Phase Using Astral"
   ]
  },
  {
   "cell_type": "code",
   "execution_count": 18,
   "metadata": {},
   "outputs": [],
   "source": [
    "from astral import moon"
   ]
  },
  {
   "cell_type": "code",
   "execution_count": 19,
   "metadata": {},
   "outputs": [],
   "source": [
    "def get_moon_phase(date_time):\n",
    "    \"\"\"\n",
    "    Given a datetime object, returns the corresponding \n",
    "    moon phase as a string.\n",
    "    \"\"\"\n",
    "    phase_num = moon.phase(datetime.date(date_time.year, date_time.month, date_time.day))\n",
    "\n",
    "    # convert phase int to str\n",
    "    if (phase_num >= 0.0) and (phase_num <= 6.99):\n",
    "        return 'New Moon'\n",
    "    elif (phase_num >= 7.0) and (phase_num <= 13.99):\n",
    "        return 'First Quarter'\n",
    "    elif (phase_num >= 14.0) and (phase_num <= 20.99):\n",
    "        return 'Full Moon'\n",
    "    elif (phase_num >= 21.0) and (phase_num <= 27.99):\n",
    "        return 'Last Quarter'\n",
    "    else:\n",
    "        return np.NaN"
   ]
  },
  {
   "cell_type": "code",
   "execution_count": 20,
   "metadata": {},
   "outputs": [
    {
     "data": {
      "application/vnd.jupyter.widget-view+json": {
       "model_id": "92fbe3c917054abf88abb079f01b2455",
       "version_major": 2,
       "version_minor": 0
      },
      "text/plain": "Dask Apply:   0%|          | 0/32 [00:00<?, ?it/s]"
     },
     "metadata": {},
     "output_type": "display_data"
    },
    {
     "data": {
      "text/html": "<div>\n<style scoped>\n    .dataframe tbody tr th:only-of-type {\n        vertical-align: middle;\n    }\n\n    .dataframe tbody tr th {\n        vertical-align: top;\n    }\n\n    .dataframe thead th {\n        text-align: right;\n    }\n</style>\n<table border=\"1\" class=\"dataframe\">\n  <thead>\n    <tr style=\"text-align: right;\">\n      <th></th>\n      <th>Id</th>\n      <th>Datetime (UTC-10)</th>\n      <th>Hour (UTC-10)</th>\n      <th>Time of Day</th>\n      <th>Depth(m)</th>\n      <th>External Temp (c)</th>\n      <th>Sex</th>\n      <th>Shark Length (cm)</th>\n      <th>Time of Day (Astral)</th>\n      <th>Depth Diff (m)</th>\n      <th>Vertical Velocity (m/s)</th>\n      <th>Speed (m/s)</th>\n      <th>Moon Phase</th>\n    </tr>\n  </thead>\n  <tbody>\n    <tr>\n      <th>0</th>\n      <td>190000400</td>\n      <td>2001-01-02 18:59:50-10:00</td>\n      <td>18</td>\n      <td>Dusk</td>\n      <td>38.4</td>\n      <td>24.600002</td>\n      <td>M</td>\n      <td>457.0</td>\n      <td>Dusk</td>\n      <td>-2.0</td>\n      <td>-0.016667</td>\n      <td>0.016667</td>\n      <td>New Moon</td>\n    </tr>\n    <tr>\n      <th>1</th>\n      <td>190000400</td>\n      <td>2001-01-02 19:01:50-10:00</td>\n      <td>19</td>\n      <td>Night</td>\n      <td>40.4</td>\n      <td>24.600002</td>\n      <td>M</td>\n      <td>457.0</td>\n      <td>Dusk</td>\n      <td>-3.0</td>\n      <td>-0.025000</td>\n      <td>0.025000</td>\n      <td>New Moon</td>\n    </tr>\n    <tr>\n      <th>2</th>\n      <td>190000400</td>\n      <td>2001-01-02 19:03:50-10:00</td>\n      <td>19</td>\n      <td>Night</td>\n      <td>43.4</td>\n      <td>24.600002</td>\n      <td>M</td>\n      <td>457.0</td>\n      <td>Dusk</td>\n      <td>-4.0</td>\n      <td>-0.033333</td>\n      <td>0.033333</td>\n      <td>New Moon</td>\n    </tr>\n    <tr>\n      <th>3</th>\n      <td>190000400</td>\n      <td>2001-01-02 19:05:50-10:00</td>\n      <td>19</td>\n      <td>Night</td>\n      <td>47.4</td>\n      <td>24.600002</td>\n      <td>M</td>\n      <td>457.0</td>\n      <td>Dusk</td>\n      <td>-6.0</td>\n      <td>-0.050000</td>\n      <td>0.050000</td>\n      <td>New Moon</td>\n    </tr>\n    <tr>\n      <th>4</th>\n      <td>190000400</td>\n      <td>2001-01-02 19:07:50-10:00</td>\n      <td>19</td>\n      <td>Night</td>\n      <td>53.4</td>\n      <td>24.450001</td>\n      <td>M</td>\n      <td>457.0</td>\n      <td>Dusk</td>\n      <td>-9.0</td>\n      <td>-0.075000</td>\n      <td>0.075000</td>\n      <td>New Moon</td>\n    </tr>\n    <tr>\n      <th>...</th>\n      <td>...</td>\n      <td>...</td>\n      <td>...</td>\n      <td>...</td>\n      <td>...</td>\n      <td>...</td>\n      <td>...</td>\n      <td>...</td>\n      <td>...</td>\n      <td>...</td>\n      <td>...</td>\n      <td>...</td>\n      <td>...</td>\n    </tr>\n    <tr>\n      <th>1812385</th>\n      <td>190900200</td>\n      <td>2009-06-09 13:59:10-10:00</td>\n      <td>13</td>\n      <td>Day</td>\n      <td>405.8</td>\n      <td>8.700000</td>\n      <td>F</td>\n      <td>427.0</td>\n      <td>Day</td>\n      <td>0.5</td>\n      <td>0.050000</td>\n      <td>0.050000</td>\n      <td>Full Moon</td>\n    </tr>\n    <tr>\n      <th>1812386</th>\n      <td>190900200</td>\n      <td>2009-06-09 13:59:20-10:00</td>\n      <td>13</td>\n      <td>Day</td>\n      <td>405.3</td>\n      <td>8.700000</td>\n      <td>F</td>\n      <td>427.0</td>\n      <td>Day</td>\n      <td>-0.5</td>\n      <td>-0.050000</td>\n      <td>0.050000</td>\n      <td>Full Moon</td>\n    </tr>\n    <tr>\n      <th>1812387</th>\n      <td>190900200</td>\n      <td>2009-06-09 13:59:30-10:00</td>\n      <td>13</td>\n      <td>Day</td>\n      <td>405.8</td>\n      <td>8.700000</td>\n      <td>F</td>\n      <td>427.0</td>\n      <td>Day</td>\n      <td>0.0</td>\n      <td>0.000000</td>\n      <td>0.000000</td>\n      <td>Full Moon</td>\n    </tr>\n    <tr>\n      <th>1812388</th>\n      <td>190900200</td>\n      <td>2009-06-09 13:59:40-10:00</td>\n      <td>13</td>\n      <td>Day</td>\n      <td>405.8</td>\n      <td>8.700000</td>\n      <td>F</td>\n      <td>427.0</td>\n      <td>Day</td>\n      <td>0.5</td>\n      <td>0.050000</td>\n      <td>0.050000</td>\n      <td>Full Moon</td>\n    </tr>\n    <tr>\n      <th>1812389</th>\n      <td>190900200</td>\n      <td>2009-06-09 13:59:50-10:00</td>\n      <td>13</td>\n      <td>Day</td>\n      <td>405.3</td>\n      <td>8.700000</td>\n      <td>F</td>\n      <td>427.0</td>\n      <td>Day</td>\n      <td>NaN</td>\n      <td>NaN</td>\n      <td>NaN</td>\n      <td>Full Moon</td>\n    </tr>\n  </tbody>\n</table>\n<p>1812390 rows × 13 columns</p>\n</div>",
      "text/plain": "                Id         Datetime (UTC-10)  Hour (UTC-10) Time of Day  \\\n0        190000400 2001-01-02 18:59:50-10:00             18        Dusk   \n1        190000400 2001-01-02 19:01:50-10:00             19       Night   \n2        190000400 2001-01-02 19:03:50-10:00             19       Night   \n3        190000400 2001-01-02 19:05:50-10:00             19       Night   \n4        190000400 2001-01-02 19:07:50-10:00             19       Night   \n...            ...                       ...            ...         ...   \n1812385  190900200 2009-06-09 13:59:10-10:00             13         Day   \n1812386  190900200 2009-06-09 13:59:20-10:00             13         Day   \n1812387  190900200 2009-06-09 13:59:30-10:00             13         Day   \n1812388  190900200 2009-06-09 13:59:40-10:00             13         Day   \n1812389  190900200 2009-06-09 13:59:50-10:00             13         Day   \n\n         Depth(m)  External Temp (c) Sex  Shark Length (cm)  \\\n0            38.4          24.600002   M              457.0   \n1            40.4          24.600002   M              457.0   \n2            43.4          24.600002   M              457.0   \n3            47.4          24.600002   M              457.0   \n4            53.4          24.450001   M              457.0   \n...           ...                ...  ..                ...   \n1812385     405.8           8.700000   F              427.0   \n1812386     405.3           8.700000   F              427.0   \n1812387     405.8           8.700000   F              427.0   \n1812388     405.8           8.700000   F              427.0   \n1812389     405.3           8.700000   F              427.0   \n\n        Time of Day (Astral)  Depth Diff (m)  Vertical Velocity (m/s)  \\\n0                       Dusk            -2.0                -0.016667   \n1                       Dusk            -3.0                -0.025000   \n2                       Dusk            -4.0                -0.033333   \n3                       Dusk            -6.0                -0.050000   \n4                       Dusk            -9.0                -0.075000   \n...                      ...             ...                      ...   \n1812385                  Day             0.5                 0.050000   \n1812386                  Day            -0.5                -0.050000   \n1812387                  Day             0.0                 0.000000   \n1812388                  Day             0.5                 0.050000   \n1812389                  Day             NaN                      NaN   \n\n         Speed (m/s) Moon Phase  \n0           0.016667   New Moon  \n1           0.025000   New Moon  \n2           0.033333   New Moon  \n3           0.050000   New Moon  \n4           0.075000   New Moon  \n...              ...        ...  \n1812385     0.050000  Full Moon  \n1812386     0.050000  Full Moon  \n1812387     0.000000  Full Moon  \n1812388     0.050000  Full Moon  \n1812389          NaN  Full Moon  \n\n[1812390 rows x 13 columns]"
     },
     "execution_count": 20,
     "metadata": {},
     "output_type": "execute_result"
    }
   ],
   "source": [
    "# populate a moon phase column\n",
    "combined['Moon Phase'] = combined.swifter.apply(lambda x: get_moon_phase(x[\"Datetime (UTC-10)\"]), axis=1)\n",
    "combined"
   ]
  },
  {
   "cell_type": "code",
   "execution_count": 21,
   "metadata": {},
   "outputs": [
    {
     "data": {
      "text/html": "<div>\n<style scoped>\n    .dataframe tbody tr th:only-of-type {\n        vertical-align: middle;\n    }\n\n    .dataframe tbody tr th {\n        vertical-align: top;\n    }\n\n    .dataframe thead th {\n        text-align: right;\n    }\n</style>\n<table border=\"1\" class=\"dataframe\">\n  <thead>\n    <tr style=\"text-align: right;\">\n      <th></th>\n      <th>Id</th>\n      <th>Datetime (UTC-10)</th>\n      <th>Hour (UTC-10)</th>\n      <th>Time of Day</th>\n      <th>Depth(m)</th>\n      <th>External Temp (c)</th>\n      <th>Sex</th>\n      <th>Shark Length (cm)</th>\n      <th>Time of Day (Astral)</th>\n      <th>Depth Diff (m)</th>\n      <th>Vertical Velocity (m/s)</th>\n      <th>Speed (m/s)</th>\n      <th>Moon Phase</th>\n    </tr>\n  </thead>\n  <tbody>\n  </tbody>\n</table>\n</div>",
      "text/plain": "Empty DataFrame\nColumns: [Id, Datetime (UTC-10), Hour (UTC-10), Time of Day, Depth(m), External Temp (c), Sex, Shark Length (cm), Time of Day (Astral), Depth Diff (m), Vertical Velocity (m/s), Speed (m/s), Moon Phase]\nIndex: []"
     },
     "execution_count": 21,
     "metadata": {},
     "output_type": "execute_result"
    }
   ],
   "source": [
    "# check for missing values\n",
    "combined[combined['Moon Phase'].isna()]"
   ]
  },
  {
   "cell_type": "markdown",
   "metadata": {},
   "source": [
    "# Approximating max dive depth, dive length, and dive frequency"
   ]
  },
  {
   "cell_type": "code",
   "execution_count": 22,
   "metadata": {},
   "outputs": [],
   "source": [
    "def get_max_depth(df, id):\n",
    "    \"\"\"\n",
    "    Given a df containing columns\n",
    "    'Id' and 'Depth(m)' returns the \n",
    "    maximum value from the 'Depth(m)'\n",
    "    column for given 'Id'.\n",
    "    \"\"\"\n",
    "    sh = df.loc[df['Id'] == id]\n",
    "    return sh['Depth(m)'].max()"
   ]
  },
  {
   "cell_type": "code",
   "execution_count": 23,
   "metadata": {},
   "outputs": [
    {
     "data": {
      "application/vnd.jupyter.widget-view+json": {
       "model_id": "693868df4ae84b9393d21bf098ec9c90",
       "version_major": 2,
       "version_minor": 0
      },
      "text/plain": "Dask Apply:   0%|          | 0/5 [00:00<?, ?it/s]"
     },
     "metadata": {},
     "output_type": "display_data"
    }
   ],
   "source": [
    "# find the max diving depth\n",
    "meta_df['eventid'] = meta_df['eventid'].astype(str)\n",
    "meta_df['Max Depth Recorded (m)'] = meta_df.swifter.apply(lambda row: get_max_depth(combined, row['eventid']), axis=1)"
   ]
  },
  {
   "cell_type": "code",
   "execution_count": 24,
   "metadata": {},
   "outputs": [
    {
     "data": {
      "text/html": "<div>\n<style scoped>\n    .dataframe tbody tr th:only-of-type {\n        vertical-align: middle;\n    }\n\n    .dataframe tbody tr th {\n        vertical-align: top;\n    }\n\n    .dataframe thead th {\n        text-align: right;\n    }\n</style>\n<table border=\"1\" class=\"dataframe\">\n  <thead>\n    <tr style=\"text-align: right;\">\n      <th></th>\n      <th>Unnamed: 0</th>\n      <th>eventid</th>\n      <th>tagnumber</th>\n      <th>ptt</th>\n      <th>taggingdate</th>\n      <th>length</th>\n      <th>sex</th>\n      <th>firstdate</th>\n      <th>lastdate</th>\n      <th>Sampling Period (sec)</th>\n      <th>Max Depth Recorded (m)</th>\n    </tr>\n  </thead>\n  <tbody>\n    <tr>\n      <th>0</th>\n      <td>0</td>\n      <td>190000400</td>\n      <td>00P0291</td>\n      <td>29711</td>\n      <td>2000-10-16</td>\n      <td>457.00</td>\n      <td>M</td>\n      <td>01/03/2001 05:00</td>\n      <td>04/16/2001 05:00</td>\n      <td>120</td>\n      <td>612.0</td>\n    </tr>\n    <tr>\n      <th>1</th>\n      <td>1</td>\n      <td>190400900</td>\n      <td>04P0160</td>\n      <td>52933</td>\n      <td>2004-11-30</td>\n      <td>396.00</td>\n      <td>F</td>\n      <td>03/22/2005 05:00</td>\n      <td>06/10/2005 05:00</td>\n      <td>60</td>\n      <td>981.1</td>\n    </tr>\n    <tr>\n      <th>2</th>\n      <td>2</td>\n      <td>190502800</td>\n      <td>05P0132</td>\n      <td>62021</td>\n      <td>2005-12-15</td>\n      <td>480.00</td>\n      <td>F</td>\n      <td>03/31/2006 05:00</td>\n      <td>05/30/2006 05:00</td>\n      <td>60</td>\n      <td>549.1</td>\n    </tr>\n    <tr>\n      <th>3</th>\n      <td>3</td>\n      <td>190600200</td>\n      <td>05P0059</td>\n      <td>60983</td>\n      <td>2006-01-21</td>\n      <td>400.00</td>\n      <td>F</td>\n      <td>06/09/2006 05:00</td>\n      <td>09/03/2006 05:00</td>\n      <td>60</td>\n      <td>580.8</td>\n    </tr>\n    <tr>\n      <th>4</th>\n      <td>4</td>\n      <td>190601200</td>\n      <td>06A0555</td>\n      <td>68281</td>\n      <td>2006-10-10</td>\n      <td>426.72</td>\n      <td>M</td>\n      <td>02/09/2007 05:00</td>\n      <td>06/05/2007 05:00</td>\n      <td>15</td>\n      <td>691.5</td>\n    </tr>\n    <tr>\n      <th>5</th>\n      <td>5</td>\n      <td>190900200</td>\n      <td>08A0599</td>\n      <td>87568</td>\n      <td>2009-01-19</td>\n      <td>427.00</td>\n      <td>F</td>\n      <td>03/17/2009 05:00</td>\n      <td>06/09/2009 05:00</td>\n      <td>10</td>\n      <td>990.9</td>\n    </tr>\n  </tbody>\n</table>\n</div>",
      "text/plain": "   Unnamed: 0    eventid tagnumber    ptt taggingdate  length sex  \\\n0           0  190000400   00P0291  29711  2000-10-16  457.00   M   \n1           1  190400900   04P0160  52933  2004-11-30  396.00   F   \n2           2  190502800   05P0132  62021  2005-12-15  480.00   F   \n3           3  190600200   05P0059  60983  2006-01-21  400.00   F   \n4           4  190601200   06A0555  68281  2006-10-10  426.72   M   \n5           5  190900200   08A0599  87568  2009-01-19  427.00   F   \n\n          firstdate          lastdate  Sampling Period (sec)  \\\n0  01/03/2001 05:00  04/16/2001 05:00                    120   \n1  03/22/2005 05:00  06/10/2005 05:00                     60   \n2  03/31/2006 05:00  05/30/2006 05:00                     60   \n3  06/09/2006 05:00  09/03/2006 05:00                     60   \n4  02/09/2007 05:00  06/05/2007 05:00                     15   \n5  03/17/2009 05:00  06/09/2009 05:00                     10   \n\n   Max Depth Recorded (m)  \n0                   612.0  \n1                   981.1  \n2                   549.1  \n3                   580.8  \n4                   691.5  \n5                   990.9  "
     },
     "execution_count": 24,
     "metadata": {},
     "output_type": "execute_result"
    }
   ],
   "source": [
    "meta_df"
   ]
  },
  {
   "cell_type": "code",
   "execution_count": 25,
   "metadata": {},
   "outputs": [],
   "source": [
    "# def get_hourly_dive_frequency(df):\n",
    "#     \"\"\"\n",
    "#     Given a series of depth measurements (m)\n",
    "#     spannig the course of an hour,\n",
    "#     finds the number of unique times that depth\n",
    "#     drops below 50 m.\n",
    "#     \"\"\"\n",
    "#     result = 0\n",
    "\n",
    "#     previous_depth = 0\n",
    "#     for index, depth in df.iteritems():\n",
    "#         if (previous_depth < 50) and (depth > 50):\n",
    "#             result += 1\n",
    "#         previous_depth = depth\n",
    "    \n",
    "#     return result"
   ]
  },
  {
   "cell_type": "code",
   "execution_count": 26,
   "metadata": {},
   "outputs": [],
   "source": [
    "# dfs = []\n",
    "# for Id in meta_df['eventid']:\n",
    "#     sh = combined[combined['Id'] == str(id)]\n",
    "\n",
    "#     sample_period_sec = meta_df[meta_df['eventid'] == Id]['Sampling Period (sec)']\n",
    "#     num_samples_in_hour = int(3600 / sample_period_sec)\n",
    "#     sh['Hourly Dive Frequency (dives/hr)'] = sh['Depth(m)'].rolling(num_samples_in_hour).apply(get_hourly_dive_frequency)\n",
    "#     dfs.append(sh)\n",
    "\n",
    "# combined = pd.concat(dfs, ignore_index=True)"
   ]
  },
  {
   "cell_type": "code",
   "execution_count": 27,
   "metadata": {},
   "outputs": [
    {
     "data": {
      "text/html": "<div>\n<style scoped>\n    .dataframe tbody tr th:only-of-type {\n        vertical-align: middle;\n    }\n\n    .dataframe tbody tr th {\n        vertical-align: top;\n    }\n\n    .dataframe thead th {\n        text-align: right;\n    }\n</style>\n<table border=\"1\" class=\"dataframe\">\n  <thead>\n    <tr style=\"text-align: right;\">\n      <th></th>\n      <th>Id</th>\n      <th>Datetime (UTC-10)</th>\n      <th>Hour (UTC-10)</th>\n      <th>Time of Day</th>\n      <th>Depth(m)</th>\n      <th>External Temp (c)</th>\n      <th>Sex</th>\n      <th>Shark Length (cm)</th>\n      <th>Time of Day (Astral)</th>\n      <th>Depth Diff (m)</th>\n      <th>Vertical Velocity (m/s)</th>\n      <th>Speed (m/s)</th>\n      <th>Moon Phase</th>\n    </tr>\n  </thead>\n  <tbody>\n    <tr>\n      <th>0</th>\n      <td>190000400</td>\n      <td>2001-01-02 18:59:50-10:00</td>\n      <td>18</td>\n      <td>Dusk</td>\n      <td>38.4</td>\n      <td>24.600002</td>\n      <td>M</td>\n      <td>457.0</td>\n      <td>Dusk</td>\n      <td>-2.0</td>\n      <td>-0.016667</td>\n      <td>0.016667</td>\n      <td>New Moon</td>\n    </tr>\n    <tr>\n      <th>1</th>\n      <td>190000400</td>\n      <td>2001-01-02 19:01:50-10:00</td>\n      <td>19</td>\n      <td>Night</td>\n      <td>40.4</td>\n      <td>24.600002</td>\n      <td>M</td>\n      <td>457.0</td>\n      <td>Dusk</td>\n      <td>-3.0</td>\n      <td>-0.025000</td>\n      <td>0.025000</td>\n      <td>New Moon</td>\n    </tr>\n    <tr>\n      <th>2</th>\n      <td>190000400</td>\n      <td>2001-01-02 19:03:50-10:00</td>\n      <td>19</td>\n      <td>Night</td>\n      <td>43.4</td>\n      <td>24.600002</td>\n      <td>M</td>\n      <td>457.0</td>\n      <td>Dusk</td>\n      <td>-4.0</td>\n      <td>-0.033333</td>\n      <td>0.033333</td>\n      <td>New Moon</td>\n    </tr>\n    <tr>\n      <th>3</th>\n      <td>190000400</td>\n      <td>2001-01-02 19:05:50-10:00</td>\n      <td>19</td>\n      <td>Night</td>\n      <td>47.4</td>\n      <td>24.600002</td>\n      <td>M</td>\n      <td>457.0</td>\n      <td>Dusk</td>\n      <td>-6.0</td>\n      <td>-0.050000</td>\n      <td>0.050000</td>\n      <td>New Moon</td>\n    </tr>\n    <tr>\n      <th>4</th>\n      <td>190000400</td>\n      <td>2001-01-02 19:07:50-10:00</td>\n      <td>19</td>\n      <td>Night</td>\n      <td>53.4</td>\n      <td>24.450001</td>\n      <td>M</td>\n      <td>457.0</td>\n      <td>Dusk</td>\n      <td>-9.0</td>\n      <td>-0.075000</td>\n      <td>0.075000</td>\n      <td>New Moon</td>\n    </tr>\n    <tr>\n      <th>...</th>\n      <td>...</td>\n      <td>...</td>\n      <td>...</td>\n      <td>...</td>\n      <td>...</td>\n      <td>...</td>\n      <td>...</td>\n      <td>...</td>\n      <td>...</td>\n      <td>...</td>\n      <td>...</td>\n      <td>...</td>\n      <td>...</td>\n    </tr>\n    <tr>\n      <th>1812385</th>\n      <td>190900200</td>\n      <td>2009-06-09 13:59:10-10:00</td>\n      <td>13</td>\n      <td>Day</td>\n      <td>405.8</td>\n      <td>8.700000</td>\n      <td>F</td>\n      <td>427.0</td>\n      <td>Day</td>\n      <td>0.5</td>\n      <td>0.050000</td>\n      <td>0.050000</td>\n      <td>Full Moon</td>\n    </tr>\n    <tr>\n      <th>1812386</th>\n      <td>190900200</td>\n      <td>2009-06-09 13:59:20-10:00</td>\n      <td>13</td>\n      <td>Day</td>\n      <td>405.3</td>\n      <td>8.700000</td>\n      <td>F</td>\n      <td>427.0</td>\n      <td>Day</td>\n      <td>-0.5</td>\n      <td>-0.050000</td>\n      <td>0.050000</td>\n      <td>Full Moon</td>\n    </tr>\n    <tr>\n      <th>1812387</th>\n      <td>190900200</td>\n      <td>2009-06-09 13:59:30-10:00</td>\n      <td>13</td>\n      <td>Day</td>\n      <td>405.8</td>\n      <td>8.700000</td>\n      <td>F</td>\n      <td>427.0</td>\n      <td>Day</td>\n      <td>0.0</td>\n      <td>0.000000</td>\n      <td>0.000000</td>\n      <td>Full Moon</td>\n    </tr>\n    <tr>\n      <th>1812388</th>\n      <td>190900200</td>\n      <td>2009-06-09 13:59:40-10:00</td>\n      <td>13</td>\n      <td>Day</td>\n      <td>405.8</td>\n      <td>8.700000</td>\n      <td>F</td>\n      <td>427.0</td>\n      <td>Day</td>\n      <td>0.5</td>\n      <td>0.050000</td>\n      <td>0.050000</td>\n      <td>Full Moon</td>\n    </tr>\n    <tr>\n      <th>1812389</th>\n      <td>190900200</td>\n      <td>2009-06-09 13:59:50-10:00</td>\n      <td>13</td>\n      <td>Day</td>\n      <td>405.3</td>\n      <td>8.700000</td>\n      <td>F</td>\n      <td>427.0</td>\n      <td>Day</td>\n      <td>NaN</td>\n      <td>NaN</td>\n      <td>NaN</td>\n      <td>Full Moon</td>\n    </tr>\n  </tbody>\n</table>\n<p>1812390 rows × 13 columns</p>\n</div>",
      "text/plain": "                Id         Datetime (UTC-10)  Hour (UTC-10) Time of Day  \\\n0        190000400 2001-01-02 18:59:50-10:00             18        Dusk   \n1        190000400 2001-01-02 19:01:50-10:00             19       Night   \n2        190000400 2001-01-02 19:03:50-10:00             19       Night   \n3        190000400 2001-01-02 19:05:50-10:00             19       Night   \n4        190000400 2001-01-02 19:07:50-10:00             19       Night   \n...            ...                       ...            ...         ...   \n1812385  190900200 2009-06-09 13:59:10-10:00             13         Day   \n1812386  190900200 2009-06-09 13:59:20-10:00             13         Day   \n1812387  190900200 2009-06-09 13:59:30-10:00             13         Day   \n1812388  190900200 2009-06-09 13:59:40-10:00             13         Day   \n1812389  190900200 2009-06-09 13:59:50-10:00             13         Day   \n\n         Depth(m)  External Temp (c) Sex  Shark Length (cm)  \\\n0            38.4          24.600002   M              457.0   \n1            40.4          24.600002   M              457.0   \n2            43.4          24.600002   M              457.0   \n3            47.4          24.600002   M              457.0   \n4            53.4          24.450001   M              457.0   \n...           ...                ...  ..                ...   \n1812385     405.8           8.700000   F              427.0   \n1812386     405.3           8.700000   F              427.0   \n1812387     405.8           8.700000   F              427.0   \n1812388     405.8           8.700000   F              427.0   \n1812389     405.3           8.700000   F              427.0   \n\n        Time of Day (Astral)  Depth Diff (m)  Vertical Velocity (m/s)  \\\n0                       Dusk            -2.0                -0.016667   \n1                       Dusk            -3.0                -0.025000   \n2                       Dusk            -4.0                -0.033333   \n3                       Dusk            -6.0                -0.050000   \n4                       Dusk            -9.0                -0.075000   \n...                      ...             ...                      ...   \n1812385                  Day             0.5                 0.050000   \n1812386                  Day            -0.5                -0.050000   \n1812387                  Day             0.0                 0.000000   \n1812388                  Day             0.5                 0.050000   \n1812389                  Day             NaN                      NaN   \n\n         Speed (m/s) Moon Phase  \n0           0.016667   New Moon  \n1           0.025000   New Moon  \n2           0.033333   New Moon  \n3           0.050000   New Moon  \n4           0.075000   New Moon  \n...              ...        ...  \n1812385     0.050000  Full Moon  \n1812386     0.050000  Full Moon  \n1812387     0.000000  Full Moon  \n1812388     0.050000  Full Moon  \n1812389          NaN  Full Moon  \n\n[1812390 rows x 13 columns]"
     },
     "execution_count": 27,
     "metadata": {},
     "output_type": "execute_result"
    }
   ],
   "source": [
    "combined"
   ]
  },
  {
   "cell_type": "markdown",
   "metadata": {},
   "source": [
    "# Computing dive ratio\n",
    "Vertical velocity used to split the depth record into vertical swimming phases (i.e., < 0 = descending, 0 = level swimming, > 0 = ascending). The proportion of time spent moving vertically (ascending and descending), termed the “diving ratio,” was also calculated by determining the percentage of time vertically moving within an hour, as described in Andrzejaczek et al., 2020."
   ]
  },
  {
   "cell_type": "code",
   "execution_count": 30,
   "metadata": {},
   "outputs": [
    {
     "name": "stderr",
     "output_type": "stream",
     "text": [
      "/var/folders/57/9723dmls3r5f8py4fcxpmz1r0000gp/T/ipykernel_76132/4183685992.py:14: SettingWithCopyWarning: \n",
      "A value is trying to be set on a copy of a slice from a DataFrame.\n",
      "Try using .loc[row_indexer,col_indexer] = value instead\n",
      "\n",
      "See the caveats in the documentation: https://pandas.pydata.org/pandas-docs/stable/user_guide/indexing.html#returning-a-view-versus-a-copy\n",
      "  sh['Date to join on'] = sh['Datetime (UTC-10)'].dt.strftime('%m-%d-%Y %H')\n",
      "/var/folders/57/9723dmls3r5f8py4fcxpmz1r0000gp/T/ipykernel_76132/4183685992.py:17: SettingWithCopyWarning: \n",
      "A value is trying to be set on a copy of a slice from a DataFrame.\n",
      "Try using .loc[row_indexer,col_indexer] = value instead\n",
      "\n",
      "See the caveats in the documentation: https://pandas.pydata.org/pandas-docs/stable/user_guide/indexing.html#returning-a-view-versus-a-copy\n",
      "  sh.loc[sh['Vertical Velocity (m/s)'] > 0, 'Is non-zero VV'] = 1\n",
      "/var/folders/57/9723dmls3r5f8py4fcxpmz1r0000gp/T/ipykernel_76132/4183685992.py:14: SettingWithCopyWarning: \n",
      "A value is trying to be set on a copy of a slice from a DataFrame.\n",
      "Try using .loc[row_indexer,col_indexer] = value instead\n",
      "\n",
      "See the caveats in the documentation: https://pandas.pydata.org/pandas-docs/stable/user_guide/indexing.html#returning-a-view-versus-a-copy\n",
      "  sh['Date to join on'] = sh['Datetime (UTC-10)'].dt.strftime('%m-%d-%Y %H')\n",
      "/var/folders/57/9723dmls3r5f8py4fcxpmz1r0000gp/T/ipykernel_76132/4183685992.py:17: SettingWithCopyWarning: \n",
      "A value is trying to be set on a copy of a slice from a DataFrame.\n",
      "Try using .loc[row_indexer,col_indexer] = value instead\n",
      "\n",
      "See the caveats in the documentation: https://pandas.pydata.org/pandas-docs/stable/user_guide/indexing.html#returning-a-view-versus-a-copy\n",
      "  sh.loc[sh['Vertical Velocity (m/s)'] > 0, 'Is non-zero VV'] = 1\n",
      "/var/folders/57/9723dmls3r5f8py4fcxpmz1r0000gp/T/ipykernel_76132/4183685992.py:14: SettingWithCopyWarning: \n",
      "A value is trying to be set on a copy of a slice from a DataFrame.\n",
      "Try using .loc[row_indexer,col_indexer] = value instead\n",
      "\n",
      "See the caveats in the documentation: https://pandas.pydata.org/pandas-docs/stable/user_guide/indexing.html#returning-a-view-versus-a-copy\n",
      "  sh['Date to join on'] = sh['Datetime (UTC-10)'].dt.strftime('%m-%d-%Y %H')\n",
      "/var/folders/57/9723dmls3r5f8py4fcxpmz1r0000gp/T/ipykernel_76132/4183685992.py:17: SettingWithCopyWarning: \n",
      "A value is trying to be set on a copy of a slice from a DataFrame.\n",
      "Try using .loc[row_indexer,col_indexer] = value instead\n",
      "\n",
      "See the caveats in the documentation: https://pandas.pydata.org/pandas-docs/stable/user_guide/indexing.html#returning-a-view-versus-a-copy\n",
      "  sh.loc[sh['Vertical Velocity (m/s)'] > 0, 'Is non-zero VV'] = 1\n",
      "/var/folders/57/9723dmls3r5f8py4fcxpmz1r0000gp/T/ipykernel_76132/4183685992.py:14: SettingWithCopyWarning: \n",
      "A value is trying to be set on a copy of a slice from a DataFrame.\n",
      "Try using .loc[row_indexer,col_indexer] = value instead\n",
      "\n",
      "See the caveats in the documentation: https://pandas.pydata.org/pandas-docs/stable/user_guide/indexing.html#returning-a-view-versus-a-copy\n",
      "  sh['Date to join on'] = sh['Datetime (UTC-10)'].dt.strftime('%m-%d-%Y %H')\n",
      "/var/folders/57/9723dmls3r5f8py4fcxpmz1r0000gp/T/ipykernel_76132/4183685992.py:17: SettingWithCopyWarning: \n",
      "A value is trying to be set on a copy of a slice from a DataFrame.\n",
      "Try using .loc[row_indexer,col_indexer] = value instead\n",
      "\n",
      "See the caveats in the documentation: https://pandas.pydata.org/pandas-docs/stable/user_guide/indexing.html#returning-a-view-versus-a-copy\n",
      "  sh.loc[sh['Vertical Velocity (m/s)'] > 0, 'Is non-zero VV'] = 1\n",
      "/var/folders/57/9723dmls3r5f8py4fcxpmz1r0000gp/T/ipykernel_76132/4183685992.py:14: SettingWithCopyWarning: \n",
      "A value is trying to be set on a copy of a slice from a DataFrame.\n",
      "Try using .loc[row_indexer,col_indexer] = value instead\n",
      "\n",
      "See the caveats in the documentation: https://pandas.pydata.org/pandas-docs/stable/user_guide/indexing.html#returning-a-view-versus-a-copy\n",
      "  sh['Date to join on'] = sh['Datetime (UTC-10)'].dt.strftime('%m-%d-%Y %H')\n",
      "/var/folders/57/9723dmls3r5f8py4fcxpmz1r0000gp/T/ipykernel_76132/4183685992.py:17: SettingWithCopyWarning: \n",
      "A value is trying to be set on a copy of a slice from a DataFrame.\n",
      "Try using .loc[row_indexer,col_indexer] = value instead\n",
      "\n",
      "See the caveats in the documentation: https://pandas.pydata.org/pandas-docs/stable/user_guide/indexing.html#returning-a-view-versus-a-copy\n",
      "  sh.loc[sh['Vertical Velocity (m/s)'] > 0, 'Is non-zero VV'] = 1\n",
      "/var/folders/57/9723dmls3r5f8py4fcxpmz1r0000gp/T/ipykernel_76132/4183685992.py:14: SettingWithCopyWarning: \n",
      "A value is trying to be set on a copy of a slice from a DataFrame.\n",
      "Try using .loc[row_indexer,col_indexer] = value instead\n",
      "\n",
      "See the caveats in the documentation: https://pandas.pydata.org/pandas-docs/stable/user_guide/indexing.html#returning-a-view-versus-a-copy\n",
      "  sh['Date to join on'] = sh['Datetime (UTC-10)'].dt.strftime('%m-%d-%Y %H')\n",
      "/var/folders/57/9723dmls3r5f8py4fcxpmz1r0000gp/T/ipykernel_76132/4183685992.py:17: SettingWithCopyWarning: \n",
      "A value is trying to be set on a copy of a slice from a DataFrame.\n",
      "Try using .loc[row_indexer,col_indexer] = value instead\n",
      "\n",
      "See the caveats in the documentation: https://pandas.pydata.org/pandas-docs/stable/user_guide/indexing.html#returning-a-view-versus-a-copy\n",
      "  sh.loc[sh['Vertical Velocity (m/s)'] > 0, 'Is non-zero VV'] = 1\n"
     ]
    }
   ],
   "source": [
    "# get mean hourly measurements\n",
    "dfs = []\n",
    "\n",
    "for file in sorted(files):\n",
    "    \n",
    "    Id = get_shark_ID(file)\n",
    "\n",
    "    sh = combined[combined['Id'] == Id]\n",
    "\n",
    "    # save original velocity column\n",
    "    velocity = sh['Vertical Velocity (m/s)']\n",
    "\n",
    "    # will merge on this column later\n",
    "    sh['Date to join on'] = sh['Datetime (UTC-10)'].dt.strftime('%m-%d-%Y %H')\n",
    "\n",
    "    # set all non-zero vv values to one\n",
    "    sh.loc[sh['Vertical Velocity (m/s)'] > 0, 'Is non-zero VV'] = 1\n",
    "    sh.loc[sh['Vertical Velocity (m/s)'] < 0, 'Is non-zero VV'] = 1\n",
    "\n",
    "    # group my mm/dd HH and take average of those values to find diving ratio\n",
    "    groups_by_mm_dd_hh = sh.groupby(sh['Datetime (UTC-10)'].dt.strftime('%m-%d-%Y %H')).mean()\n",
    "\n",
    "    # delete unneccessary columns\n",
    "    del groups_by_mm_dd_hh['Hour (UTC-10)']\n",
    "    del groups_by_mm_dd_hh['Shark Length (cm)']\n",
    "    del groups_by_mm_dd_hh['Depth Diff (m)']\n",
    "\n",
    "    # rename columns\n",
    "    groups_by_mm_dd_hh = groups_by_mm_dd_hh.rename(columns = {'Is non-zero VV': 'Hourly Diving Ratio', 'Depth(m)': 'Mean Hourly Depth (m)', 'External Temp (c)': 'Mean Hourly External Temp (c)', 'Speed (m/s)': 'Mean Hourly Speed (m/s)'})\n",
    "\n",
    "    # merge on 'Date to join on'\n",
    "    sh = sh.merge(groups_by_mm_dd_hh, left_on='Date to join on', right_on='Datetime (UTC-10)')\n",
    "    del sh['Date to join on']\n",
    "    del sh['Is non-zero VV']\n",
    "    del sh['Vertical Velocity (m/s)_x']\n",
    "    sh = sh.rename(columns = {'Vertical Velocity (m/s)_y': 'Vertical Velocity (m/s)'})\n",
    "\n",
    "    dfs.append(sh)\n",
    "\n",
    "combined = pd.concat(dfs, ignore_index=True)"
   ]
  },
  {
   "cell_type": "code",
   "execution_count": 31,
   "metadata": {},
   "outputs": [
    {
     "data": {
      "text/html": "<div>\n<style scoped>\n    .dataframe tbody tr th:only-of-type {\n        vertical-align: middle;\n    }\n\n    .dataframe tbody tr th {\n        vertical-align: top;\n    }\n\n    .dataframe thead th {\n        text-align: right;\n    }\n</style>\n<table border=\"1\" class=\"dataframe\">\n  <thead>\n    <tr style=\"text-align: right;\">\n      <th></th>\n      <th>Id</th>\n      <th>Datetime (UTC-10)</th>\n      <th>Hour (UTC-10)</th>\n      <th>Time of Day</th>\n      <th>Depth(m)</th>\n      <th>External Temp (c)</th>\n      <th>Sex</th>\n      <th>Shark Length (cm)</th>\n      <th>Time of Day (Astral)</th>\n      <th>Depth Diff (m)</th>\n      <th>Speed (m/s)</th>\n      <th>Moon Phase</th>\n      <th>Mean Hourly Depth (m)</th>\n      <th>Mean Hourly External Temp (c)</th>\n      <th>Vertical Velocity (m/s)</th>\n      <th>Mean Hourly Speed (m/s)</th>\n      <th>Hourly Diving Ratio</th>\n    </tr>\n  </thead>\n  <tbody>\n    <tr>\n      <th>0</th>\n      <td>190000400</td>\n      <td>2001-01-02 18:59:50-10:00</td>\n      <td>18</td>\n      <td>Dusk</td>\n      <td>38.4</td>\n      <td>24.600002</td>\n      <td>M</td>\n      <td>457.0</td>\n      <td>Dusk</td>\n      <td>-2.0</td>\n      <td>0.016667</td>\n      <td>New Moon</td>\n      <td>38.400000</td>\n      <td>24.600002</td>\n      <td>-0.016667</td>\n      <td>0.016667</td>\n      <td>1.0</td>\n    </tr>\n    <tr>\n      <th>1</th>\n      <td>190000400</td>\n      <td>2001-01-02 19:01:50-10:00</td>\n      <td>19</td>\n      <td>Night</td>\n      <td>40.4</td>\n      <td>24.600002</td>\n      <td>M</td>\n      <td>457.0</td>\n      <td>Dusk</td>\n      <td>-3.0</td>\n      <td>0.025000</td>\n      <td>New Moon</td>\n      <td>77.166667</td>\n      <td>23.610001</td>\n      <td>-0.035000</td>\n      <td>0.056111</td>\n      <td>1.0</td>\n    </tr>\n    <tr>\n      <th>2</th>\n      <td>190000400</td>\n      <td>2001-01-02 19:03:50-10:00</td>\n      <td>19</td>\n      <td>Night</td>\n      <td>43.4</td>\n      <td>24.600002</td>\n      <td>M</td>\n      <td>457.0</td>\n      <td>Dusk</td>\n      <td>-4.0</td>\n      <td>0.033333</td>\n      <td>New Moon</td>\n      <td>77.166667</td>\n      <td>23.610001</td>\n      <td>-0.035000</td>\n      <td>0.056111</td>\n      <td>1.0</td>\n    </tr>\n    <tr>\n      <th>3</th>\n      <td>190000400</td>\n      <td>2001-01-02 19:05:50-10:00</td>\n      <td>19</td>\n      <td>Night</td>\n      <td>47.4</td>\n      <td>24.600002</td>\n      <td>M</td>\n      <td>457.0</td>\n      <td>Dusk</td>\n      <td>-6.0</td>\n      <td>0.050000</td>\n      <td>New Moon</td>\n      <td>77.166667</td>\n      <td>23.610001</td>\n      <td>-0.035000</td>\n      <td>0.056111</td>\n      <td>1.0</td>\n    </tr>\n    <tr>\n      <th>4</th>\n      <td>190000400</td>\n      <td>2001-01-02 19:07:50-10:00</td>\n      <td>19</td>\n      <td>Night</td>\n      <td>53.4</td>\n      <td>24.450001</td>\n      <td>M</td>\n      <td>457.0</td>\n      <td>Dusk</td>\n      <td>-9.0</td>\n      <td>0.075000</td>\n      <td>New Moon</td>\n      <td>77.166667</td>\n      <td>23.610001</td>\n      <td>-0.035000</td>\n      <td>0.056111</td>\n      <td>1.0</td>\n    </tr>\n    <tr>\n      <th>...</th>\n      <td>...</td>\n      <td>...</td>\n      <td>...</td>\n      <td>...</td>\n      <td>...</td>\n      <td>...</td>\n      <td>...</td>\n      <td>...</td>\n      <td>...</td>\n      <td>...</td>\n      <td>...</td>\n      <td>...</td>\n      <td>...</td>\n      <td>...</td>\n      <td>...</td>\n      <td>...</td>\n      <td>...</td>\n    </tr>\n    <tr>\n      <th>1812385</th>\n      <td>190900200</td>\n      <td>2009-06-09 13:59:10-10:00</td>\n      <td>13</td>\n      <td>Day</td>\n      <td>405.8</td>\n      <td>8.700000</td>\n      <td>F</td>\n      <td>427.0</td>\n      <td>Day</td>\n      <td>0.5</td>\n      <td>0.050000</td>\n      <td>Full Moon</td>\n      <td>412.559722</td>\n      <td>8.531944</td>\n      <td>0.000975</td>\n      <td>0.085376</td>\n      <td>1.0</td>\n    </tr>\n    <tr>\n      <th>1812386</th>\n      <td>190900200</td>\n      <td>2009-06-09 13:59:20-10:00</td>\n      <td>13</td>\n      <td>Day</td>\n      <td>405.3</td>\n      <td>8.700000</td>\n      <td>F</td>\n      <td>427.0</td>\n      <td>Day</td>\n      <td>-0.5</td>\n      <td>0.050000</td>\n      <td>Full Moon</td>\n      <td>412.559722</td>\n      <td>8.531944</td>\n      <td>0.000975</td>\n      <td>0.085376</td>\n      <td>1.0</td>\n    </tr>\n    <tr>\n      <th>1812387</th>\n      <td>190900200</td>\n      <td>2009-06-09 13:59:30-10:00</td>\n      <td>13</td>\n      <td>Day</td>\n      <td>405.8</td>\n      <td>8.700000</td>\n      <td>F</td>\n      <td>427.0</td>\n      <td>Day</td>\n      <td>0.0</td>\n      <td>0.000000</td>\n      <td>Full Moon</td>\n      <td>412.559722</td>\n      <td>8.531944</td>\n      <td>0.000975</td>\n      <td>0.085376</td>\n      <td>1.0</td>\n    </tr>\n    <tr>\n      <th>1812388</th>\n      <td>190900200</td>\n      <td>2009-06-09 13:59:40-10:00</td>\n      <td>13</td>\n      <td>Day</td>\n      <td>405.8</td>\n      <td>8.700000</td>\n      <td>F</td>\n      <td>427.0</td>\n      <td>Day</td>\n      <td>0.5</td>\n      <td>0.050000</td>\n      <td>Full Moon</td>\n      <td>412.559722</td>\n      <td>8.531944</td>\n      <td>0.000975</td>\n      <td>0.085376</td>\n      <td>1.0</td>\n    </tr>\n    <tr>\n      <th>1812389</th>\n      <td>190900200</td>\n      <td>2009-06-09 13:59:50-10:00</td>\n      <td>13</td>\n      <td>Day</td>\n      <td>405.3</td>\n      <td>8.700000</td>\n      <td>F</td>\n      <td>427.0</td>\n      <td>Day</td>\n      <td>NaN</td>\n      <td>NaN</td>\n      <td>Full Moon</td>\n      <td>412.559722</td>\n      <td>8.531944</td>\n      <td>0.000975</td>\n      <td>0.085376</td>\n      <td>1.0</td>\n    </tr>\n  </tbody>\n</table>\n<p>1812390 rows × 17 columns</p>\n</div>",
      "text/plain": "                Id         Datetime (UTC-10)  Hour (UTC-10) Time of Day  \\\n0        190000400 2001-01-02 18:59:50-10:00             18        Dusk   \n1        190000400 2001-01-02 19:01:50-10:00             19       Night   \n2        190000400 2001-01-02 19:03:50-10:00             19       Night   \n3        190000400 2001-01-02 19:05:50-10:00             19       Night   \n4        190000400 2001-01-02 19:07:50-10:00             19       Night   \n...            ...                       ...            ...         ...   \n1812385  190900200 2009-06-09 13:59:10-10:00             13         Day   \n1812386  190900200 2009-06-09 13:59:20-10:00             13         Day   \n1812387  190900200 2009-06-09 13:59:30-10:00             13         Day   \n1812388  190900200 2009-06-09 13:59:40-10:00             13         Day   \n1812389  190900200 2009-06-09 13:59:50-10:00             13         Day   \n\n         Depth(m)  External Temp (c) Sex  Shark Length (cm)  \\\n0            38.4          24.600002   M              457.0   \n1            40.4          24.600002   M              457.0   \n2            43.4          24.600002   M              457.0   \n3            47.4          24.600002   M              457.0   \n4            53.4          24.450001   M              457.0   \n...           ...                ...  ..                ...   \n1812385     405.8           8.700000   F              427.0   \n1812386     405.3           8.700000   F              427.0   \n1812387     405.8           8.700000   F              427.0   \n1812388     405.8           8.700000   F              427.0   \n1812389     405.3           8.700000   F              427.0   \n\n        Time of Day (Astral)  Depth Diff (m)  Speed (m/s) Moon Phase  \\\n0                       Dusk            -2.0     0.016667   New Moon   \n1                       Dusk            -3.0     0.025000   New Moon   \n2                       Dusk            -4.0     0.033333   New Moon   \n3                       Dusk            -6.0     0.050000   New Moon   \n4                       Dusk            -9.0     0.075000   New Moon   \n...                      ...             ...          ...        ...   \n1812385                  Day             0.5     0.050000  Full Moon   \n1812386                  Day            -0.5     0.050000  Full Moon   \n1812387                  Day             0.0     0.000000  Full Moon   \n1812388                  Day             0.5     0.050000  Full Moon   \n1812389                  Day             NaN          NaN  Full Moon   \n\n         Mean Hourly Depth (m)  Mean Hourly External Temp (c)  \\\n0                    38.400000                      24.600002   \n1                    77.166667                      23.610001   \n2                    77.166667                      23.610001   \n3                    77.166667                      23.610001   \n4                    77.166667                      23.610001   \n...                        ...                            ...   \n1812385             412.559722                       8.531944   \n1812386             412.559722                       8.531944   \n1812387             412.559722                       8.531944   \n1812388             412.559722                       8.531944   \n1812389             412.559722                       8.531944   \n\n         Vertical Velocity (m/s)  Mean Hourly Speed (m/s)  Hourly Diving Ratio  \n0                      -0.016667                 0.016667                  1.0  \n1                      -0.035000                 0.056111                  1.0  \n2                      -0.035000                 0.056111                  1.0  \n3                      -0.035000                 0.056111                  1.0  \n4                      -0.035000                 0.056111                  1.0  \n...                          ...                      ...                  ...  \n1812385                 0.000975                 0.085376                  1.0  \n1812386                 0.000975                 0.085376                  1.0  \n1812387                 0.000975                 0.085376                  1.0  \n1812388                 0.000975                 0.085376                  1.0  \n1812389                 0.000975                 0.085376                  1.0  \n\n[1812390 rows x 17 columns]"
     },
     "execution_count": 31,
     "metadata": {},
     "output_type": "execute_result"
    }
   ],
   "source": [
    "combined"
   ]
  },
  {
   "cell_type": "markdown",
   "metadata": {},
   "source": [
    "# Surface Temperature\n",
    " Daily average sea surface temperature (SST) was estimated by averaging the temperature in the uppermost 5 m of the water column for each day (Andrzejaczek et al., 2018a). For days that white sharks did not enter this depth range, the estimate from the previous day was used."
   ]
  },
  {
   "cell_type": "markdown",
   "metadata": {},
   "source": [
    "# Extracting Helpful Metrics for Tableau"
   ]
  },
  {
   "cell_type": "code",
   "execution_count": 32,
   "metadata": {},
   "outputs": [
    {
     "data": {
      "text/html": "<div>\n<style scoped>\n    .dataframe tbody tr th:only-of-type {\n        vertical-align: middle;\n    }\n\n    .dataframe tbody tr th {\n        vertical-align: top;\n    }\n\n    .dataframe thead th {\n        text-align: right;\n    }\n</style>\n<table border=\"1\" class=\"dataframe\">\n  <thead>\n    <tr style=\"text-align: right;\">\n      <th></th>\n      <th>Id</th>\n      <th>Datetime (UTC-10)</th>\n      <th>Hour (UTC-10)</th>\n      <th>Time of Day</th>\n      <th>Depth(m)</th>\n      <th>External Temp (c)</th>\n      <th>Sex</th>\n      <th>Shark Length (cm)</th>\n      <th>Time of Day (Astral)</th>\n      <th>Depth Diff (m)</th>\n      <th>Speed (m/s)</th>\n      <th>Moon Phase</th>\n      <th>Mean Hourly Depth (m)</th>\n      <th>Mean Hourly External Temp (c)</th>\n      <th>Vertical Velocity (m/s)</th>\n      <th>Mean Hourly Speed (m/s)</th>\n      <th>Hourly Diving Ratio</th>\n    </tr>\n  </thead>\n  <tbody>\n    <tr>\n      <th>0</th>\n      <td>190000400</td>\n      <td>2001-01-02 18:59:50-10:00</td>\n      <td>18</td>\n      <td>Dusk</td>\n      <td>38.4</td>\n      <td>24.600002</td>\n      <td>M</td>\n      <td>457.0</td>\n      <td>Dusk</td>\n      <td>-2.0</td>\n      <td>0.016667</td>\n      <td>New Moon</td>\n      <td>38.400000</td>\n      <td>24.600002</td>\n      <td>-0.016667</td>\n      <td>0.016667</td>\n      <td>1.0</td>\n    </tr>\n    <tr>\n      <th>1</th>\n      <td>190000400</td>\n      <td>2001-01-02 19:01:50-10:00</td>\n      <td>19</td>\n      <td>Night</td>\n      <td>40.4</td>\n      <td>24.600002</td>\n      <td>M</td>\n      <td>457.0</td>\n      <td>Dusk</td>\n      <td>-3.0</td>\n      <td>0.025000</td>\n      <td>New Moon</td>\n      <td>77.166667</td>\n      <td>23.610001</td>\n      <td>-0.035000</td>\n      <td>0.056111</td>\n      <td>1.0</td>\n    </tr>\n    <tr>\n      <th>2</th>\n      <td>190000400</td>\n      <td>2001-01-02 19:03:50-10:00</td>\n      <td>19</td>\n      <td>Night</td>\n      <td>43.4</td>\n      <td>24.600002</td>\n      <td>M</td>\n      <td>457.0</td>\n      <td>Dusk</td>\n      <td>-4.0</td>\n      <td>0.033333</td>\n      <td>New Moon</td>\n      <td>77.166667</td>\n      <td>23.610001</td>\n      <td>-0.035000</td>\n      <td>0.056111</td>\n      <td>1.0</td>\n    </tr>\n    <tr>\n      <th>3</th>\n      <td>190000400</td>\n      <td>2001-01-02 19:05:50-10:00</td>\n      <td>19</td>\n      <td>Night</td>\n      <td>47.4</td>\n      <td>24.600002</td>\n      <td>M</td>\n      <td>457.0</td>\n      <td>Dusk</td>\n      <td>-6.0</td>\n      <td>0.050000</td>\n      <td>New Moon</td>\n      <td>77.166667</td>\n      <td>23.610001</td>\n      <td>-0.035000</td>\n      <td>0.056111</td>\n      <td>1.0</td>\n    </tr>\n    <tr>\n      <th>4</th>\n      <td>190000400</td>\n      <td>2001-01-02 19:07:50-10:00</td>\n      <td>19</td>\n      <td>Night</td>\n      <td>53.4</td>\n      <td>24.450001</td>\n      <td>M</td>\n      <td>457.0</td>\n      <td>Dusk</td>\n      <td>-9.0</td>\n      <td>0.075000</td>\n      <td>New Moon</td>\n      <td>77.166667</td>\n      <td>23.610001</td>\n      <td>-0.035000</td>\n      <td>0.056111</td>\n      <td>1.0</td>\n    </tr>\n    <tr>\n      <th>...</th>\n      <td>...</td>\n      <td>...</td>\n      <td>...</td>\n      <td>...</td>\n      <td>...</td>\n      <td>...</td>\n      <td>...</td>\n      <td>...</td>\n      <td>...</td>\n      <td>...</td>\n      <td>...</td>\n      <td>...</td>\n      <td>...</td>\n      <td>...</td>\n      <td>...</td>\n      <td>...</td>\n      <td>...</td>\n    </tr>\n    <tr>\n      <th>1812385</th>\n      <td>190900200</td>\n      <td>2009-06-09 13:59:10-10:00</td>\n      <td>13</td>\n      <td>Day</td>\n      <td>405.8</td>\n      <td>8.700000</td>\n      <td>F</td>\n      <td>427.0</td>\n      <td>Day</td>\n      <td>0.5</td>\n      <td>0.050000</td>\n      <td>Full Moon</td>\n      <td>412.559722</td>\n      <td>8.531944</td>\n      <td>0.000975</td>\n      <td>0.085376</td>\n      <td>1.0</td>\n    </tr>\n    <tr>\n      <th>1812386</th>\n      <td>190900200</td>\n      <td>2009-06-09 13:59:20-10:00</td>\n      <td>13</td>\n      <td>Day</td>\n      <td>405.3</td>\n      <td>8.700000</td>\n      <td>F</td>\n      <td>427.0</td>\n      <td>Day</td>\n      <td>-0.5</td>\n      <td>0.050000</td>\n      <td>Full Moon</td>\n      <td>412.559722</td>\n      <td>8.531944</td>\n      <td>0.000975</td>\n      <td>0.085376</td>\n      <td>1.0</td>\n    </tr>\n    <tr>\n      <th>1812387</th>\n      <td>190900200</td>\n      <td>2009-06-09 13:59:30-10:00</td>\n      <td>13</td>\n      <td>Day</td>\n      <td>405.8</td>\n      <td>8.700000</td>\n      <td>F</td>\n      <td>427.0</td>\n      <td>Day</td>\n      <td>0.0</td>\n      <td>0.000000</td>\n      <td>Full Moon</td>\n      <td>412.559722</td>\n      <td>8.531944</td>\n      <td>0.000975</td>\n      <td>0.085376</td>\n      <td>1.0</td>\n    </tr>\n    <tr>\n      <th>1812388</th>\n      <td>190900200</td>\n      <td>2009-06-09 13:59:40-10:00</td>\n      <td>13</td>\n      <td>Day</td>\n      <td>405.8</td>\n      <td>8.700000</td>\n      <td>F</td>\n      <td>427.0</td>\n      <td>Day</td>\n      <td>0.5</td>\n      <td>0.050000</td>\n      <td>Full Moon</td>\n      <td>412.559722</td>\n      <td>8.531944</td>\n      <td>0.000975</td>\n      <td>0.085376</td>\n      <td>1.0</td>\n    </tr>\n    <tr>\n      <th>1812389</th>\n      <td>190900200</td>\n      <td>2009-06-09 13:59:50-10:00</td>\n      <td>13</td>\n      <td>Day</td>\n      <td>405.3</td>\n      <td>8.700000</td>\n      <td>F</td>\n      <td>427.0</td>\n      <td>Day</td>\n      <td>NaN</td>\n      <td>NaN</td>\n      <td>Full Moon</td>\n      <td>412.559722</td>\n      <td>8.531944</td>\n      <td>0.000975</td>\n      <td>0.085376</td>\n      <td>1.0</td>\n    </tr>\n  </tbody>\n</table>\n<p>1812390 rows × 17 columns</p>\n</div>",
      "text/plain": "                Id         Datetime (UTC-10)  Hour (UTC-10) Time of Day  \\\n0        190000400 2001-01-02 18:59:50-10:00             18        Dusk   \n1        190000400 2001-01-02 19:01:50-10:00             19       Night   \n2        190000400 2001-01-02 19:03:50-10:00             19       Night   \n3        190000400 2001-01-02 19:05:50-10:00             19       Night   \n4        190000400 2001-01-02 19:07:50-10:00             19       Night   \n...            ...                       ...            ...         ...   \n1812385  190900200 2009-06-09 13:59:10-10:00             13         Day   \n1812386  190900200 2009-06-09 13:59:20-10:00             13         Day   \n1812387  190900200 2009-06-09 13:59:30-10:00             13         Day   \n1812388  190900200 2009-06-09 13:59:40-10:00             13         Day   \n1812389  190900200 2009-06-09 13:59:50-10:00             13         Day   \n\n         Depth(m)  External Temp (c) Sex  Shark Length (cm)  \\\n0            38.4          24.600002   M              457.0   \n1            40.4          24.600002   M              457.0   \n2            43.4          24.600002   M              457.0   \n3            47.4          24.600002   M              457.0   \n4            53.4          24.450001   M              457.0   \n...           ...                ...  ..                ...   \n1812385     405.8           8.700000   F              427.0   \n1812386     405.3           8.700000   F              427.0   \n1812387     405.8           8.700000   F              427.0   \n1812388     405.8           8.700000   F              427.0   \n1812389     405.3           8.700000   F              427.0   \n\n        Time of Day (Astral)  Depth Diff (m)  Speed (m/s) Moon Phase  \\\n0                       Dusk            -2.0     0.016667   New Moon   \n1                       Dusk            -3.0     0.025000   New Moon   \n2                       Dusk            -4.0     0.033333   New Moon   \n3                       Dusk            -6.0     0.050000   New Moon   \n4                       Dusk            -9.0     0.075000   New Moon   \n...                      ...             ...          ...        ...   \n1812385                  Day             0.5     0.050000  Full Moon   \n1812386                  Day            -0.5     0.050000  Full Moon   \n1812387                  Day             0.0     0.000000  Full Moon   \n1812388                  Day             0.5     0.050000  Full Moon   \n1812389                  Day             NaN          NaN  Full Moon   \n\n         Mean Hourly Depth (m)  Mean Hourly External Temp (c)  \\\n0                    38.400000                      24.600002   \n1                    77.166667                      23.610001   \n2                    77.166667                      23.610001   \n3                    77.166667                      23.610001   \n4                    77.166667                      23.610001   \n...                        ...                            ...   \n1812385             412.559722                       8.531944   \n1812386             412.559722                       8.531944   \n1812387             412.559722                       8.531944   \n1812388             412.559722                       8.531944   \n1812389             412.559722                       8.531944   \n\n         Vertical Velocity (m/s)  Mean Hourly Speed (m/s)  Hourly Diving Ratio  \n0                      -0.016667                 0.016667                  1.0  \n1                      -0.035000                 0.056111                  1.0  \n2                      -0.035000                 0.056111                  1.0  \n3                      -0.035000                 0.056111                  1.0  \n4                      -0.035000                 0.056111                  1.0  \n...                          ...                      ...                  ...  \n1812385                 0.000975                 0.085376                  1.0  \n1812386                 0.000975                 0.085376                  1.0  \n1812387                 0.000975                 0.085376                  1.0  \n1812388                 0.000975                 0.085376                  1.0  \n1812389                 0.000975                 0.085376                  1.0  \n\n[1812390 rows x 17 columns]"
     },
     "execution_count": 32,
     "metadata": {},
     "output_type": "execute_result"
    }
   ],
   "source": [
    "combined"
   ]
  },
  {
   "cell_type": "code",
   "execution_count": 33,
   "metadata": {},
   "outputs": [
    {
     "data": {
      "text/html": "<div>\n<style scoped>\n    .dataframe tbody tr th:only-of-type {\n        vertical-align: middle;\n    }\n\n    .dataframe tbody tr th {\n        vertical-align: top;\n    }\n\n    .dataframe thead th {\n        text-align: right;\n    }\n</style>\n<table border=\"1\" class=\"dataframe\">\n  <thead>\n    <tr style=\"text-align: right;\">\n      <th></th>\n      <th>Unnamed: 0</th>\n      <th>eventid</th>\n      <th>tagnumber</th>\n      <th>ptt</th>\n      <th>taggingdate</th>\n      <th>length</th>\n      <th>sex</th>\n      <th>firstdate</th>\n      <th>lastdate</th>\n      <th>Sampling Period (sec)</th>\n      <th>Max Depth Recorded (m)</th>\n    </tr>\n  </thead>\n  <tbody>\n    <tr>\n      <th>0</th>\n      <td>0</td>\n      <td>190000400</td>\n      <td>00P0291</td>\n      <td>29711</td>\n      <td>2000-10-16</td>\n      <td>457.00</td>\n      <td>M</td>\n      <td>01/03/2001 05:00</td>\n      <td>04/16/2001 05:00</td>\n      <td>120</td>\n      <td>612.0</td>\n    </tr>\n    <tr>\n      <th>1</th>\n      <td>1</td>\n      <td>190400900</td>\n      <td>04P0160</td>\n      <td>52933</td>\n      <td>2004-11-30</td>\n      <td>396.00</td>\n      <td>F</td>\n      <td>03/22/2005 05:00</td>\n      <td>06/10/2005 05:00</td>\n      <td>60</td>\n      <td>981.1</td>\n    </tr>\n    <tr>\n      <th>2</th>\n      <td>2</td>\n      <td>190502800</td>\n      <td>05P0132</td>\n      <td>62021</td>\n      <td>2005-12-15</td>\n      <td>480.00</td>\n      <td>F</td>\n      <td>03/31/2006 05:00</td>\n      <td>05/30/2006 05:00</td>\n      <td>60</td>\n      <td>549.1</td>\n    </tr>\n    <tr>\n      <th>3</th>\n      <td>3</td>\n      <td>190600200</td>\n      <td>05P0059</td>\n      <td>60983</td>\n      <td>2006-01-21</td>\n      <td>400.00</td>\n      <td>F</td>\n      <td>06/09/2006 05:00</td>\n      <td>09/03/2006 05:00</td>\n      <td>60</td>\n      <td>580.8</td>\n    </tr>\n    <tr>\n      <th>4</th>\n      <td>4</td>\n      <td>190601200</td>\n      <td>06A0555</td>\n      <td>68281</td>\n      <td>2006-10-10</td>\n      <td>426.72</td>\n      <td>M</td>\n      <td>02/09/2007 05:00</td>\n      <td>06/05/2007 05:00</td>\n      <td>15</td>\n      <td>691.5</td>\n    </tr>\n    <tr>\n      <th>5</th>\n      <td>5</td>\n      <td>190900200</td>\n      <td>08A0599</td>\n      <td>87568</td>\n      <td>2009-01-19</td>\n      <td>427.00</td>\n      <td>F</td>\n      <td>03/17/2009 05:00</td>\n      <td>06/09/2009 05:00</td>\n      <td>10</td>\n      <td>990.9</td>\n    </tr>\n  </tbody>\n</table>\n</div>",
      "text/plain": "   Unnamed: 0    eventid tagnumber    ptt taggingdate  length sex  \\\n0           0  190000400   00P0291  29711  2000-10-16  457.00   M   \n1           1  190400900   04P0160  52933  2004-11-30  396.00   F   \n2           2  190502800   05P0132  62021  2005-12-15  480.00   F   \n3           3  190600200   05P0059  60983  2006-01-21  400.00   F   \n4           4  190601200   06A0555  68281  2006-10-10  426.72   M   \n5           5  190900200   08A0599  87568  2009-01-19  427.00   F   \n\n          firstdate          lastdate  Sampling Period (sec)  \\\n0  01/03/2001 05:00  04/16/2001 05:00                    120   \n1  03/22/2005 05:00  06/10/2005 05:00                     60   \n2  03/31/2006 05:00  05/30/2006 05:00                     60   \n3  06/09/2006 05:00  09/03/2006 05:00                     60   \n4  02/09/2007 05:00  06/05/2007 05:00                     15   \n5  03/17/2009 05:00  06/09/2009 05:00                     10   \n\n   Max Depth Recorded (m)  \n0                   612.0  \n1                   981.1  \n2                   549.1  \n3                   580.8  \n4                   691.5  \n5                   990.9  "
     },
     "execution_count": 33,
     "metadata": {},
     "output_type": "execute_result"
    }
   ],
   "source": [
    "meta_df\n"
   ]
  },
  {
   "cell_type": "code",
   "execution_count": 34,
   "metadata": {},
   "outputs": [],
   "source": [
    "# pull out day, month, year\n",
    "# combined['Day'] = combined['Datetime (UTC-10)'].dt.strftime('%d')\n",
    "\n",
    "\n",
    "\n",
    "#  merge lat lon ?"
   ]
  },
  {
   "cell_type": "code",
   "execution_count": 35,
   "metadata": {},
   "outputs": [
    {
     "name": "stderr",
     "output_type": "stream",
     "text": [
      "/var/folders/57/9723dmls3r5f8py4fcxpmz1r0000gp/T/ipykernel_76132/1923002435.py:11: SettingWithCopyWarning: \n",
      "A value is trying to be set on a copy of a slice from a DataFrame.\n",
      "Try using .loc[row_indexer,col_indexer] = value instead\n",
      "\n",
      "See the caveats in the documentation: https://pandas.pydata.org/pandas-docs/stable/user_guide/indexing.html#returning-a-view-versus-a-copy\n",
      "  sh['Date to join on'] = sh['Datetime (UTC-10)'].dt.strftime('%m-%d-%Y')\n",
      "/var/folders/57/9723dmls3r5f8py4fcxpmz1r0000gp/T/ipykernel_76132/1923002435.py:11: SettingWithCopyWarning: \n",
      "A value is trying to be set on a copy of a slice from a DataFrame.\n",
      "Try using .loc[row_indexer,col_indexer] = value instead\n",
      "\n",
      "See the caveats in the documentation: https://pandas.pydata.org/pandas-docs/stable/user_guide/indexing.html#returning-a-view-versus-a-copy\n",
      "  sh['Date to join on'] = sh['Datetime (UTC-10)'].dt.strftime('%m-%d-%Y')\n",
      "/var/folders/57/9723dmls3r5f8py4fcxpmz1r0000gp/T/ipykernel_76132/1923002435.py:11: SettingWithCopyWarning: \n",
      "A value is trying to be set on a copy of a slice from a DataFrame.\n",
      "Try using .loc[row_indexer,col_indexer] = value instead\n",
      "\n",
      "See the caveats in the documentation: https://pandas.pydata.org/pandas-docs/stable/user_guide/indexing.html#returning-a-view-versus-a-copy\n",
      "  sh['Date to join on'] = sh['Datetime (UTC-10)'].dt.strftime('%m-%d-%Y')\n",
      "/var/folders/57/9723dmls3r5f8py4fcxpmz1r0000gp/T/ipykernel_76132/1923002435.py:11: SettingWithCopyWarning: \n",
      "A value is trying to be set on a copy of a slice from a DataFrame.\n",
      "Try using .loc[row_indexer,col_indexer] = value instead\n",
      "\n",
      "See the caveats in the documentation: https://pandas.pydata.org/pandas-docs/stable/user_guide/indexing.html#returning-a-view-versus-a-copy\n",
      "  sh['Date to join on'] = sh['Datetime (UTC-10)'].dt.strftime('%m-%d-%Y')\n",
      "/var/folders/57/9723dmls3r5f8py4fcxpmz1r0000gp/T/ipykernel_76132/1923002435.py:11: SettingWithCopyWarning: \n",
      "A value is trying to be set on a copy of a slice from a DataFrame.\n",
      "Try using .loc[row_indexer,col_indexer] = value instead\n",
      "\n",
      "See the caveats in the documentation: https://pandas.pydata.org/pandas-docs/stable/user_guide/indexing.html#returning-a-view-versus-a-copy\n",
      "  sh['Date to join on'] = sh['Datetime (UTC-10)'].dt.strftime('%m-%d-%Y')\n",
      "/var/folders/57/9723dmls3r5f8py4fcxpmz1r0000gp/T/ipykernel_76132/1923002435.py:11: SettingWithCopyWarning: \n",
      "A value is trying to be set on a copy of a slice from a DataFrame.\n",
      "Try using .loc[row_indexer,col_indexer] = value instead\n",
      "\n",
      "See the caveats in the documentation: https://pandas.pydata.org/pandas-docs/stable/user_guide/indexing.html#returning-a-view-versus-a-copy\n",
      "  sh['Date to join on'] = sh['Datetime (UTC-10)'].dt.strftime('%m-%d-%Y')\n"
     ]
    }
   ],
   "source": [
    "# get mean daily SST estimates\n",
    "dfs = []\n",
    "\n",
    "for file in sorted(files):\n",
    "\n",
    "    Id = get_shark_ID(file)\n",
    "    \n",
    "    sh = combined[combined['Id'] == Id]\n",
    "\n",
    "    # will merge on this column later\n",
    "    sh['Date to join on'] = sh['Datetime (UTC-10)'].dt.strftime('%m-%d-%Y')\n",
    "\n",
    "    # filter data to rows with depth < 5 m\n",
    "    filtered = sh[sh['Depth(m)'] <= 5]\n",
    "\n",
    "    # goup by day and take .mean()\n",
    "    grouped = filtered.groupby(filtered['Datetime (UTC-10)'].dt.strftime('%m-%d-%Y')).mean()\n",
    "\n",
    "    # delete unneccessary columns\n",
    "    del grouped['Hour (UTC-10)']\n",
    "    del grouped['Depth(m)']\n",
    "    del grouped['Shark Length (cm)']\n",
    "    del grouped['Depth Diff (m)']\n",
    "    del grouped['Vertical Velocity (m/s)']\n",
    "    del grouped['Speed (m/s)']\n",
    "    del grouped['Mean Hourly Depth (m)']\n",
    "    del grouped['Mean Hourly External Temp (c)']\n",
    "    del grouped['Hourly Diving Ratio']\n",
    "    del grouped['Mean Hourly Speed (m/s)']\n",
    "\n",
    "    # rename columns\n",
    "    grouped = grouped.rename(columns = {'External Temp (c)': 'Daily SST Est (c)'})\n",
    "\n",
    "    # merge on mo/d/Y\n",
    "    sh = sh.merge(grouped, left_on='Date to join on', right_on='Datetime (UTC-10)')\n",
    "    del sh['Date to join on']\n",
    "\n",
    "    dfs.append(sh)\n",
    "\n",
    "combined = pd.concat(dfs, ignore_index=True)"
   ]
  },
  {
   "cell_type": "code",
   "execution_count": 36,
   "metadata": {},
   "outputs": [
    {
     "data": {
      "text/html": "<div>\n<style scoped>\n    .dataframe tbody tr th:only-of-type {\n        vertical-align: middle;\n    }\n\n    .dataframe tbody tr th {\n        vertical-align: top;\n    }\n\n    .dataframe thead th {\n        text-align: right;\n    }\n</style>\n<table border=\"1\" class=\"dataframe\">\n  <thead>\n    <tr style=\"text-align: right;\">\n      <th></th>\n      <th>Id</th>\n      <th>Datetime (UTC-10)</th>\n      <th>Hour (UTC-10)</th>\n      <th>Time of Day</th>\n      <th>Depth(m)</th>\n      <th>External Temp (c)</th>\n      <th>Sex</th>\n      <th>Shark Length (cm)</th>\n      <th>Time of Day (Astral)</th>\n      <th>Depth Diff (m)</th>\n      <th>Speed (m/s)</th>\n      <th>Moon Phase</th>\n      <th>Mean Hourly Depth (m)</th>\n      <th>Mean Hourly External Temp (c)</th>\n      <th>Vertical Velocity (m/s)</th>\n      <th>Mean Hourly Speed (m/s)</th>\n      <th>Hourly Diving Ratio</th>\n      <th>Daily SST Est (c)</th>\n    </tr>\n  </thead>\n  <tbody>\n  </tbody>\n</table>\n</div>",
      "text/plain": "Empty DataFrame\nColumns: [Id, Datetime (UTC-10), Hour (UTC-10), Time of Day, Depth(m), External Temp (c), Sex, Shark Length (cm), Time of Day (Astral), Depth Diff (m), Speed (m/s), Moon Phase, Mean Hourly Depth (m), Mean Hourly External Temp (c), Vertical Velocity (m/s), Mean Hourly Speed (m/s), Hourly Diving Ratio, Daily SST Est (c)]\nIndex: []"
     },
     "execution_count": 36,
     "metadata": {},
     "output_type": "execute_result"
    }
   ],
   "source": [
    "# no edge case to handle\n",
    "combined\n",
    "combined[combined['Daily SST Est (c)'].isna()]"
   ]
  },
  {
   "cell_type": "markdown",
   "metadata": {},
   "source": [
    "# Export Master as CSV"
   ]
  },
  {
   "cell_type": "code",
   "execution_count": 37,
   "metadata": {},
   "outputs": [],
   "source": [
    "combined.to_csv('./data/hawaii_data/processed/master_hawaii.csv')"
   ]
  },
  {
   "cell_type": "code",
   "execution_count": 38,
   "metadata": {},
   "outputs": [],
   "source": [
    "# export different sharks as different files\n",
    "for id in meta_df['eventid']:\n",
    "    sh = combined[combined['Id'] == str(id)]\n",
    "    sh.to_csv('./data/hawaii_data/processed/' + str(id) + '.csv')"
   ]
  },
  {
   "cell_type": "code",
   "execution_count": 39,
   "metadata": {},
   "outputs": [],
   "source": [
    "# export different sexes\n",
    "fem = combined[combined['Sex'] == 'F']\n",
    "mal = combined[combined['Sex'] == 'M']\n",
    "\n",
    "fem.to_csv('./data/hawaii_data/processed/fem_master.csv')\n",
    "mal.to_csv('./data/hawaii_data/processed/mal_master.csv')"
   ]
  },
  {
   "cell_type": "code",
   "execution_count": 40,
   "metadata": {},
   "outputs": [],
   "source": [
    "# update meta data file\n",
    "meta_df.to_csv('./data/meta_data.csv')"
   ]
  },
  {
   "cell_type": "code",
   "execution_count": null,
   "metadata": {},
   "outputs": [],
   "source": []
  }
 ],
 "metadata": {
  "kernelspec": {
   "display_name": "Python 3.10.2 64-bit",
   "name": "python3102jvsc74a57bd098590ff4fe04c8543246b2a01debd3de3c5ca9b666f43f1fa87d5110c692004c"
  },
  "language_info": {
   "codemirror_mode": {
    "name": "ipython",
    "version": 3
   },
   "file_extension": ".py",
   "mimetype": "text/x-python",
   "name": "python",
   "nbconvert_exporter": "python",
   "pygments_lexer": "ipython3",
   "version": "3.10.2"
  },
  "orig_nbformat": 3
 },
 "nbformat": 4,
 "nbformat_minor": 2
}