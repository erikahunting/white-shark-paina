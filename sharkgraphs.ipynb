{
 "cells": [
  {
   "cell_type": "code",
   "execution_count": 1,
   "metadata": {},
   "outputs": [],
   "source": [
    "from astral import LocationInfo\n",
    "from astral.sun import sun\n",
    "import datetime as dt\n",
    "import pytz\n",
    "import matplotlib.pyplot as plt\n",
    "import numpy as np\n",
    "import os\n",
    "from os import listdir\n",
    "from os.path import isfile, join\n",
    "import pandas as pd\n",
    "import re\n",
    "import seaborn as sns\n",
    "import sys"
   ]
  },
  {
   "cell_type": "markdown",
   "metadata": {},
   "source": [
    "### Format data for plotting"
   ]
  },
  {
   "cell_type": "code",
   "execution_count": 2,
   "metadata": {},
   "outputs": [],
   "source": [
    "def getStandardizedDatetime(row, originaltzstring):\n",
    "    originaltz = pytz.timezone(originaltzstring)\n",
    "    originaldt = dt.datetime(row[\"Year\"], row[\"Month\"], row[\"Day\"], row[\"Hour\"], row[\"Min\"], row[\"Sec\"], 0, originaltz)\n",
    "    return originaldt.astimezone(pytz.timezone(\"Pacific/Honolulu\"))\n",
    "    \n",
    "def getTimeOfDay(hour):\n",
    "\n",
    "    # call api later\n",
    "    sunrise = 6\n",
    "    sunset = 18\n",
    "    \n",
    "    if hour in range(sunrise + 1, sunset - 1):\n",
    "        return 'Day'\n",
    "    elif hour in range(sunset + 1, 24) or hour in range(0, sunrise - 1):\n",
    "        return 'Night'\n",
    "    elif hour in range(sunrise - 1, sunrise + 1):\n",
    "        return 'Dawn'\n",
    "    else:\n",
    "        return 'Dusk'\n",
    "\n",
    "\n",
    "def getPlotData(filename): ## call getPlotDataAstral from here? astral=False, latLonFile=None\n",
    "    \"\"\"\n",
    "    Given a filename to corrected archival White Shark tag\n",
    "    data, returns a pandas dataframe containing data for\n",
    "    plotting\n",
    "    \"\"\"\n",
    "    df = pd.read_csv(filename)\n",
    "    \n",
    "    # Get timezone of date/time\n",
    "    dateColName = df.columns[0]\n",
    "    originaltz = ''\n",
    "    if dateColName == \"Date(UTC-8)\":\n",
    "        originaltz = 'Etc/GMT+8' # why? no one knows\n",
    "    elif dateColName == \"Date(EST)\":\n",
    "        originaltz = 'UTC' # Why? EST was mistake\n",
    "    elif dateColName == \"Date\":\n",
    "        originaltz = 'UTC'\n",
    "    else:\n",
    "        raise ValueError(\"Cannot processes timezone of Date column\" + dateColName)\n",
    "    \n",
    "    # Build standard datetime\n",
    "    df[\"Datetime (UTC-10)\"] = df.apply(lambda row: getStandardizedDatetime(row, originaltz), axis=1)\n",
    "    \n",
    "    # add hour column\n",
    "    df[\"Hour (UTC-10)\"] = df[\"Datetime (UTC-10)\"].apply(lambda x: x.hour)\n",
    "    \n",
    "    # add time of day column\n",
    "    df[\"Time of Day\"] = df[\"Hour (UTC-10)\"].apply(getTimeOfDay)\n",
    "    \n",
    "    return df"
   ]
  },
  {
   "cell_type": "markdown",
   "metadata": {},
   "source": [
    "### Plots duration of data\n",
    "\n",
    "Science"
   ]
  },
  {
   "cell_type": "code",
   "execution_count": 3,
   "metadata": {},
   "outputs": [
    {
     "data": {
      "image/png": "[encoded data removed]",
      "text/plain": "<Figure size 432x288 with 1 Axes>"
     },
     "metadata": {
      "needs_background": "light"
     },
     "output_type": "display_data"
    },
    {
     "data": {
      "text/html": "<div>\n<style scoped>\n    .dataframe tbody tr th:only-of-type {\n        vertical-align: middle;\n    }\n\n    .dataframe tbody tr th {\n        vertical-align: top;\n    }\n\n    .dataframe thead th {\n        text-align: right;\n    }\n</style>\n<table border=\"1\" class=\"dataframe\">\n  <thead>\n    <tr style=\"text-align: right;\">\n      <th></th>\n      <th>Date(EST)</th>\n      <th>Time(EST)</th>\n      <th>Depth(m)</th>\n      <th>Lt</th>\n      <th>IntTemp(C)</th>\n      <th>ExtTemp(C)</th>\n      <th>Julian(EST)</th>\n      <th>Year</th>\n      <th>Month</th>\n      <th>Day</th>\n      <th>Hour</th>\n      <th>Min</th>\n      <th>Sec</th>\n      <th>Datetime (UTC-10)</th>\n      <th>Hour (UTC-10)</th>\n      <th>Time of Day</th>\n    </tr>\n  </thead>\n  <tbody>\n    <tr>\n      <th>0</th>\n      <td>03/22/2005</td>\n      <td>00:00:00</td>\n      <td>5.0</td>\n      <td>168</td>\n      <td>NaN</td>\n      <td>25.05</td>\n      <td>2453452</td>\n      <td>2005</td>\n      <td>3</td>\n      <td>22</td>\n      <td>0</td>\n      <td>0</td>\n      <td>0</td>\n      <td>2005-03-21 14:00:00-10:00</td>\n      <td>14</td>\n      <td>Day</td>\n    </tr>\n    <tr>\n      <th>1</th>\n      <td>03/22/2005</td>\n      <td>00:01:00</td>\n      <td>5.0</td>\n      <td>178</td>\n      <td>NaN</td>\n      <td>25.05</td>\n      <td>2453452</td>\n      <td>2005</td>\n      <td>3</td>\n      <td>22</td>\n      <td>0</td>\n      <td>1</td>\n      <td>0</td>\n      <td>2005-03-21 14:01:00-10:00</td>\n      <td>14</td>\n      <td>Day</td>\n    </tr>\n    <tr>\n      <th>2</th>\n      <td>03/22/2005</td>\n      <td>00:02:00</td>\n      <td>5.0</td>\n      <td>171</td>\n      <td>NaN</td>\n      <td>25.05</td>\n      <td>2453452</td>\n      <td>2005</td>\n      <td>3</td>\n      <td>22</td>\n      <td>0</td>\n      <td>2</td>\n      <td>0</td>\n      <td>2005-03-21 14:02:00-10:00</td>\n      <td>14</td>\n      <td>Day</td>\n    </tr>\n    <tr>\n      <th>3</th>\n      <td>03/22/2005</td>\n      <td>00:03:00</td>\n      <td>5.0</td>\n      <td>175</td>\n      <td>NaN</td>\n      <td>25.05</td>\n      <td>2453452</td>\n      <td>2005</td>\n      <td>3</td>\n      <td>22</td>\n      <td>0</td>\n      <td>3</td>\n      <td>0</td>\n      <td>2005-03-21 14:03:00-10:00</td>\n      <td>14</td>\n      <td>Day</td>\n    </tr>\n    <tr>\n      <th>4</th>\n      <td>03/22/2005</td>\n      <td>00:04:00</td>\n      <td>5.0</td>\n      <td>164</td>\n      <td>NaN</td>\n      <td>25.05</td>\n      <td>2453452</td>\n      <td>2005</td>\n      <td>3</td>\n      <td>22</td>\n      <td>0</td>\n      <td>4</td>\n      <td>0</td>\n      <td>2005-03-21 14:04:00-10:00</td>\n      <td>14</td>\n      <td>Day</td>\n    </tr>\n    <tr>\n      <th>...</th>\n      <td>...</td>\n      <td>...</td>\n      <td>...</td>\n      <td>...</td>\n      <td>...</td>\n      <td>...</td>\n      <td>...</td>\n      <td>...</td>\n      <td>...</td>\n      <td>...</td>\n      <td>...</td>\n      <td>...</td>\n      <td>...</td>\n      <td>...</td>\n      <td>...</td>\n      <td>...</td>\n    </tr>\n    <tr>\n      <th>116635</th>\n      <td>06/10/2005</td>\n      <td>23:55:00</td>\n      <td>565.1</td>\n      <td>44</td>\n      <td>NaN</td>\n      <td>6.90</td>\n      <td>2453532</td>\n      <td>2005</td>\n      <td>6</td>\n      <td>10</td>\n      <td>23</td>\n      <td>55</td>\n      <td>0</td>\n      <td>2005-06-10 13:55:00-10:00</td>\n      <td>13</td>\n      <td>Day</td>\n    </tr>\n    <tr>\n      <th>116636</th>\n      <td>06/10/2005</td>\n      <td>23:56:00</td>\n      <td>565.1</td>\n      <td>43</td>\n      <td>NaN</td>\n      <td>7.05</td>\n      <td>2453532</td>\n      <td>2005</td>\n      <td>6</td>\n      <td>10</td>\n      <td>23</td>\n      <td>56</td>\n      <td>0</td>\n      <td>2005-06-10 13:56:00-10:00</td>\n      <td>13</td>\n      <td>Day</td>\n    </tr>\n    <tr>\n      <th>116637</th>\n      <td>06/10/2005</td>\n      <td>23:57:00</td>\n      <td>549.1</td>\n      <td>43</td>\n      <td>NaN</td>\n      <td>7.05</td>\n      <td>2453532</td>\n      <td>2005</td>\n      <td>6</td>\n      <td>10</td>\n      <td>23</td>\n      <td>57</td>\n      <td>0</td>\n      <td>2005-06-10 13:57:00-10:00</td>\n      <td>13</td>\n      <td>Day</td>\n    </tr>\n    <tr>\n      <th>116638</th>\n      <td>06/10/2005</td>\n      <td>23:58:00</td>\n      <td>549.1</td>\n      <td>44</td>\n      <td>NaN</td>\n      <td>7.05</td>\n      <td>2453532</td>\n      <td>2005</td>\n      <td>6</td>\n      <td>10</td>\n      <td>23</td>\n      <td>58</td>\n      <td>0</td>\n      <td>2005-06-10 13:58:00-10:00</td>\n      <td>13</td>\n      <td>Day</td>\n    </tr>\n    <tr>\n      <th>116639</th>\n      <td>06/10/2005</td>\n      <td>23:59:00</td>\n      <td>533.1</td>\n      <td>44</td>\n      <td>NaN</td>\n      <td>7.05</td>\n      <td>2453532</td>\n      <td>2005</td>\n      <td>6</td>\n      <td>10</td>\n      <td>23</td>\n      <td>59</td>\n      <td>0</td>\n      <td>2005-06-10 13:59:00-10:00</td>\n      <td>13</td>\n      <td>Day</td>\n    </tr>\n  </tbody>\n</table>\n<p>116640 rows × 16 columns</p>\n</div>",
      "text/plain": "         Date(EST) Time(EST)  Depth(m)   Lt  IntTemp(C)  ExtTemp(C)  \\\n0       03/22/2005  00:00:00       5.0  168         NaN       25.05   \n1       03/22/2005  00:01:00       5.0  178         NaN       25.05   \n2       03/22/2005  00:02:00       5.0  171         NaN       25.05   \n3       03/22/2005  00:03:00       5.0  175         NaN       25.05   \n4       03/22/2005  00:04:00       5.0  164         NaN       25.05   \n...            ...       ...       ...  ...         ...         ...   \n116635  06/10/2005  23:55:00     565.1   44         NaN        6.90   \n116636  06/10/2005  23:56:00     565.1   43         NaN        7.05   \n116637  06/10/2005  23:57:00     549.1   43         NaN        7.05   \n116638  06/10/2005  23:58:00     549.1   44         NaN        7.05   \n116639  06/10/2005  23:59:00     533.1   44         NaN        7.05   \n\n        Julian(EST)  Year  Month  Day  Hour  Min  Sec  \\\n0           2453452  2005      3   22     0    0    0   \n1           2453452  2005      3   22     0    1    0   \n2           2453452  2005      3   22     0    2    0   \n3           2453452  2005      3   22     0    3    0   \n4           2453452  2005      3   22     0    4    0   \n...             ...   ...    ...  ...   ...  ...  ...   \n116635      2453532  2005      6   10    23   55    0   \n116636      2453532  2005      6   10    23   56    0   \n116637      2453532  2005      6   10    23   57    0   \n116638      2453532  2005      6   10    23   58    0   \n116639      2453532  2005      6   10    23   59    0   \n\n               Datetime (UTC-10)  Hour (UTC-10) Time of Day  \n0      2005-03-21 14:00:00-10:00             14         Day  \n1      2005-03-21 14:01:00-10:00             14         Day  \n2      2005-03-21 14:02:00-10:00             14         Day  \n3      2005-03-21 14:03:00-10:00             14         Day  \n4      2005-03-21 14:04:00-10:00             14         Day  \n...                          ...            ...         ...  \n116635 2005-06-10 13:55:00-10:00             13         Day  \n116636 2005-06-10 13:56:00-10:00             13         Day  \n116637 2005-06-10 13:57:00-10:00             13         Day  \n116638 2005-06-10 13:58:00-10:00             13         Day  \n116639 2005-06-10 13:59:00-10:00             13         Day  \n\n[116640 rows x 16 columns]"
     },
     "execution_count": 3,
     "metadata": {},
     "output_type": "execute_result"
    }
   ],
   "source": [
    "    sns.set(rc={'figure.figsize':(11.7,8.27)})\n",
    "    filename = \"./HawaiiData/1904009_04P0160TS_corrected_HI_only.csv\"\n",
    "    df = getPlotData(filename)\n",
    "    \n",
    "    sns.histplot(df, x=\"Depth(m)\", hue=\"Time of Day\", stat=\"density\", common_norm=False)\n",
    "    \n",
    "    #plotDepthDuration(df, filename)\n",
    "    plt.show()\n",
    "    df"
   ]
  },
  {
   "cell_type": "code",
   "execution_count": 4,
   "metadata": {},
   "outputs": [],
   "source": [
    "latLonFilename = \"./ws_hawaiionly_ssm_archivals_2022apr12.csv\"\n"
   ]
  },
  {
   "cell_type": "code",
   "execution_count": 5,
   "metadata": {},
   "outputs": [],
   "source": [
    "def get_filepaths_in_dir(dir_path):\n",
    "    \"\"\"\n",
    "    Given a directory path, return a list of files in the given directory.\n",
    "    >>> get_files_in_dir('./test')\n",
    "    ['test1.txt', 'test.txt']\n",
    "    \"\"\"\n",
    "    only_files = [join(dir_path, f) for f in listdir(dir_path) if isfile(join(dir_path, f))]\n",
    "    return only_files\n",
    "\n",
    "def filter_csvs(filepaths):\n",
    "    \"\"\"\n",
    "    Given a list of filepaths, returns a list containing only the csv filepaths \n",
    "    in the given list\n",
    "    \"\"\"\n",
    "    csv_files = [f for f in filepaths if '.csv' in f]\n",
    "    return csv_files"
   ]
  },
  {
   "cell_type": "code",
   "execution_count": 6,
   "metadata": {},
   "outputs": [
    {
     "data": {
      "text/plain": "['./HawaiiData/1904009_04P0160TS_corrected_HI_only.csv',\n './HawaiiData/1905028_05P0132TS_corrected_HI_only.csv',\n './HawaiiData/1906012_06A0555TS_corrected_HI_only.csv',\n './HawaiiData/1919012_L330-2736TS_corrected_HI_only.csv',\n './HawaiiData/1900004_00P0291TS_corrected_HI_only.csv',\n './HawaiiData/1909002_08A0599TS_corrected_HI_only.csv',\n './HawaiiData/1906002_05P0059TS_corrected_HI_only.csv']"
     },
     "execution_count": 6,
     "metadata": {},
     "output_type": "execute_result"
    }
   ],
   "source": [
    "files = filter_csvs(get_filepaths_in_dir('./HawaiiData'))\n",
    "files"
   ]
  },
  {
   "cell_type": "code",
   "execution_count": 7,
   "metadata": {},
   "outputs": [],
   "source": [
    "def get_shark_ID(filepath):\n",
    "    \"\"\"\n",
    "    Given filepath, returns shark ID.\n",
    "    \"\"\"\n",
    "\n",
    "    # pattern natches any sequence of 16 digits\n",
    "    # ID is 7 digits\n",
    "    pattern = '\\\\d{7}'\n",
    "\n",
    "    sharkIDMatch = re.search(pattern, filepath)\n",
    "    assert sharkIDMatch, 'Could not find 7 digit ID in filepath: {}'.format(filepath)\n",
    "    \n",
    "    sharkID = sharkIDMatch.group(0)\n",
    "    return sharkID"
   ]
  },
  {
   "cell_type": "code",
   "execution_count": 8,
   "metadata": {},
   "outputs": [
    {
     "data": {
      "text/html": "<div>\n<style scoped>\n    .dataframe tbody tr th:only-of-type {\n        vertical-align: middle;\n    }\n\n    .dataframe tbody tr th {\n        vertical-align: top;\n    }\n\n    .dataframe thead th {\n        text-align: right;\n    }\n</style>\n<table border=\"1\" class=\"dataframe\">\n  <thead>\n    <tr style=\"text-align: right;\">\n      <th></th>\n      <th>eventid</th>\n      <th>tagnumber</th>\n      <th>ptt</th>\n      <th>taggingdate</th>\n      <th>length</th>\n      <th>sex</th>\n      <th>firstdate</th>\n      <th>lastdate</th>\n    </tr>\n  </thead>\n  <tbody>\n    <tr>\n      <th>0</th>\n      <td>190000400</td>\n      <td>00P0291</td>\n      <td>29711</td>\n      <td>2000-10-16</td>\n      <td>457.00</td>\n      <td>M</td>\n      <td>01/03/2001 05:00</td>\n      <td>04/16/2001 05:00</td>\n    </tr>\n    <tr>\n      <th>1</th>\n      <td>190400900</td>\n      <td>04P0160</td>\n      <td>52933</td>\n      <td>2004-11-30</td>\n      <td>396.00</td>\n      <td>F</td>\n      <td>03/22/2005 05:00</td>\n      <td>06/10/2005 05:00</td>\n    </tr>\n    <tr>\n      <th>2</th>\n      <td>190502800</td>\n      <td>05P0132</td>\n      <td>62021</td>\n      <td>2005-12-15</td>\n      <td>480.00</td>\n      <td>F</td>\n      <td>03/31/2006 05:00</td>\n      <td>05/30/2006 05:00</td>\n    </tr>\n    <tr>\n      <th>3</th>\n      <td>190600200</td>\n      <td>05P0059</td>\n      <td>60983</td>\n      <td>2006-01-21</td>\n      <td>400.00</td>\n      <td>F</td>\n      <td>06/09/2006 05:00</td>\n      <td>09/03/2006 05:00</td>\n    </tr>\n    <tr>\n      <th>4</th>\n      <td>190601200</td>\n      <td>06A0555</td>\n      <td>68281</td>\n      <td>2006-10-10</td>\n      <td>426.72</td>\n      <td>M</td>\n      <td>02/09/2007 05:00</td>\n      <td>06/05/2007 05:00</td>\n    </tr>\n    <tr>\n      <th>5</th>\n      <td>190900200</td>\n      <td>08A0599</td>\n      <td>87568</td>\n      <td>2009-01-19</td>\n      <td>427.00</td>\n      <td>F</td>\n      <td>03/17/2009 05:00</td>\n      <td>06/09/2009 05:00</td>\n    </tr>\n    <tr>\n      <th>6</th>\n      <td>191901200</td>\n      <td>L330-2736</td>\n      <td>196867</td>\n      <td>2019-11-24</td>\n      <td>366.00</td>\n      <td>M</td>\n      <td>01/12/2020 05:00</td>\n      <td>04/16/2020 05:00</td>\n    </tr>\n  </tbody>\n</table>\n</div>",
      "text/plain": "     eventid  tagnumber     ptt taggingdate  length sex         firstdate  \\\n0  190000400    00P0291   29711  2000-10-16  457.00   M  01/03/2001 05:00   \n1  190400900    04P0160   52933  2004-11-30  396.00   F  03/22/2005 05:00   \n2  190502800    05P0132   62021  2005-12-15  480.00   F  03/31/2006 05:00   \n3  190600200    05P0059   60983  2006-01-21  400.00   F  06/09/2006 05:00   \n4  190601200    06A0555   68281  2006-10-10  426.72   M  02/09/2007 05:00   \n5  190900200    08A0599   87568  2009-01-19  427.00   F  03/17/2009 05:00   \n6  191901200  L330-2736  196867  2019-11-24  366.00   M  01/12/2020 05:00   \n\n           lastdate  \n0  04/16/2001 05:00  \n1  06/10/2005 05:00  \n2  05/30/2006 05:00  \n3  09/03/2006 05:00  \n4  06/05/2007 05:00  \n5  06/09/2009 05:00  \n6  04/16/2020 05:00  "
     },
     "execution_count": 8,
     "metadata": {},
     "output_type": "execute_result"
    }
   ],
   "source": [
    "meta_df = pd.read_csv('./ws_hawaiionly_ssm_archivals_dateranges_2022apr18.csv')\n",
    "meta_df"
   ]
  },
  {
   "cell_type": "code",
   "execution_count": 9,
   "metadata": {},
   "outputs": [],
   "source": [
    "columns = [\"Datetime (UTC-10)\", \"Hour (UTC-10)\", \"Time of Day\", \"Depth(m)\", \"Id\", \"Sex\", \"External Temp (c)\"]\n",
    "dfs = []\n",
    "\n",
    "for file in files:\n",
    "    df = getPlotData(file)\n",
    "    shark_id = get_shark_ID(file)\n",
    "    df['Id'] = shark_id\n",
    "    sex = meta_df[meta_df['eventid'] == int(shark_id + '00') ]['sex'].iloc[0]\n",
    "    df['Sex'] = sex\n",
    "    df['External Temp (c)'] = df['ExtTemp(C)']\n",
    "    df = df[columns]\n",
    "    \n",
    "    dfs.append(df)"
   ]
  },
  {
   "cell_type": "code",
   "execution_count": null,
   "metadata": {},
   "outputs": [],
   "source": [
    "combined = pd.concat(dfs, ignore_index=True)"
   ]
  },
  {
   "cell_type": "code",
   "execution_count": null,
   "metadata": {},
   "outputs": [],
   "source": [
    "combined.info()\n",
    "combined"
   ]
  },
  {
   "cell_type": "code",
   "execution_count": null,
   "metadata": {},
   "outputs": [],
   "source": [
    "# external temp vs depth for sharks\n",
    "sns.set_theme(color_codes=True)\n",
    "ax = sns.scatterplot(data=combined, x=\"External Temp (c)\", y=\"Depth(m)\", alpha = 0.05, linewidth=0, hue=\"Sex\")\n",
    "ax.invert_yaxis()\n",
    "ax.set_ylabel('Depth (m)')\n",
    "ax.set_xlabel('External Temperature ($^\\circ$C)')\n",
    "ax.set_title(\"Depth vs. Temperature measured by White Shark PSATs\")"
   ]
  },
  {
   "cell_type": "code",
   "execution_count": null,
   "metadata": {},
   "outputs": [],
   "source": []
  },
  {
   "cell_type": "code",
   "execution_count": null,
   "metadata": {},
   "outputs": [],
   "source": [
    "fem = combined[combined[\"Sex\"] == \"F\"]\n",
    "mal = combined[combined[\"Sex\"] == \"M\"]"
   ]
  },
  {
   "cell_type": "code",
   "execution_count": null,
   "metadata": {},
   "outputs": [],
   "source": [
    "# temp v depth for female's\n",
    "sns.set_theme(color_codes=True)\n",
    "ax = sns.scatterplot(data=fem, x=\"External Temp (c)\", y=\"Depth(m)\", alpha = 0.05, linewidth=0)\n",
    "ax.invert_yaxis()\n",
    "ax.set_ylabel('Depth (m)')\n",
    "ax.set_xlabel('External Temperature ($^\\circ$C)')\n",
    "ax.set_title(\"Depth vs. Temperature measured by Female White Shark PSATs\")"
   ]
  },
  {
   "cell_type": "code",
   "execution_count": null,
   "metadata": {},
   "outputs": [],
   "source": [
    "# temp v depth for both sex's\n",
    "sns.set_theme(color_codes=True)\n",
    "ax = sns.scatterplot(data=mal, x=\"External Temp (c)\", y=\"Depth(m)\", alpha = 0.05, linewidth=0)\n",
    "ax.invert_yaxis()\n",
    "ax.set_ylabel('Depth (m)')\n",
    "ax.set_xlabel('External Temperature ($^\\circ$C)')\n",
    "ax.set_title(\"Depth vs. Temperature measured by Male White Shark PSATs\")"
   ]
  },
  {
   "cell_type": "code",
   "execution_count": null,
   "metadata": {},
   "outputs": [],
   "source": [
    "fem_day = fem[fem[\"Time of Day\"] == \"Day\"]\n",
    "fem_night = fem[fem[\"Time of Day\"] == \"Night\"]"
   ]
  },
  {
   "cell_type": "code",
   "execution_count": null,
   "metadata": {},
   "outputs": [],
   "source": [
    "def plotHeatMap(df, Id):\n",
    "    # Apply the default theme\n",
    "    sns.set_theme()\n",
    "   \n",
    "    binSize = 10\n",
    "    maxDepth = 700\n",
    "    bins = np.arange(0, maxDepth, binSize)\n",
    "    df[\"Depth Bin\"] = pd.cut(df[\"Depth(m)\"], bins=bins, labels=bins[:-1])\n",
    "    grouped = df.groupby([\"Hour (UTC-10)\", \"Depth Bin\"]).size().reset_index(name='count')\n",
    "    grouped['percent'] = grouped['count'] / grouped.groupby(\"Hour (UTC-10)\")['count'].transform('sum')\n",
    "    piv = grouped.pivot(\"Depth Bin\", \"Hour (UTC-10)\", \"percent\")\n",
    "    ax = sns.heatmap(piv, robust=True, cbar_kws={'label': 'Fraction of Time Spent'})\n",
    "    ax.set_ylabel('Depth (m)')\n",
    "    ax.set_xlabel('Hour')\n",
    "    ax.set_title('Time spent at depth for ' + Id)"
   ]
  },
  {
   "cell_type": "code",
   "execution_count": null,
   "metadata": {},
   "outputs": [],
   "source": [
    "plotHeatMap(fem, 'all females')"
   ]
  },
  {
   "cell_type": "code",
   "execution_count": null,
   "metadata": {},
   "outputs": [],
   "source": [
    "plotHeatMap(mal, 'all males')"
   ]
  },
  {
   "cell_type": "code",
   "execution_count": null,
   "metadata": {},
   "outputs": [],
   "source": [
    "combined.index.is_unique"
   ]
  },
  {
   "cell_type": "code",
   "execution_count": null,
   "metadata": {},
   "outputs": [],
   "source": [
    "comb_day = combined[combined[\"Time of Day\"] == \"Day\"]\n",
    "ax = sns.histplot(comb_day, x=\"Depth(m)\", hue=\"Sex\", stat=\"density\", common_norm=False)\n",
    "ax.set_xlim(0, 600)\n",
    "ax.set_ylabel('Fraction of Time Spent')\n",
    "ax.set_xlabel('Depth (m)')\n",
    "ax.set_title('Daytime depth distribution')"
   ]
  },
  {
   "cell_type": "code",
   "execution_count": null,
   "metadata": {},
   "outputs": [],
   "source": [
    "comb_day = combined[combined[\"Time of Day\"] == \"Day\"]\n",
    "ax = sns.histplot(comb_day, x=\"Depth(m)\", hue=\"Sex\", stat=\"density\", common_norm=False)\n",
    "ax.set_xlim(0, 600)\n",
    "ax.set_ylabel('Fraction of Time Spent')\n",
    "ax.set_xlabel('Depth (m)')\n",
    "ax.set_title('Daytime depth distribution')\n",
    "ax.set_ylim(0,0.01)"
   ]
  },
  {
   "cell_type": "code",
   "execution_count": null,
   "metadata": {
    "scrolled": false
   },
   "outputs": [],
   "source": [
    "comb_night = combined[combined[\"Time of Day\"] == \"Night\"]\n",
    "ax = sns.histplot(comb_night, x=\"Depth(m)\", hue=\"Sex\", stat=\"density\", common_norm=False)\n",
    "ax.set_ylabel('Fraction of Time Spent')\n",
    "ax.set_xlabel('Depth (m)')\n",
    "ax.set_xlim(0, 600)\n",
    "ax.set_ylim(0,0.01)\n",
    "ax.set_title('Nighttime depth distribution')"
   ]
  },
  {
   "cell_type": "code",
   "execution_count": null,
   "metadata": {},
   "outputs": [],
   "source": [
    "comb_night = combined[combined[\"Time of Day\"] == \"Night\"]\n",
    "ax = sns.histplot(comb_night, x=\"Depth(m)\", hue=\"Sex\", stat=\"density\", common_norm=False)\n",
    "ax.set_ylabel('Fraction of Time Spent')\n",
    "ax.set_xlabel('Depth (m)')\n",
    "ax.set_xlim(0, 600)\n",
    "ax.set_title('Nighttime depth distribution')"
   ]
  },
  {
   "cell_type": "code",
   "execution_count": null,
   "metadata": {},
   "outputs": [],
   "source": [
    "plotHeatMap(combined, 'all sharks')"
   ]
  },
  {
   "cell_type": "code",
   "execution_count": null,
   "metadata": {},
   "outputs": [],
   "source": [
    "ax = sns.histplot(fem_day, x=\"Depth(m)\", hue=\"Id\", stat=\"density\", common_norm=False)\n",
    "ax.set_xlim(0, 600)\n",
    "ax.set_ylabel('Fraction of Time Spent')\n",
    "ax.set_xlabel('Depth (m)')\n",
    "ax.set_title('Daytime depth distribution for individual females')"
   ]
  },
  {
   "cell_type": "code",
   "execution_count": null,
   "metadata": {},
   "outputs": [],
   "source": [
    "ax = sns.histplot(fem_night, x=\"Depth(m)\", hue=\"Id\", stat=\"density\", common_norm=False)\n",
    "ax.set_xlim(0, 600)\n",
    "ax.set_ylabel('Fraction of Time Spent')\n",
    "ax.set_xlabel('Depth (m)')\n",
    "ax.set_title('Nighttime depth distribution for individual females')"
   ]
  },
  {
   "cell_type": "code",
   "execution_count": null,
   "metadata": {},
   "outputs": [],
   "source": [
    "mal_day = mal[mal[\"Time of Day\"] == \"Day\"]\n",
    "mal_night = mal[mal[\"Time of Day\"] == \"Night\"]\n",
    "\n",
    "ax = sns.histplot(mal_day, x=\"Depth(m)\", hue=\"Id\", stat=\"density\", common_norm=False)\n",
    "ax.set_xlim(0, 600)\n",
    "ax.set_ylabel('Fraction of Time Spent')\n",
    "ax.set_xlabel('Depth (m)')\n",
    "ax.set_title('Daytime depth distribution for individual males')"
   ]
  },
  {
   "cell_type": "code",
   "execution_count": null,
   "metadata": {
    "scrolled": true
   },
   "outputs": [],
   "source": [
    "ax = sns.histplot(mal_night, x=\"Depth(m)\", hue=\"Id\", stat=\"density\", common_norm=False)\n",
    "ax.set_xlim(0, 600)\n",
    "ax.set_ylabel('Fraction of Time Spent')\n",
    "ax.set_xlabel('Depth (m)')\n",
    "ax.set_title('Nighttime depth distribution for individual males')"
   ]
  },
  {
   "cell_type": "markdown",
   "metadata": {},
   "source": [
    "# Figures using Astral\n",
    "Using the Astral Library to find local apparant sunset and sunrise using date, lat, and lon"
   ]
  },
  {
   "cell_type": "markdown",
   "metadata": {},
   "source": [
    "### Fixing the dataframes"
   ]
  },
  {
   "cell_type": "code",
   "execution_count": null,
   "metadata": {},
   "outputs": [],
   "source": [
    "combined.info()\n",
    "combined['Id'] = combined['Id'].apply(lambda x: x + \"00\") # match Shark Id format in lat,lon file\n",
    "combined['Date'] = combined['Datetime (UTC-10)'].apply(lambda x: x.date)\n",
    "combined"
   ]
  },
  {
   "cell_type": "code",
   "execution_count": null,
   "metadata": {},
   "outputs": [],
   "source": [
    "latLon = pd.read_csv(\"./ws_hawaiionly_ssm_archivals_2022apr12.csv\")\n",
    "latLon.info()\n",
    "latLon"
   ]
  },
  {
   "cell_type": "code",
   "execution_count": null,
   "metadata": {},
   "outputs": [],
   "source": [
    "def strToDt(row):\n",
    "    \"\"\"\n",
    "    Given row of latLon df, returns Dt obj of the\n",
    "    str date in the date column\n",
    "    \"\"\"\n",
    "    strDate = row[\"date\"] # \"mm/dd/yyyy hh:mm\"\n",
    "    strYr = strDate[6:11]\n",
    "    strMo = strDate[0:2]\n",
    "    strDay = strDate[3:5]\n",
    "    \n",
    "    # args y, m, d, hr, s, ms \n",
    "    return dt.datetime(int(strYr), int(strMo), int(strDay), 5, 0, 0, 0, pytz.timezone(\"Pacific/Honolulu\"))\n",
    "    "
   ]
  },
  {
   "cell_type": "code",
   "execution_count": null,
   "metadata": {},
   "outputs": [],
   "source": [
    "latLon = pd.read_csv(\"./ws_hawaiionly_ssm_archivals_2022apr12.csv\")\n",
    "latLon.info()\n",
    "\n",
    "# make date column a datetime object\n",
    "latLon[\"Datetime (Pacific/Honolulu)\"] = latLon.apply(lambda row: strToDt(row), axis=1)\n",
    "latLon['Date'] = latLon['Datetime (Pacific/Honolulu)'].apply(lambda x: x.date)\n",
    "\n",
    "latLon"
   ]
  },
  {
   "cell_type": "code",
   "execution_count": null,
   "metadata": {},
   "outputs": [],
   "source": [
    "# figuring out date time stuff\n",
    "\n",
    "rowDateStr = latLon[\"date\"][0][0:10]\n",
    "\n",
    "int(rowDateStr[6:]), int(rowDateStr[3:5]), int(rowDateStr[0:2])\n",
    "\n",
    "dtObj = dt.datetime(int(rowDateStr[6:]), int(rowDateStr[3:5]), int(rowDateStr[0:2]), 5, 0, 0, 0, pytz.timezone(\"Pacific/Honolulu\"))\n",
    "dtObj.date\n",
    "\n",
    "combDt = combined[\"Datetime (UTC-10)\"]\n",
    "combDt\n",
    "combDt[0].date == dtObj.date\n"
   ]
  },
  {
   "cell_type": "markdown",
   "metadata": {},
   "source": [
    "# df join sandbox"
   ]
  },
  {
   "cell_type": "code",
   "execution_count": null,
   "metadata": {},
   "outputs": [],
   "source": [
    "people = pd.DataFrame({'name': ['Roman', 'Erika', 'Sasha', 'Greg'],\n",
    "                       'hair': ['fluffy', 'black', 'smooth', 'brown']})\n",
    "\n",
    "cats =  pd.DataFrame({'name': ['Coco', 'Chaika', 'Mr Incredible', 'Buffy', 'Sushi'],\n",
    "                      'owner': ['Erika', 'Sasha', 'Roman', 'Erika', 'Jeff']})\n",
    "\n",
    "cats"
   ]
  },
  {
   "cell_type": "code",
   "execution_count": null,
   "metadata": {},
   "outputs": [],
   "source": [
    "people"
   ]
  },
  {
   "cell_type": "code",
   "execution_count": null,
   "metadata": {},
   "outputs": [],
   "source": [
    "merged = cats.merge(people, how=\"left\", left_on=\"owner\", right_on=\"name\")\n",
    "merged"
   ]
  },
  {
   "cell_type": "code",
   "execution_count": null,
   "metadata": {},
   "outputs": [],
   "source": [
    "merger_rt = cats.merge(people, how=\"right\", left_on=\"owner\", right_on=\"name\")\n",
    "merger_rt"
   ]
  },
  {
   "cell_type": "code",
   "execution_count": null,
   "metadata": {},
   "outputs": [],
   "source": [
    "inner = cats.merge(people, how=\"inner\", left_on=\"owner\", right_on=\"name\")\n",
    "inner"
   ]
  },
  {
   "cell_type": "code",
   "execution_count": null,
   "metadata": {},
   "outputs": [],
   "source": [
    "out = cats.merge(people, how=\"outer\", left_on=\"owner\", right_on=\"name\")\n",
    "out"
   ]
  },
  {
   "cell_type": "code",
   "execution_count": null,
   "metadata": {},
   "outputs": [],
   "source": [
    "# work with subset of WS + lat long (MONDAY) - joining on two columns - look into indexing (idx on date and id) \n",
    "# stringify date\n",
    "\n",
    "# mini combined - mini_loc : left join on 'Date'='date' and 'Id'='eventid'\n",
    "\n",
    "# mini combined\n",
    "# mini_combined = pd.Dataframe({'Datetime (UTC-10)':[],\n",
    "#                               'Hour (UTC-10)': [],\n",
    "#                               'Time of Day': [],\n",
    "#                               'Depth (m)': [],\n",
    "#                               'Id': [],\n",
    "#                               'Sex':[],\n",
    "#                               'Depth Bin': [],\n",
    "#                               'Date': []})\n",
    "\n",
    "# mini_loc = pd.DataFrame({'eventid': [],\n",
    "#                         'tagnumber': [],\n",
    "#                         'ppt': [],\n",
    "#                         'taggingdate': [],\n",
    "#                         'length': [],\n",
    "#                         'sex': [],\n",
    "#                         'lattitude': [],\n",
    "#                         'longitude': [],\n",
    "#                         'month': [],\n",
    "#                         'year': [],\n",
    "#                         'date': []})\n",
    "\n",
    "combined_head = combined.head(20) # will not have unique ID\n",
    "\n",
    "# stringify datetime 'Date' to latch loc_all\n",
    "loc_all = latLon # only 500 entries\n",
    "# loc_all\n",
    "loc_all.rename(columns={\"eventid\": \"Id\"}, inplace=True)\n",
    "\n",
    "loc_all[\"Id\"] = loc_all[\"Id\"].apply(lambda x: str(x))\n",
    "\n",
    "# loc_all.info()\n",
    "\n",
    "combined_head_merge = combined_head.merge(loc_all,  how='left', on=['Date','Id'])\n",
    "combined_head_merge"
   ]
  },
  {
   "cell_type": "markdown",
   "metadata": {},
   "source": [
    "# Making a mater dataframe for astral calculations"
   ]
  },
  {
   "cell_type": "code",
   "execution_count": null,
   "metadata": {},
   "outputs": [],
   "source": [
    "# for real\n",
    "\n",
    "latLon.rename(columns={\"eventid\": \"Id\"}, inplace=True)\n",
    "latLon[\"Id\"] = latLon[\"Id\"].apply(lambda x: str(x))\n",
    "\n",
    "combined_loc_merge = combined.merge(latLon,  how='left', on=['Date','Id'])\n",
    "combined_loc_merge\n"
   ]
  },
  {
   "cell_type": "code",
   "execution_count": null,
   "metadata": {},
   "outputs": [],
   "source": [
    "# def getTimeOfDayAstral(dateTime, lat, lon):\n",
    "    \n",
    "#     city = LocationInfo(\"Honolulu\", \"Hawaii\", \"Pacific/Honolulu\", lat, lon)\n",
    "#     s = sun(city.observer, date=datetime.date(dateTime.year, dateTime.month, dateTime.day))\n",
    "\n",
    "#     # time of day\n",
    "#     #dawn = s[\"dawn\"]\n",
    "#     sunrise = s[\"sunrise\"]\n",
    "#     sunset = s[\"sunset\"]\n",
    "#     #dusk = s[\"dusk\"]\n",
    "    \n",
    "#     oneSec = dt.timedelta(seconds=1)\n",
    "#     # oneMin = dt.datetime(minutes=1)\n",
    "#     pre_midnight = dt.datetime(dateTime.year, dateTime.month, dateTime.Day, 23, 59, 59)\n",
    "#     midnight = dt.datetime(dateTime.year, dateTime.month, dateTime.Day, 24, 0, 0)\n",
    "    \n",
    "#     if dateTime in pd.date_range(sunrise + oneHour, sunset - oneHour):\n",
    "#         return 'Day'\n",
    "#     elif dateTime in pd.date_range(sunset + oneHour, pre_midnight) or hour in range(midnight, sunrise - oneHour):\n",
    "#         return 'Night'\n",
    "#     elif dateTime in range(sunrise - oneHour, sunrise + oneHour):\n",
    "#         return 'Dawn'\n",
    "#     else:\n",
    "#         return 'Dusk'"
   ]
  },
  {
   "cell_type": "code",
   "execution_count": null,
   "metadata": {},
   "outputs": [],
   "source": [
    "# def getPlotDataAstral(filename, latLonFile=None):\n",
    "#      \"\"\"\n",
    "#     Given a filename to corrected archival White Shark tag\n",
    "#     data, returns a pandas dataframe containing data for\n",
    "#     plotting\n",
    "#     \"\"\"\n",
    "#     df = pd.read_csv(filename)\n",
    "    \n",
    "#     locDf = pd.DataFrame()\n",
    "#     if latLonFile:\n",
    "#         locDf = pd.read_csv(latLonFile)\n",
    "        \n",
    "    \n",
    "#     # Get timezone of date/time\n",
    "#     dateColName = df.columns[0]\n",
    "#     originaltz = ''\n",
    "#     if dateColName == \"Date(UTC-8)\":\n",
    "#         originaltz = 'Etc/GMT+8' # why? no one knows\n",
    "#     elif dateColName == \"Date(EST)\":\n",
    "#         originaltz = 'UTC' # Why? EST was mistake\n",
    "#     elif dateColName == \"Date\":\n",
    "#         originaltz = 'UTC'\n",
    "#     else:\n",
    "#         raise ValueError(\"Cannot processes timezone of Date column\" + dateColName)\n",
    "    \n",
    "#     # Build standard datetime\n",
    "#     df[\"Datetime (UTC-10)\"] = df.apply(lambda row: getStandardizedDatetime(row, originaltz), axis=1)\n",
    "    \n",
    "#     # add hour column\n",
    "#     df[\"Hour (UTC-10)\"] = df[\"Datetime (UTC-10)\"].apply(lambda x: x.hour)\n",
    "    \n",
    "#     # add time of day column\n",
    "    \n",
    "#     ## put in one lat long cuz in dif csvs - or can do from light data ? cuzz shark at surface ? not pt by pt\n",
    "#     df[\"Time of Day\"] = df[\"Hour (UTC-10)\"].apply(lambda x: getTimeOfDayAstral(x[\"Datetime (UTC-10)\"], x[]))\n",
    "    \n",
    "#     return df"
   ]
  },
  {
   "cell_type": "code",
   "execution_count": null,
   "metadata": {},
   "outputs": [],
   "source": [
    "df_empty = combined_loc_merge[combined_loc_merge['latitude'].isna()]\n",
    "df_empty\n",
    "# df_empty.hist('longitude')\n",
    "combined_loc_merge.hist('longitude')\n",
    "combined_loc_merge.hist('latitude')"
   ]
  },
  {
   "cell_type": "code",
   "execution_count": null,
   "metadata": {},
   "outputs": [],
   "source": [
    "combined_loc_merge.info()\n",
    "mean_lon = combined_loc_merge[\"longitude\"].mean()\n",
    "mean_lat = combined_loc_merge[\"latitude\"].mean()\n",
    "\n",
    "# fill n/a lat lon with avg lat/lon of dataset b/c histograms seem clustered around means with relatively small std (degree difference only make difference of a few minutes)\n",
    "combined_loc_merge['latitude'] = combined_loc_merge['latitude'].fillna(mean_lat)\n",
    "combined_loc_merge['longitude'] = combined_loc_merge['longitude'].fillna(mean_lon)\n",
    "\n",
    "\n",
    "combined_loc_merge"
   ]
  },
  {
   "cell_type": "code",
   "execution_count": null,
   "metadata": {},
   "outputs": [],
   "source": [
    "def getTimeOfDayAstral(dateTime, lat, lon):\n",
    "    \n",
    "    \n",
    "    city = LocationInfo(\"Honolulu\", \"Hawaii\", \"Pacific/Honolulu\", lat, lon)\n",
    "    s = sun(city.observer, date=dateTime, tzinfo=city.timezone) ## replace city.timezone with actuat timezone\n",
    "\n",
    "    # time of day\n",
    "    #dawn = s[\"dawn\"]\n",
    "    sunrise = s[\"sunrise\"] #.astimezone(pytz.timezone(\"Pacific/Honolulu\"))\n",
    "    sunset = s[\"sunset\"] #.astimezone(pytz.timezone(\"Pacific/Honolulu\"))\n",
    "    #dusk = s[\"dusk\"]\n",
    "    \n",
    "#     oneSec = dt.timedelta(seconds=1)\n",
    "    # oneMin = dt.datetime(minutes=1)\n",
    "    oneHour = dt.timedelta(hours=1)\n",
    "    pre_midnight = dt.datetime(dateTime.year, dateTime.month, dateTime.day, 23, 59, 59).astimezone(pytz.timezone(\"Pacific/Honolulu\"))\n",
    "    midnight = dt.datetime(dateTime.year, dateTime.month, dateTime.day, 0, 0, 0).astimezone(pytz.timezone(\"Pacific/Honolulu\"))\n",
    "    \n",
    "    dateTime = dateTime.astimezone(pytz.timezone(\"Pacific/Honolulu\"))\n",
    "    \n",
    "    if dateTime in pd.date_range(sunrise + oneHour, sunset - oneHour):\n",
    "        return 'Day'\n",
    "    elif (dateTime in pd.date_range(sunset + oneHour, pre_midnight)) or (dateTime in pd.date_range(midnight, sunrise - oneHour)):\n",
    "        return 'Night'\n",
    "    elif dateTime in pd.date_range(sunrise - oneHour, sunrise + oneHour):\n",
    "        return 'Dawn'\n",
    "    else:\n",
    "        return 'Dusk'"
   ]
  },
  {
   "cell_type": "code",
   "execution_count": null,
   "metadata": {},
   "outputs": [],
   "source": [
    "def getPlotDataAstral(combined_loc_merge):\n",
    "    \"\"\"\n",
    "    Given dataframe combined_loc_merge, returns\n",
    "    data to plot (Add time of day astral column)\n",
    "    \"\"\"\n",
    "    combined_loc_merge[\"Time of Day (Astral)\"] = combined_loc_merge.apply(lambda x: getTimeOfDayAstral(x[\"Datetime (UTC-10)\"], x[\"latitude\"], x[\"longitude\"]), axis=1)"
   ]
  },
  {
   "cell_type": "markdown",
   "metadata": {},
   "source": [
    "### CELL BELOW TAKES 5EVER TO RUN - later compare to other combined_loc_merge"
   ]
  },
  {
   "cell_type": "code",
   "execution_count": null,
   "metadata": {},
   "outputs": [],
   "source": [
    "getPlotDataAstral(combined_loc_merge)\n",
    "combined_loc_merge"
   ]
  },
  {
   "cell_type": "markdown",
   "metadata": {},
   "source": [
    "### CELL BELOW TAKES 5EVER TO RUN"
   ]
  },
  {
   "cell_type": "code",
   "execution_count": null,
   "metadata": {
    "scrolled": true
   },
   "outputs": [],
   "source": [
    "combined_loc_merge\n",
    "# head = combined_loc_merge.head(200)\n",
    "getPlotDataAstral(combined_loc_merge)\n",
    "combined_loc_merge\n",
    "\n",
    "# maybe parallelize - multithreading for pandas"
   ]
  },
  {
   "cell_type": "code",
   "execution_count": null,
   "metadata": {},
   "outputs": [],
   "source": [
    "combined_loc_merge.drop(['Datetime (Pacific/Honolulu)', 'month', 'year', 'date'], axis=1)"
   ]
  },
  {
   "cell_type": "code",
   "execution_count": null,
   "metadata": {},
   "outputs": [],
   "source": [
    "# check the time of day astral\n",
    "\n",
    "combined_loc_merge['Time of Day (Astral)'].apply(pd.value_counts).plot(kind='bar', subplots=True)"
   ]
  },
  {
   "cell_type": "code",
   "execution_count": null,
   "metadata": {},
   "outputs": [],
   "source": []
  },
  {
   "cell_type": "code",
   "execution_count": null,
   "metadata": {},
   "outputs": [],
   "source": []
  },
  {
   "cell_type": "code",
   "execution_count": null,
   "metadata": {},
   "outputs": [],
   "source": [
    "def getLat(row, latLonDf):\n",
    "    \n",
    "    rowDate = row[\"Date\"] # dt obj\n",
    "    rowId = row[\"Id\"] # str\n",
    "    \n",
    "    if (rowDate in latLonDf['Date'].values) and (rowId in latLonDf['eventid'].values):\n",
    "    \n",
    "        matchDf = latLonDf[(latLonDf['Date'] == rowDate) & (latLonDf['eventid'] == rowId)]\n",
    "\n",
    "        if not matchDf.empty: # if match(es) exist(s) return first match\n",
    "            return matchDf[\"latitude\"][0]\n",
    "    \n",
    "    # else return centroid of lats for Id\n",
    "    return latLonDf[\"latitude\"].mean()\n",
    "\n",
    "    \n",
    "def getLon(row, latLonDf):\n",
    "    \n",
    "    rowDate = row[\"Date\"] # dt obj\n",
    "    rowId = row[\"Id\"] # str\n",
    "    \n",
    "    if (rowDate in latLonDf['Date'].values) and (rowId in latLonDf['eventid'].values):\n",
    "        \n",
    "        matchDf = latLonDf[(latLonDf['Date'] == rowDate) & (latLonDf['eventid'] == rowId)]\n",
    "\n",
    "        if not matchDf.empty: # if match(es) exist(s) return first match\n",
    "            return matchDf[0]\n",
    "    \n",
    "    # else return centroid of lats for Id\n",
    "    return latLonDf[\"longitude\"].mean()\n"
   ]
  },
  {
   "cell_type": "code",
   "execution_count": null,
   "metadata": {},
   "outputs": [],
   "source": [
    "def addLatLon(combinedDf, latLonDf):\n",
    "    \"\"\"\n",
    "    Given combined pd df with columns\n",
    "    Datetime(UTC-10), Hour(UTC-10), Time of Day,\n",
    "    Depth(m), Id, Sex -> returns same pd df w\n",
    "    added lat and lon columns for each row\n",
    "    \"\"\"\n",
    "    result = combined\n",
    "    \n",
    "    result[\"Latitude\"] = result.apply(lambda row: getLat(row, latLonDf), axis=1)\n",
    "    result[\"Longitude\"] = result.apply(lambda row: getLon(row, latLonDf), axis=1)\n",
    "    \n",
    "    return result"
   ]
  },
  {
   "cell_type": "code",
   "execution_count": null,
   "metadata": {},
   "outputs": [],
   "source": [
    "# combinedLL = addLatLon(combined, latLon)\n",
    "# combinedLL"
   ]
  },
  {
   "cell_type": "code",
   "execution_count": null,
   "metadata": {},
   "outputs": [],
   "source": [
    "## Astral sandbox\n",
    "\n",
    "city = LocationInfo(\"Honolulu\", \"Hawaii\", \"Pacific/Honolulu\", 21.77219006, -158.5621136)\n",
    "s = sun(city.observer, date=dt.date(2001, 1, 3))\n",
    "s"
   ]
  },
  {
   "cell_type": "code",
   "execution_count": null,
   "metadata": {},
   "outputs": [],
   "source": [
    "# compare females and males later ? what about transmitted data?\n",
    "locations = pd.read_csv('./ws_hawaiionly_ssm_archivals_2022apr12.csv')\n",
    "ax = sns.histplot(locations, x=\"month\", hue=\"eventid\", stat=\"density\", common_norm=False)\n",
    "# ax.set_xlim(0, 600)\n",
    "ax.set_ylabel('Fraction of Time Spent')\n",
    "ax.set_xlabel('Month')\n",
    "ax.set_title('Datetime distribution for all sharks')"
   ]
  },
  {
   "cell_type": "code",
   "execution_count": null,
   "metadata": {},
   "outputs": [],
   "source": []
  }
 ],
 "metadata": {
  "kernelspec": {
   "display_name": "Python 3.10.2 64-bit",
   "name": "python3102jvsc74a57bd098590ff4fe04c8543246b2a01debd3de3c5ca9b666f43f1fa87d5110c692004c"
  },
  "language_info": {
   "codemirror_mode": {
    "name": "ipython",
    "version": 3
   },
   "file_extension": ".py",
   "mimetype": "text/x-python",
   "name": "python",
   "nbconvert_exporter": "python",
   "pygments_lexer": "ipython3",
   "version": "3.10.2"
  },
  "orig_nbformat": 3
 },
 "nbformat": 4,
 "nbformat_minor": 5
}