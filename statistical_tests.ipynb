{
 "cells": [
  {
   "cell_type": "code",
   "execution_count": 1,
   "metadata": {},
   "outputs": [],
   "source": [
    "from astral import LocationInfo\n",
    "from astral.sun import sun\n",
    "import datetime as dt\n",
    "from pathlib import Path  \n",
    "import pytz\n",
    "from pytz import timezone\n",
    "import matplotlib.pyplot as plt\n",
    "from multiprocessing import Pool\n",
    "import numpy as np\n",
    "import os\n",
    "from os import listdir\n",
    "from os.path import isfile, join\n",
    "import pandas as pd\n",
    "import re\n",
    "from scipy import stats\n",
    "from scipy.stats import median_test\n",
    "from scipy.stats import shapiro\n",
    "import seaborn as sns\n",
    "import statistics\n",
    "from statsmodels.stats.diagnostic import lilliefors\n",
    "import swifter\n",
    "from swifter import set_defaults\n",
    "import sys"
   ]
  },
  {
   "cell_type": "code",
   "execution_count": 2,
   "metadata": {},
   "outputs": [],
   "source": [
    "# set swifter defaults\n",
    "set_defaults(\n",
    "    npartitions=None,\n",
    "    dask_threshold=1,\n",
    "    scheduler=\"processes\",\n",
    "    progress_bar=True,\n",
    "    progress_bar_desc=None,\n",
    "    allow_dask_on_strings=True,\n",
    "    force_parallel=False,\n",
    ")\n",
    "\n",
    "# set seaborn defauly figure size\n",
    "sns.set(rc={'figure.figsize':(11.7,8.27)})"
   ]
  },
  {
   "cell_type": "markdown",
   "metadata": {},
   "source": [
    "# Import Data"
   ]
  },
  {
   "cell_type": "code",
   "execution_count": 3,
   "metadata": {},
   "outputs": [],
   "source": [
    "master = pd.read_csv('./data/hawaii_data/processed/master_hawaii.csv')\n",
    "\n",
    "meta = pd.read_csv('./data/meta_data.csv')"
   ]
  },
  {
   "cell_type": "code",
   "execution_count": 4,
   "metadata": {},
   "outputs": [
    {
     "name": "stdout",
     "output_type": "stream",
     "text": [
      "<class 'pandas.core.frame.DataFrame'>\n",
      "RangeIndex: 1794390 entries, 0 to 1794389\n",
      "Data columns (total 19 columns):\n",
      " #   Column                         Dtype  \n",
      "---  ------                         -----  \n",
      " 0   Unnamed: 0                     int64  \n",
      " 1   Id                             int64  \n",
      " 2   Datetime (UTC-10)              object \n",
      " 3   Hour (UTC-10)                  int64  \n",
      " 4   Time of Day                    object \n",
      " 5   Depth(m)                       float64\n",
      " 6   External Temp (c)              float64\n",
      " 7   Sex                            object \n",
      " 8   Shark Length (cm)              float64\n",
      " 9   Time of Day (Astral)           object \n",
      " 10  Depth Diff (m)                 float64\n",
      " 11  Vertical Velocity (m/s)        float64\n",
      " 12  Speed (m/s)                    float64\n",
      " 13  Moon Phase                     object \n",
      " 14  Mean Hourly Depth (m)          float64\n",
      " 15  Mean Hourly External Temp (c)  float64\n",
      " 16  Hourly Diving Ratio            float64\n",
      " 17  Mean Hourly Speed (m/s)        float64\n",
      " 18  Daily SST Est (c)              float64\n",
      "dtypes: float64(11), int64(3), object(5)\n",
      "memory usage: 260.1+ MB\n"
     ]
    },
    {
     "data": {
      "text/html": "<div>\n<style scoped>\n    .dataframe tbody tr th:only-of-type {\n        vertical-align: middle;\n    }\n\n    .dataframe tbody tr th {\n        vertical-align: top;\n    }\n\n    .dataframe thead th {\n        text-align: right;\n    }\n</style>\n<table border=\"1\" class=\"dataframe\">\n  <thead>\n    <tr style=\"text-align: right;\">\n      <th></th>\n      <th>Unnamed: 0</th>\n      <th>Id</th>\n      <th>Datetime (UTC-10)</th>\n      <th>Hour (UTC-10)</th>\n      <th>Time of Day</th>\n      <th>Depth(m)</th>\n      <th>External Temp (c)</th>\n      <th>Sex</th>\n      <th>Shark Length (cm)</th>\n      <th>Time of Day (Astral)</th>\n      <th>Depth Diff (m)</th>\n      <th>Vertical Velocity (m/s)</th>\n      <th>Speed (m/s)</th>\n      <th>Moon Phase</th>\n      <th>Mean Hourly Depth (m)</th>\n      <th>Mean Hourly External Temp (c)</th>\n      <th>Hourly Diving Ratio</th>\n      <th>Mean Hourly Speed (m/s)</th>\n      <th>Daily SST Est (c)</th>\n    </tr>\n  </thead>\n  <tbody>\n    <tr>\n      <th>0</th>\n      <td>0</td>\n      <td>190000400</td>\n      <td>2001-01-02 18:59:50-10:00</td>\n      <td>18</td>\n      <td>Dusk</td>\n      <td>38.4</td>\n      <td>24.600002</td>\n      <td>M</td>\n      <td>457.0</td>\n      <td>Dusk</td>\n      <td>-2.0</td>\n      <td>1.0</td>\n      <td>0.016667</td>\n      <td>New Moon</td>\n      <td>38.400000</td>\n      <td>24.600002</td>\n      <td>1.000000</td>\n      <td>0.016667</td>\n      <td>24.75000</td>\n    </tr>\n    <tr>\n      <th>1</th>\n      <td>1</td>\n      <td>190000400</td>\n      <td>2001-01-02 19:01:50-10:00</td>\n      <td>19</td>\n      <td>Night</td>\n      <td>40.4</td>\n      <td>24.600002</td>\n      <td>M</td>\n      <td>457.0</td>\n      <td>Dusk</td>\n      <td>-3.0</td>\n      <td>1.0</td>\n      <td>0.025000</td>\n      <td>New Moon</td>\n      <td>77.166667</td>\n      <td>23.610001</td>\n      <td>1.000000</td>\n      <td>0.056111</td>\n      <td>24.75000</td>\n    </tr>\n    <tr>\n      <th>2</th>\n      <td>2</td>\n      <td>190000400</td>\n      <td>2001-01-02 19:03:50-10:00</td>\n      <td>19</td>\n      <td>Night</td>\n      <td>43.4</td>\n      <td>24.600002</td>\n      <td>M</td>\n      <td>457.0</td>\n      <td>Dusk</td>\n      <td>-4.0</td>\n      <td>1.0</td>\n      <td>0.033333</td>\n      <td>New Moon</td>\n      <td>77.166667</td>\n      <td>23.610001</td>\n      <td>1.000000</td>\n      <td>0.056111</td>\n      <td>24.75000</td>\n    </tr>\n    <tr>\n      <th>3</th>\n      <td>3</td>\n      <td>190000400</td>\n      <td>2001-01-02 19:05:50-10:00</td>\n      <td>19</td>\n      <td>Night</td>\n      <td>47.4</td>\n      <td>24.600002</td>\n      <td>M</td>\n      <td>457.0</td>\n      <td>Dusk</td>\n      <td>-6.0</td>\n      <td>1.0</td>\n      <td>0.050000</td>\n      <td>New Moon</td>\n      <td>77.166667</td>\n      <td>23.610001</td>\n      <td>1.000000</td>\n      <td>0.056111</td>\n      <td>24.75000</td>\n    </tr>\n    <tr>\n      <th>4</th>\n      <td>4</td>\n      <td>190000400</td>\n      <td>2001-01-02 19:07:50-10:00</td>\n      <td>19</td>\n      <td>Night</td>\n      <td>53.4</td>\n      <td>24.450001</td>\n      <td>M</td>\n      <td>457.0</td>\n      <td>Dusk</td>\n      <td>-9.0</td>\n      <td>1.0</td>\n      <td>0.075000</td>\n      <td>New Moon</td>\n      <td>77.166667</td>\n      <td>23.610001</td>\n      <td>1.000000</td>\n      <td>0.056111</td>\n      <td>24.75000</td>\n    </tr>\n    <tr>\n      <th>...</th>\n      <td>...</td>\n      <td>...</td>\n      <td>...</td>\n      <td>...</td>\n      <td>...</td>\n      <td>...</td>\n      <td>...</td>\n      <td>...</td>\n      <td>...</td>\n      <td>...</td>\n      <td>...</td>\n      <td>...</td>\n      <td>...</td>\n      <td>...</td>\n      <td>...</td>\n      <td>...</td>\n      <td>...</td>\n      <td>...</td>\n      <td>...</td>\n    </tr>\n    <tr>\n      <th>1794385</th>\n      <td>1794385</td>\n      <td>190900200</td>\n      <td>2009-06-09 13:59:10-10:00</td>\n      <td>13</td>\n      <td>Day</td>\n      <td>405.8</td>\n      <td>8.700000</td>\n      <td>F</td>\n      <td>427.0</td>\n      <td>Day</td>\n      <td>0.5</td>\n      <td>1.0</td>\n      <td>0.050000</td>\n      <td>Full Moon</td>\n      <td>412.559722</td>\n      <td>8.531944</td>\n      <td>0.740947</td>\n      <td>0.085376</td>\n      <td>25.14375</td>\n    </tr>\n    <tr>\n      <th>1794386</th>\n      <td>1794386</td>\n      <td>190900200</td>\n      <td>2009-06-09 13:59:20-10:00</td>\n      <td>13</td>\n      <td>Day</td>\n      <td>405.3</td>\n      <td>8.700000</td>\n      <td>F</td>\n      <td>427.0</td>\n      <td>Day</td>\n      <td>-0.5</td>\n      <td>1.0</td>\n      <td>0.050000</td>\n      <td>Full Moon</td>\n      <td>412.559722</td>\n      <td>8.531944</td>\n      <td>0.740947</td>\n      <td>0.085376</td>\n      <td>25.14375</td>\n    </tr>\n    <tr>\n      <th>1794387</th>\n      <td>1794387</td>\n      <td>190900200</td>\n      <td>2009-06-09 13:59:30-10:00</td>\n      <td>13</td>\n      <td>Day</td>\n      <td>405.8</td>\n      <td>8.700000</td>\n      <td>F</td>\n      <td>427.0</td>\n      <td>Day</td>\n      <td>0.0</td>\n      <td>0.0</td>\n      <td>0.000000</td>\n      <td>Full Moon</td>\n      <td>412.559722</td>\n      <td>8.531944</td>\n      <td>0.740947</td>\n      <td>0.085376</td>\n      <td>25.14375</td>\n    </tr>\n    <tr>\n      <th>1794388</th>\n      <td>1794388</td>\n      <td>190900200</td>\n      <td>2009-06-09 13:59:40-10:00</td>\n      <td>13</td>\n      <td>Day</td>\n      <td>405.8</td>\n      <td>8.700000</td>\n      <td>F</td>\n      <td>427.0</td>\n      <td>Day</td>\n      <td>0.5</td>\n      <td>1.0</td>\n      <td>0.050000</td>\n      <td>Full Moon</td>\n      <td>412.559722</td>\n      <td>8.531944</td>\n      <td>0.740947</td>\n      <td>0.085376</td>\n      <td>25.14375</td>\n    </tr>\n    <tr>\n      <th>1794389</th>\n      <td>1794389</td>\n      <td>190900200</td>\n      <td>2009-06-09 13:59:50-10:00</td>\n      <td>13</td>\n      <td>Day</td>\n      <td>405.3</td>\n      <td>8.700000</td>\n      <td>F</td>\n      <td>427.0</td>\n      <td>Day</td>\n      <td>NaN</td>\n      <td>NaN</td>\n      <td>NaN</td>\n      <td>Full Moon</td>\n      <td>412.559722</td>\n      <td>8.531944</td>\n      <td>0.740947</td>\n      <td>0.085376</td>\n      <td>25.14375</td>\n    </tr>\n  </tbody>\n</table>\n<p>1794390 rows × 19 columns</p>\n</div>",
      "text/plain": "         Unnamed: 0         Id          Datetime (UTC-10)  Hour (UTC-10)  \\\n0                 0  190000400  2001-01-02 18:59:50-10:00             18   \n1                 1  190000400  2001-01-02 19:01:50-10:00             19   \n2                 2  190000400  2001-01-02 19:03:50-10:00             19   \n3                 3  190000400  2001-01-02 19:05:50-10:00             19   \n4                 4  190000400  2001-01-02 19:07:50-10:00             19   \n...             ...        ...                        ...            ...   \n1794385     1794385  190900200  2009-06-09 13:59:10-10:00             13   \n1794386     1794386  190900200  2009-06-09 13:59:20-10:00             13   \n1794387     1794387  190900200  2009-06-09 13:59:30-10:00             13   \n1794388     1794388  190900200  2009-06-09 13:59:40-10:00             13   \n1794389     1794389  190900200  2009-06-09 13:59:50-10:00             13   \n\n        Time of Day  Depth(m)  External Temp (c) Sex  Shark Length (cm)  \\\n0              Dusk      38.4          24.600002   M              457.0   \n1             Night      40.4          24.600002   M              457.0   \n2             Night      43.4          24.600002   M              457.0   \n3             Night      47.4          24.600002   M              457.0   \n4             Night      53.4          24.450001   M              457.0   \n...             ...       ...                ...  ..                ...   \n1794385         Day     405.8           8.700000   F              427.0   \n1794386         Day     405.3           8.700000   F              427.0   \n1794387         Day     405.8           8.700000   F              427.0   \n1794388         Day     405.8           8.700000   F              427.0   \n1794389         Day     405.3           8.700000   F              427.0   \n\n        Time of Day (Astral)  Depth Diff (m)  Vertical Velocity (m/s)  \\\n0                       Dusk            -2.0                      1.0   \n1                       Dusk            -3.0                      1.0   \n2                       Dusk            -4.0                      1.0   \n3                       Dusk            -6.0                      1.0   \n4                       Dusk            -9.0                      1.0   \n...                      ...             ...                      ...   \n1794385                  Day             0.5                      1.0   \n1794386                  Day            -0.5                      1.0   \n1794387                  Day             0.0                      0.0   \n1794388                  Day             0.5                      1.0   \n1794389                  Day             NaN                      NaN   \n\n         Speed (m/s) Moon Phase  Mean Hourly Depth (m)  \\\n0           0.016667   New Moon              38.400000   \n1           0.025000   New Moon              77.166667   \n2           0.033333   New Moon              77.166667   \n3           0.050000   New Moon              77.166667   \n4           0.075000   New Moon              77.166667   \n...              ...        ...                    ...   \n1794385     0.050000  Full Moon             412.559722   \n1794386     0.050000  Full Moon             412.559722   \n1794387     0.000000  Full Moon             412.559722   \n1794388     0.050000  Full Moon             412.559722   \n1794389          NaN  Full Moon             412.559722   \n\n         Mean Hourly External Temp (c)  Hourly Diving Ratio  \\\n0                            24.600002             1.000000   \n1                            23.610001             1.000000   \n2                            23.610001             1.000000   \n3                            23.610001             1.000000   \n4                            23.610001             1.000000   \n...                                ...                  ...   \n1794385                       8.531944             0.740947   \n1794386                       8.531944             0.740947   \n1794387                       8.531944             0.740947   \n1794388                       8.531944             0.740947   \n1794389                       8.531944             0.740947   \n\n         Mean Hourly Speed (m/s)  Daily SST Est (c)  \n0                       0.016667           24.75000  \n1                       0.056111           24.75000  \n2                       0.056111           24.75000  \n3                       0.056111           24.75000  \n4                       0.056111           24.75000  \n...                          ...                ...  \n1794385                 0.085376           25.14375  \n1794386                 0.085376           25.14375  \n1794387                 0.085376           25.14375  \n1794388                 0.085376           25.14375  \n1794389                 0.085376           25.14375  \n\n[1794390 rows x 19 columns]"
     },
     "execution_count": 4,
     "metadata": {},
     "output_type": "execute_result"
    }
   ],
   "source": [
    "master.info()\n",
    "master"
   ]
  },
  {
   "cell_type": "code",
   "execution_count": 5,
   "metadata": {},
   "outputs": [
    {
     "name": "stdout",
     "output_type": "stream",
     "text": [
      "<class 'pandas.core.frame.DataFrame'>\n",
      "RangeIndex: 6 entries, 0 to 5\n",
      "Data columns (total 10 columns):\n",
      " #   Column                  Non-Null Count  Dtype  \n",
      "---  ------                  --------------  -----  \n",
      " 0   eventid                 6 non-null      int64  \n",
      " 1   tagnumber               6 non-null      object \n",
      " 2   ptt                     6 non-null      int64  \n",
      " 3   taggingdate             6 non-null      object \n",
      " 4   length                  6 non-null      float64\n",
      " 5   sex                     6 non-null      object \n",
      " 6   firstdate               6 non-null      object \n",
      " 7   lastdate                6 non-null      object \n",
      " 8   Sampling Period (sec)   6 non-null      int64  \n",
      " 9   Max Depth Recorded (m)  6 non-null      float64\n",
      "dtypes: float64(2), int64(3), object(5)\n",
      "memory usage: 608.0+ bytes\n"
     ]
    },
    {
     "data": {
      "text/html": "<div>\n<style scoped>\n    .dataframe tbody tr th:only-of-type {\n        vertical-align: middle;\n    }\n\n    .dataframe tbody tr th {\n        vertical-align: top;\n    }\n\n    .dataframe thead th {\n        text-align: right;\n    }\n</style>\n<table border=\"1\" class=\"dataframe\">\n  <thead>\n    <tr style=\"text-align: right;\">\n      <th></th>\n      <th>eventid</th>\n      <th>tagnumber</th>\n      <th>ptt</th>\n      <th>taggingdate</th>\n      <th>length</th>\n      <th>sex</th>\n      <th>firstdate</th>\n      <th>lastdate</th>\n      <th>Sampling Period (sec)</th>\n      <th>Max Depth Recorded (m)</th>\n    </tr>\n  </thead>\n  <tbody>\n    <tr>\n      <th>0</th>\n      <td>190000400</td>\n      <td>00P0291</td>\n      <td>29711</td>\n      <td>2000-10-16</td>\n      <td>457.00</td>\n      <td>M</td>\n      <td>01/03/2001 05:00</td>\n      <td>04/16/2001 05:00</td>\n      <td>120</td>\n      <td>612.0</td>\n    </tr>\n    <tr>\n      <th>1</th>\n      <td>190400900</td>\n      <td>04P0160</td>\n      <td>52933</td>\n      <td>2004-11-30</td>\n      <td>396.00</td>\n      <td>F</td>\n      <td>03/22/2005 05:00</td>\n      <td>06/10/2005 05:00</td>\n      <td>60</td>\n      <td>981.1</td>\n    </tr>\n    <tr>\n      <th>2</th>\n      <td>190502800</td>\n      <td>05P0132</td>\n      <td>62021</td>\n      <td>2005-12-15</td>\n      <td>480.00</td>\n      <td>F</td>\n      <td>03/31/2006 05:00</td>\n      <td>05/30/2006 05:00</td>\n      <td>60</td>\n      <td>549.1</td>\n    </tr>\n    <tr>\n      <th>3</th>\n      <td>190600200</td>\n      <td>05P0059</td>\n      <td>60983</td>\n      <td>2006-01-21</td>\n      <td>400.00</td>\n      <td>F</td>\n      <td>06/09/2006 05:00</td>\n      <td>09/03/2006 05:00</td>\n      <td>60</td>\n      <td>580.8</td>\n    </tr>\n    <tr>\n      <th>4</th>\n      <td>190601200</td>\n      <td>06A0555</td>\n      <td>68281</td>\n      <td>2006-10-10</td>\n      <td>426.72</td>\n      <td>M</td>\n      <td>02/09/2007 05:00</td>\n      <td>06/05/2007 05:00</td>\n      <td>15</td>\n      <td>691.5</td>\n    </tr>\n    <tr>\n      <th>5</th>\n      <td>190900200</td>\n      <td>08A0599</td>\n      <td>87568</td>\n      <td>2009-01-19</td>\n      <td>427.00</td>\n      <td>F</td>\n      <td>03/17/2009 05:00</td>\n      <td>06/09/2009 05:00</td>\n      <td>10</td>\n      <td>990.9</td>\n    </tr>\n  </tbody>\n</table>\n</div>",
      "text/plain": "     eventid tagnumber    ptt taggingdate  length sex         firstdate  \\\n0  190000400   00P0291  29711  2000-10-16  457.00   M  01/03/2001 05:00   \n1  190400900   04P0160  52933  2004-11-30  396.00   F  03/22/2005 05:00   \n2  190502800   05P0132  62021  2005-12-15  480.00   F  03/31/2006 05:00   \n3  190600200   05P0059  60983  2006-01-21  400.00   F  06/09/2006 05:00   \n4  190601200   06A0555  68281  2006-10-10  426.72   M  02/09/2007 05:00   \n5  190900200   08A0599  87568  2009-01-19  427.00   F  03/17/2009 05:00   \n\n           lastdate  Sampling Period (sec)  Max Depth Recorded (m)  \n0  04/16/2001 05:00                    120                   612.0  \n1  06/10/2005 05:00                     60                   981.1  \n2  05/30/2006 05:00                     60                   549.1  \n3  09/03/2006 05:00                     60                   580.8  \n4  06/05/2007 05:00                     15                   691.5  \n5  06/09/2009 05:00                     10                   990.9  "
     },
     "execution_count": 5,
     "metadata": {},
     "output_type": "execute_result"
    }
   ],
   "source": [
    "meta.info()\n",
    "meta"
   ]
  },
  {
   "cell_type": "markdown",
   "metadata": {},
   "source": [
    "# Statisitcal Tests for Individuals (Depth)"
   ]
  },
  {
   "cell_type": "markdown",
   "metadata": {},
   "source": [
    "## 190000400 \n",
    "(Male, 457 cm)"
   ]
  },
  {
   "cell_type": "code",
   "execution_count": 6,
   "metadata": {},
   "outputs": [
    {
     "data": {
      "text/html": "<div>\n<style scoped>\n    .dataframe tbody tr th:only-of-type {\n        vertical-align: middle;\n    }\n\n    .dataframe tbody tr th {\n        vertical-align: top;\n    }\n\n    .dataframe thead th {\n        text-align: right;\n    }\n</style>\n<table border=\"1\" class=\"dataframe\">\n  <thead>\n    <tr style=\"text-align: right;\">\n      <th></th>\n      <th>Unnamed: 0</th>\n      <th>Id</th>\n      <th>Datetime (UTC-10)</th>\n      <th>Hour (UTC-10)</th>\n      <th>Time of Day</th>\n      <th>Depth(m)</th>\n      <th>External Temp (c)</th>\n      <th>Sex</th>\n      <th>Shark Length (cm)</th>\n      <th>Time of Day (Astral)</th>\n      <th>Depth Diff (m)</th>\n      <th>Vertical Velocity (m/s)</th>\n      <th>Speed (m/s)</th>\n      <th>Moon Phase</th>\n      <th>Mean Hourly Depth (m)</th>\n      <th>Mean Hourly External Temp (c)</th>\n      <th>Hourly Diving Ratio</th>\n      <th>Mean Hourly Speed (m/s)</th>\n      <th>Daily SST Est (c)</th>\n    </tr>\n  </thead>\n  <tbody>\n    <tr>\n      <th>0</th>\n      <td>0</td>\n      <td>190000400</td>\n      <td>2001-01-02 18:59:50-10:00</td>\n      <td>18</td>\n      <td>Dusk</td>\n      <td>38.4</td>\n      <td>24.600002</td>\n      <td>M</td>\n      <td>457.0</td>\n      <td>Dusk</td>\n      <td>-2.0</td>\n      <td>1.0</td>\n      <td>0.016667</td>\n      <td>New Moon</td>\n      <td>38.400000</td>\n      <td>24.600002</td>\n      <td>1.000000</td>\n      <td>0.016667</td>\n      <td>24.750000</td>\n    </tr>\n    <tr>\n      <th>1</th>\n      <td>1</td>\n      <td>190000400</td>\n      <td>2001-01-02 19:01:50-10:00</td>\n      <td>19</td>\n      <td>Night</td>\n      <td>40.4</td>\n      <td>24.600002</td>\n      <td>M</td>\n      <td>457.0</td>\n      <td>Dusk</td>\n      <td>-3.0</td>\n      <td>1.0</td>\n      <td>0.025000</td>\n      <td>New Moon</td>\n      <td>77.166667</td>\n      <td>23.610001</td>\n      <td>1.000000</td>\n      <td>0.056111</td>\n      <td>24.750000</td>\n    </tr>\n    <tr>\n      <th>2</th>\n      <td>2</td>\n      <td>190000400</td>\n      <td>2001-01-02 19:03:50-10:00</td>\n      <td>19</td>\n      <td>Night</td>\n      <td>43.4</td>\n      <td>24.600002</td>\n      <td>M</td>\n      <td>457.0</td>\n      <td>Dusk</td>\n      <td>-4.0</td>\n      <td>1.0</td>\n      <td>0.033333</td>\n      <td>New Moon</td>\n      <td>77.166667</td>\n      <td>23.610001</td>\n      <td>1.000000</td>\n      <td>0.056111</td>\n      <td>24.750000</td>\n    </tr>\n    <tr>\n      <th>3</th>\n      <td>3</td>\n      <td>190000400</td>\n      <td>2001-01-02 19:05:50-10:00</td>\n      <td>19</td>\n      <td>Night</td>\n      <td>47.4</td>\n      <td>24.600002</td>\n      <td>M</td>\n      <td>457.0</td>\n      <td>Dusk</td>\n      <td>-6.0</td>\n      <td>1.0</td>\n      <td>0.050000</td>\n      <td>New Moon</td>\n      <td>77.166667</td>\n      <td>23.610001</td>\n      <td>1.000000</td>\n      <td>0.056111</td>\n      <td>24.750000</td>\n    </tr>\n    <tr>\n      <th>4</th>\n      <td>4</td>\n      <td>190000400</td>\n      <td>2001-01-02 19:07:50-10:00</td>\n      <td>19</td>\n      <td>Night</td>\n      <td>53.4</td>\n      <td>24.450001</td>\n      <td>M</td>\n      <td>457.0</td>\n      <td>Dusk</td>\n      <td>-9.0</td>\n      <td>1.0</td>\n      <td>0.075000</td>\n      <td>New Moon</td>\n      <td>77.166667</td>\n      <td>23.610001</td>\n      <td>1.000000</td>\n      <td>0.056111</td>\n      <td>24.750000</td>\n    </tr>\n    <tr>\n      <th>...</th>\n      <td>...</td>\n      <td>...</td>\n      <td>...</td>\n      <td>...</td>\n      <td>...</td>\n      <td>...</td>\n      <td>...</td>\n      <td>...</td>\n      <td>...</td>\n      <td>...</td>\n      <td>...</td>\n      <td>...</td>\n      <td>...</td>\n      <td>...</td>\n      <td>...</td>\n      <td>...</td>\n      <td>...</td>\n      <td>...</td>\n      <td>...</td>\n    </tr>\n    <tr>\n      <th>70705</th>\n      <td>70705</td>\n      <td>190000400</td>\n      <td>2001-04-15 23:49:50-10:00</td>\n      <td>23</td>\n      <td>Night</td>\n      <td>143.6</td>\n      <td>18.000000</td>\n      <td>M</td>\n      <td>457.0</td>\n      <td>Night</td>\n      <td>94.0</td>\n      <td>1.0</td>\n      <td>0.783333</td>\n      <td>Full Moon</td>\n      <td>190.910345</td>\n      <td>17.648277</td>\n      <td>0.964286</td>\n      <td>0.588690</td>\n      <td>23.800002</td>\n    </tr>\n    <tr>\n      <th>70706</th>\n      <td>70706</td>\n      <td>190000400</td>\n      <td>2001-04-15 23:51:50-10:00</td>\n      <td>23</td>\n      <td>Night</td>\n      <td>49.6</td>\n      <td>21.150002</td>\n      <td>M</td>\n      <td>457.0</td>\n      <td>Night</td>\n      <td>-112.0</td>\n      <td>1.0</td>\n      <td>0.933333</td>\n      <td>Full Moon</td>\n      <td>190.910345</td>\n      <td>17.648277</td>\n      <td>0.964286</td>\n      <td>0.588690</td>\n      <td>23.800002</td>\n    </tr>\n    <tr>\n      <th>70707</th>\n      <td>70707</td>\n      <td>190000400</td>\n      <td>2001-04-15 23:53:50-10:00</td>\n      <td>23</td>\n      <td>Night</td>\n      <td>161.6</td>\n      <td>20.700001</td>\n      <td>M</td>\n      <td>457.0</td>\n      <td>Night</td>\n      <td>-130.0</td>\n      <td>1.0</td>\n      <td>1.083333</td>\n      <td>Full Moon</td>\n      <td>190.910345</td>\n      <td>17.648277</td>\n      <td>0.964286</td>\n      <td>0.588690</td>\n      <td>23.800002</td>\n    </tr>\n    <tr>\n      <th>70708</th>\n      <td>70708</td>\n      <td>190000400</td>\n      <td>2001-04-15 23:55:50-10:00</td>\n      <td>23</td>\n      <td>Night</td>\n      <td>291.6</td>\n      <td>16.500000</td>\n      <td>M</td>\n      <td>457.0</td>\n      <td>Night</td>\n      <td>68.0</td>\n      <td>1.0</td>\n      <td>0.566667</td>\n      <td>Full Moon</td>\n      <td>190.910345</td>\n      <td>17.648277</td>\n      <td>0.964286</td>\n      <td>0.588690</td>\n      <td>23.800002</td>\n    </tr>\n    <tr>\n      <th>70709</th>\n      <td>70709</td>\n      <td>190000400</td>\n      <td>2001-04-15 23:57:50-10:00</td>\n      <td>23</td>\n      <td>Night</td>\n      <td>223.6</td>\n      <td>15.900002</td>\n      <td>M</td>\n      <td>457.0</td>\n      <td>Night</td>\n      <td>NaN</td>\n      <td>NaN</td>\n      <td>NaN</td>\n      <td>Full Moon</td>\n      <td>190.910345</td>\n      <td>17.648277</td>\n      <td>0.964286</td>\n      <td>0.588690</td>\n      <td>23.800002</td>\n    </tr>\n  </tbody>\n</table>\n<p>70710 rows × 19 columns</p>\n</div>",
      "text/plain": "       Unnamed: 0         Id          Datetime (UTC-10)  Hour (UTC-10)  \\\n0               0  190000400  2001-01-02 18:59:50-10:00             18   \n1               1  190000400  2001-01-02 19:01:50-10:00             19   \n2               2  190000400  2001-01-02 19:03:50-10:00             19   \n3               3  190000400  2001-01-02 19:05:50-10:00             19   \n4               4  190000400  2001-01-02 19:07:50-10:00             19   \n...           ...        ...                        ...            ...   \n70705       70705  190000400  2001-04-15 23:49:50-10:00             23   \n70706       70706  190000400  2001-04-15 23:51:50-10:00             23   \n70707       70707  190000400  2001-04-15 23:53:50-10:00             23   \n70708       70708  190000400  2001-04-15 23:55:50-10:00             23   \n70709       70709  190000400  2001-04-15 23:57:50-10:00             23   \n\n      Time of Day  Depth(m)  External Temp (c) Sex  Shark Length (cm)  \\\n0            Dusk      38.4          24.600002   M              457.0   \n1           Night      40.4          24.600002   M              457.0   \n2           Night      43.4          24.600002   M              457.0   \n3           Night      47.4          24.600002   M              457.0   \n4           Night      53.4          24.450001   M              457.0   \n...           ...       ...                ...  ..                ...   \n70705       Night     143.6          18.000000   M              457.0   \n70706       Night      49.6          21.150002   M              457.0   \n70707       Night     161.6          20.700001   M              457.0   \n70708       Night     291.6          16.500000   M              457.0   \n70709       Night     223.6          15.900002   M              457.0   \n\n      Time of Day (Astral)  Depth Diff (m)  Vertical Velocity (m/s)  \\\n0                     Dusk            -2.0                      1.0   \n1                     Dusk            -3.0                      1.0   \n2                     Dusk            -4.0                      1.0   \n3                     Dusk            -6.0                      1.0   \n4                     Dusk            -9.0                      1.0   \n...                    ...             ...                      ...   \n70705                Night            94.0                      1.0   \n70706                Night          -112.0                      1.0   \n70707                Night          -130.0                      1.0   \n70708                Night            68.0                      1.0   \n70709                Night             NaN                      NaN   \n\n       Speed (m/s) Moon Phase  Mean Hourly Depth (m)  \\\n0         0.016667   New Moon              38.400000   \n1         0.025000   New Moon              77.166667   \n2         0.033333   New Moon              77.166667   \n3         0.050000   New Moon              77.166667   \n4         0.075000   New Moon              77.166667   \n...            ...        ...                    ...   \n70705     0.783333  Full Moon             190.910345   \n70706     0.933333  Full Moon             190.910345   \n70707     1.083333  Full Moon             190.910345   \n70708     0.566667  Full Moon             190.910345   \n70709          NaN  Full Moon             190.910345   \n\n       Mean Hourly External Temp (c)  Hourly Diving Ratio  \\\n0                          24.600002             1.000000   \n1                          23.610001             1.000000   \n2                          23.610001             1.000000   \n3                          23.610001             1.000000   \n4                          23.610001             1.000000   \n...                              ...                  ...   \n70705                      17.648277             0.964286   \n70706                      17.648277             0.964286   \n70707                      17.648277             0.964286   \n70708                      17.648277             0.964286   \n70709                      17.648277             0.964286   \n\n       Mean Hourly Speed (m/s)  Daily SST Est (c)  \n0                     0.016667          24.750000  \n1                     0.056111          24.750000  \n2                     0.056111          24.750000  \n3                     0.056111          24.750000  \n4                     0.056111          24.750000  \n...                        ...                ...  \n70705                 0.588690          23.800002  \n70706                 0.588690          23.800002  \n70707                 0.588690          23.800002  \n70708                 0.588690          23.800002  \n70709                 0.588690          23.800002  \n\n[70710 rows x 19 columns]"
     },
     "execution_count": 6,
     "metadata": {},
     "output_type": "execute_result"
    }
   ],
   "source": [
    "sh = master[master['Id'] == 190000400]\n",
    "sh"
   ]
  },
  {
   "cell_type": "code",
   "execution_count": 7,
   "metadata": {},
   "outputs": [
    {
     "name": "stderr",
     "output_type": "stream",
     "text": [
      "/Library/Frameworks/Python.framework/Versions/3.10/lib/python3.10/site-packages/swifter/swifter.py:83: UserWarning: This pandas object has duplicate indices, and swifter may not be able to improve performance. Consider resetting the indices with `df.reset_index(drop=True)`.\n",
      "  warnings.warn(\n"
     ]
    },
    {
     "data": {
      "image/png": "[encoded data removed]",
      "text/plain": "<Figure size 432x288 with 1 Axes>"
     },
     "metadata": {
      "needs_background": "light"
     },
     "output_type": "display_data"
    }
   ],
   "source": [
    "# Plot the overall depth distribution for day and night\n",
    "\n",
    "# filter out transition states (leaving only deep day or deep night)\n",
    "filtered = sh.loc[(sh['Time of Day (Astral)'] == 'Day') | (sh['Time of Day (Astral)'] == 'Night')]\n",
    "\n",
    "# Plot a histogram and color by 'Time of Day (Astral)'\n",
    "ax = sns.histplot(filtered, x=\"Depth(m)\", hue=\"Time of Day (Astral)\", stat=\"density\", common_norm=False)\n",
    "ax.set_xlim(0, filtered[\"Depth(m)\"].max())\n",
    "ax.set_ylabel('Fraction of Time Spent')\n",
    "ax.set_xlabel('Depth (m)')\n",
    "ax.set_title('Depth distribution for 190000400')\n",
    "plt.show()"
   ]
  },
  {
   "cell_type": "code",
   "execution_count": 8,
   "metadata": {},
   "outputs": [
    {
     "name": "stderr",
     "output_type": "stream",
     "text": [
      "/Library/Frameworks/Python.framework/Versions/3.10/lib/python3.10/site-packages/swifter/swifter.py:83: UserWarning: This pandas object has duplicate indices, and swifter may not be able to improve performance. Consider resetting the indices with `df.reset_index(drop=True)`.\n",
      "  warnings.warn(\n"
     ]
    },
    {
     "data": {
      "image/png": "[encoded data removed]",
      "text/plain": "<Figure size 432x288 with 1 Axes>"
     },
     "metadata": {
      "needs_background": "light"
     },
     "output_type": "display_data"
    },
    {
     "name": "stderr",
     "output_type": "stream",
     "text": [
      "/Library/Frameworks/Python.framework/Versions/3.10/lib/python3.10/site-packages/swifter/swifter.py:83: UserWarning: This pandas object has duplicate indices, and swifter may not be able to improve performance. Consider resetting the indices with `df.reset_index(drop=True)`.\n",
      "  warnings.warn(\n"
     ]
    },
    {
     "data": {
      "image/png": "[encoded data removed]",
      "text/plain": "<Figure size 432x288 with 1 Axes>"
     },
     "metadata": {
      "needs_background": "light"
     },
     "output_type": "display_data"
    }
   ],
   "source": [
    "# Plot the depth distribution during different moon phases to see if lunar cycle has an effect on this shark's depth distribution\n",
    "\n",
    "# filter out transition states 'First Quarter' and 'Last Quarter'\n",
    "new_moon = filtered[filtered['Moon Phase'] == 'New Moon']\n",
    "full_moon = filtered[filtered['Moon Phase'] == 'Full Moon']\n",
    "\n",
    "# Plot a histogram and color by 'Time of Day (Astral)'\n",
    "ax = sns.histplot(new_moon, x=\"Depth(m)\", hue=\"Time of Day (Astral)\", stat=\"density\", common_norm=False)\n",
    "ax.set_xlim(0, new_moon[\"Depth(m)\"].max())\n",
    "ax.set_ylabel('Fraction of Time Spent')\n",
    "ax.set_xlabel('Depth (m)')\n",
    "ax.set_title('Depth distribution for 190000400 during the New Moon')\n",
    "plt.show()\n",
    "\n",
    "ax = sns.histplot(full_moon, x=\"Depth(m)\", hue=\"Time of Day (Astral)\", stat=\"density\", common_norm=False)\n",
    "ax.set_xlim(0, full_moon[\"Depth(m)\"].max())\n",
    "ax.set_ylabel('Fraction of Time Spent')\n",
    "ax.set_xlabel('Depth (m)')\n",
    "ax.set_title('Depth distribution for 190000400 during the Full Moon')\n",
    "plt.show()"
   ]
  },
  {
   "cell_type": "code",
   "execution_count": 9,
   "metadata": {},
   "outputs": [
    {
     "data": {
      "text/plain": "(117.8, 63.175)"
     },
     "execution_count": 9,
     "metadata": {},
     "output_type": "execute_result"
    }
   ],
   "source": [
    "full_night = full_moon[full_moon['Time of Day (Astral)'] == 'Night']\n",
    "new_night = new_moon[new_moon['Time of Day (Astral)'] == 'Night']\n",
    "\n",
    "q3, q1 = np.percentile(full_night['Depth(m)'], [75 ,25])\n",
    "iqr = q3 - q1\n",
    "\n",
    "statistics.median(full_night['Depth(m)']), iqr/2"
   ]
  },
  {
   "cell_type": "code",
   "execution_count": 10,
   "metadata": {},
   "outputs": [
    {
     "data": {
      "text/plain": "(121.7, 57.0)"
     },
     "execution_count": 10,
     "metadata": {},
     "output_type": "execute_result"
    }
   ],
   "source": [
    "q3, q1 = np.percentile(new_night['Depth(m)'], [75 ,25])\n",
    "iqr = q3 - q1\n",
    "\n",
    "statistics.median(new_night['Depth(m)']), iqr/2"
   ]
  },
  {
   "cell_type": "code",
   "execution_count": 11,
   "metadata": {},
   "outputs": [
    {
     "data": {
      "text/plain": "(131.47058012953013, 89.21143295390009, 124.59566837447599, 83.69532405693525)"
     },
     "execution_count": 11,
     "metadata": {},
     "output_type": "execute_result"
    }
   ],
   "source": [
    "new_night['Depth(m)'].mean(), statistics.stdev(new_night['Depth(m)']), full_night['Depth(m)'].mean(), statistics.stdev(full_night['Depth(m)'])"
   ]
  },
  {
   "cell_type": "code",
   "execution_count": 13,
   "metadata": {},
   "outputs": [
    {
     "data": {
      "text/plain": "(236.1, 81.42500000000001)"
     },
     "execution_count": 13,
     "metadata": {},
     "output_type": "execute_result"
    }
   ],
   "source": [
    "# Now day\n",
    "full_day = full_moon[full_moon['Time of Day (Astral)'] == 'Day']\n",
    "new_day = new_moon[new_moon['Time of Day (Astral)'] == 'Day']\n",
    "\n",
    "q3, q1 = np.percentile(full_day['Depth(m)'], [75 ,25])\n",
    "iqr = q3 - q1\n",
    "\n",
    "statistics.median(full_day['Depth(m)']), iqr/2"
   ]
  },
  {
   "cell_type": "code",
   "execution_count": 14,
   "metadata": {},
   "outputs": [
    {
     "data": {
      "text/plain": "(248.2, 79.94999999999999)"
     },
     "execution_count": 14,
     "metadata": {},
     "output_type": "execute_result"
    }
   ],
   "source": [
    "q3, q1 = np.percentile(new_day['Depth(m)'], [75 ,25])\n",
    "iqr = q3 - q1\n",
    "\n",
    "statistics.median(new_day['Depth(m)']), iqr/2"
   ]
  },
  {
   "cell_type": "code",
   "execution_count": 16,
   "metadata": {},
   "outputs": [
    {
     "data": {
      "text/plain": "(243.41953954253248, 130.7727560522667, 216.64741200828155, 127.78289084518855)"
     },
     "execution_count": 16,
     "metadata": {},
     "output_type": "execute_result"
    }
   ],
   "source": [
    "new_day['Depth(m)'].mean(), statistics.stdev(new_day['Depth(m)']), full_day['Depth(m)'].mean(), statistics.stdev(full_day['Depth(m)'])"
   ]
  },
  {
   "cell_type": "code",
   "execution_count": 17,
   "metadata": {},
   "outputs": [],
   "source": [
    "# Lunar cycle does not seem to have a strong effect on depth distribution for this shark. By eye, metrics that may be significantly different include: mean or median depth during day vs night OR \n",
    "# distribution shape/type during day vs night (this does not necesarrily mean that mean/median depth are significantly different). Since we are focusing on diving behavior, it would make\n",
    "# sense to filter out data points from the top 5-10 meters since there are many points in this region that could skew both day/night sample distributions. Then, although the distributions don't\n",
    "# appear normal, a normality test for sanity would reduce the scope of best metrics and statistical tests that an be used to compare the two distributions. If the distributions are normal,\n",
    "# they can be compared with parametric tests, which in most cases can be stronger tests than non-parametric tests. However, in the likely case that the two distributions are not normal,\n",
    "# we must use non-parametric tests to compare the day/night samples.\n",
    "# \n",
    "# In the case that both samples are normal, a  p-value from a comparison of means test (parametric test) would be a good indication of significant difference. However, in the case that both samples are not \n",
    "# normal, a p-value from a comparison of medians (non-parametric test) would be a good indication of significant difference (though less strong that comparison of means). If the medians are not significantly \n",
    "# different, we can perform a KS test (non-parametric) to determine whether the shape of the distributions themselves are significantly different (reguardless of the normality of both distributions)."
   ]
  },
  {
   "cell_type": "code",
   "execution_count": 18,
   "metadata": {},
   "outputs": [
    {
     "name": "stderr",
     "output_type": "stream",
     "text": [
      "/Library/Frameworks/Python.framework/Versions/3.10/lib/python3.10/site-packages/swifter/swifter.py:83: UserWarning: This pandas object has duplicate indices, and swifter may not be able to improve performance. Consider resetting the indices with `df.reset_index(drop=True)`.\n",
      "  warnings.warn(\n"
     ]
    },
    {
     "data": {
      "image/png": "[encoded data removed]",
      "text/plain": "<Figure size 432x288 with 1 Axes>"
     },
     "metadata": {
      "needs_background": "light"
     },
     "output_type": "display_data"
    }
   ],
   "source": [
    "#  1 - filter out surface datapoints (top 5m of water) and visualize\n",
    "\n",
    "filtered = filtered[filtered['Depth(m)'] > 5]\n",
    "\n",
    "ax = sns.histplot(filtered, x=\"Depth(m)\", hue=\"Time of Day (Astral)\", stat=\"density\", common_norm=False)\n",
    "ax.set_xlim(0, filtered[\"Depth(m)\"].max())\n",
    "ax.set_ylabel('Fraction of Time Spent')\n",
    "ax.set_xlabel('Depth (m)')\n",
    "ax.set_title('Depth distribution for 190000400 excluding surface time')\n",
    "plt.show()"
   ]
  },
  {
   "cell_type": "code",
   "execution_count": 19,
   "metadata": {},
   "outputs": [],
   "source": [
    "# Since filtering out sample data shallower than 5 m in depth got rid of the abnormal spikes in the depth distribution, we can move on to the normaility test."
   ]
  },
  {
   "cell_type": "code",
   "execution_count": 20,
   "metadata": {},
   "outputs": [
    {
     "name": "stderr",
     "output_type": "stream",
     "text": [
      "/Library/Frameworks/Python.framework/Versions/3.10/lib/python3.10/site-packages/scipy/stats/_morestats.py:1761: UserWarning: p-value may not be accurate for N > 5000.\n",
      "  warnings.warn(\"p-value may not be accurate for N > 5000.\")\n"
     ]
    },
    {
     "data": {
      "text/plain": "(394      252.4\n 395      248.4\n 396      252.4\n 397      252.4\n 398      248.4\n          ...  \n 70521    347.6\n 70522    355.6\n 70523    299.6\n 70524    267.6\n 70525    299.6\n Name: Depth(m), Length: 25792, dtype: float64,\n 5         62.4\n 6         65.4\n 7         64.4\n 8         61.4\n 9         64.4\n          ...  \n 70705    143.6\n 70706     49.6\n 70707    161.6\n 70708    291.6\n 70709    223.6\n Name: Depth(m), Length: 27866, dtype: float64,\n ShapiroResult(statistic=0.9784955382347107, pvalue=0.0),\n ShapiroResult(statistic=0.9549441933631897, pvalue=0.0))"
     },
     "execution_count": 20,
     "metadata": {},
     "output_type": "execute_result"
    }
   ],
   "source": [
    "# 1 - Test both samples for normality to determine whether parametric or non-parametric tests should be used to compare the samples.\n",
    "# The Shapiro–Wilk test is more appropriate method for small sample sizes (<50 samples) although it can also be handling on larger sample size while Kolmogorov–Smirnov test is used for n ≥50.\n",
    "# The Scipy Sharpiro test is not accurate for samples larger than 5000. We will test it anyways, and for this test, a p-value of less than 0.05 means that the distribution is normal. \n",
    "# However, the Lilliefors test is a normality test based on the Kolmogorov–Smirnov test. As all the above methods, this test is used to check if the data come from a normal distribution for\n",
    "# samples > 5000 datapoints. For the Lilliefors test, ff the p-value ≤ 0.05, then we reject the null hypothesis i.e. we assume the distribution of our variable is not normal/gaussian.\n",
    "# If the p-value > 0.05, then we fail to reject the null hypothesis i.e. we assume the distribution of our variable is normal/gaussian.\n",
    "\n",
    "\n",
    "day_depths = filtered[filtered['Time of Day (Astral)'] == 'Day']['Depth(m)']\n",
    "night_depths = filtered[filtered['Time of Day (Astral)'] == 'Night']['Depth(m)']\n",
    "\n",
    "day_depths, night_depths, shapiro(day_depths), shapiro(night_depths) "
   ]
  },
  {
   "cell_type": "code",
   "execution_count": 21,
   "metadata": {},
   "outputs": [
    {
     "data": {
      "text/plain": "(0.07771909072662364,\n 0.0009999999999998899,\n 0.06832537830630658,\n 0.0009999999999998899)"
     },
     "execution_count": 21,
     "metadata": {},
     "output_type": "execute_result"
    }
   ],
   "source": [
    "# Lillifors\n",
    "stat,p = lilliefors(day_depths)\n",
    "stat_2,p_2 = lilliefors(night_depths)\n",
    "\n",
    "stat, p, stat_2, p_2"
   ]
  },
  {
   "cell_type": "code",
   "execution_count": 22,
   "metadata": {},
   "outputs": [],
   "source": [
    "# According to Lillifors, the distributions are not normal. We disreguard the p-value from the Shapiro-Wilk normality test because it is clearly innaccurate for our sample size. We continue using non-parametric\n",
    "# tests. First, we will perform a comparison of medians test. If the medians are not significantly different, we can compare the distributions shapes with a KS test."
   ]
  },
  {
   "cell_type": "code",
   "execution_count": 23,
   "metadata": {},
   "outputs": [
    {
     "data": {
      "text/plain": "(244.2, 126.0)"
     },
     "execution_count": 23,
     "metadata": {},
     "output_type": "execute_result"
    }
   ],
   "source": [
    "# print the medians just for reference - we can proabably tell ourselves if they are significantly difference but the tests will be performed reguardless for sanity\n",
    "statistics.median(day_depths), statistics.median(night_depths)\n"
   ]
  },
  {
   "cell_type": "code",
   "execution_count": 24,
   "metadata": {},
   "outputs": [
    {
     "data": {
      "text/plain": "60.05"
     },
     "execution_count": 24,
     "metadata": {},
     "output_type": "execute_result"
    }
   ],
   "source": [
    "q3, q1 = np.percentile(day_depths, [75 ,25])\n",
    "iqr = q3 - q1\n",
    "iqr/2"
   ]
  },
  {
   "cell_type": "code",
   "execution_count": 25,
   "metadata": {},
   "outputs": [
    {
     "data": {
      "text/plain": "53.35"
     },
     "execution_count": 25,
     "metadata": {},
     "output_type": "execute_result"
    }
   ],
   "source": [
    "q3, q1 = np.percentile(night_depths, [75 ,25])\n",
    "iqr = q3 - q1\n",
    "iqr/2"
   ]
  },
  {
   "cell_type": "code",
   "execution_count": 26,
   "metadata": {},
   "outputs": [],
   "source": [
    "# The medians seem pretty different. Now we can move onto non-parametric tests. First, we will do a comparison of medians. If the medians are not significatly different,\n",
    "# we can compare the shape of the sample distributions using a KS-test. If the shapes are different enough (via p-value), we can say that the samples are from different distributions"
   ]
  },
  {
   "cell_type": "code",
   "execution_count": 27,
   "metadata": {},
   "outputs": [
    {
     "data": {
      "text/plain": "(16086.222371976872,\n '0.0000000000000000',\n 189.9,\n array([[20233,  6590],\n        [ 5559, 21276]]),\n 39011565.5,\n '0.0000000000000000',\n 535718183.5,\n '0.0000000000000000')"
     },
     "execution_count": 27,
     "metadata": {},
     "output_type": "execute_result"
    }
   ],
   "source": [
    "# 2 - Since both samples are non-Gaussian, compare them using non parametric tests. Since the medians seem pretty different, we begin with a difference of medians.\n",
    "# Scientific experiments often consist of comparing two or more sets of data. This data is described as unpaired or independent when the sets of data arise from \n",
    "# separate individuals or paired when it arises from the same individual at different points in time. The Wilcoxon signed-rank test is a nonparametric test\n",
    "# for comparing paired data samples (the nonparametric version of the paired Student t-test). It is better than the Wilcoxon rank-sum for this scenario because\n",
    "# Wilcoxon rank-sum test is used to compare two independent samples, while Wilcoxon signed-rank test is used to compare two related samples, matched samples, \n",
    "# or to conduct a paired difference test of repeated measurements on a single sample to assess whether their population mean ranks differ.\n",
    "# For the Wilcoxon Signed Rank test to be effective, it requires at least 20 observations in each data sample, which we have (by far).\n",
    "\n",
    "from scipy.stats import mannwhitneyu\n",
    "from scipy.stats import wilcoxon\n",
    "import random\n",
    "from random import sample\n",
    "\n",
    "# samples must be same size to perform wilcoxon signed rank. In this case, we know that there are 25,792 datapoints in the day_depth sample\n",
    "# and 27,866 in the night_depths sample. We randomly resample (without replacement) the larger sample to match the size of the smaller one.\n",
    "wilcox_night = sample(list(night_depths), len(day_depths))\n",
    "\n",
    "# case p > 0.05: Samples come from the same distribution (fail to reject H_0)\n",
    "# else p <= 0.05 : Samples come from different distribution (reject H0)\n",
    "\n",
    "# traditional median comparison followed by wilcoxon signed-rank test\n",
    "stat, p, med, tbl = median_test(list(day_depths), list(night_depths))\n",
    "stat_2, p_2 = wilcoxon(day_depths, wilcox_night)\n",
    "stat_3, p_3 = mannwhitneyu(day_depths, wilcox_night) # Mann whitney is more powerful\n",
    "\n",
    "stat, '{0:.16f}'.format(p), med, tbl, stat_2, '{0:.16f}'.format(p_2), stat_3, '{0:.16f}'.format(p_3)"
   ]
  },
  {
   "cell_type": "code",
   "execution_count": 28,
   "metadata": {},
   "outputs": [
    {
     "data": {
      "text/plain": "(0.5562650339519206, '0.0000000000000000')"
     },
     "execution_count": 28,
     "metadata": {},
     "output_type": "execute_result"
    }
   ],
   "source": [
    "# that's funny - both a p-value of zero. Seems a little fishy. While not listed in their documentation, while the Wilcoxon signed-rank test in general doesn't assume any distribution, \n",
    "# most exact implementations are restricted to <50 samples (i.e. scipy). Let's try a different test. Since KS test can be used for large samples, let's try that to compare the distributions\n",
    "\n",
    "stat, p = stats.kstest(day_depths, night_depths)\n",
    "stat, '{0:.16f}'.format(p)"
   ]
  },
  {
   "cell_type": "code",
   "execution_count": 29,
   "metadata": {},
   "outputs": [],
   "source": [
    "# Seems fishy... upon further exploration, I found this paper: https://bmcmedresmethodol.biomedcentral.com/articles/10.1186/1471-2288-12-78.\n",
    "# The conclusion:\n",
    "# \"Non-parametric tests are most useful for small studies. Using non-parametric tests in large studies may provide answers to the wrong question, \n",
    "# thus confusing readers. For studies with a large sample size, t-tests and their corresponding confidence intervals can and should be used even \n",
    "# for heavily skewed data.\"\n",
    "# From the Discussion:\n",
    "# \"With a large sample size, the WMW test has great power to detect that that probability is not 50%. If the purpose of the study is to detect \n",
    "# any distributional difference, using a non-parametric test is probably useful. Most studies, however, are carried out to investigate differences \n",
    "# in means or medians, and as such, the ratio of non-parametric tests to t-tests ought to decrease when studies grow in size.\"\n",
    "\n",
    "# Let's try a t-test to look at the difference in means of the daytime and nighttime depth samples for shark 190000400"
   ]
  },
  {
   "cell_type": "code",
   "execution_count": 30,
   "metadata": {},
   "outputs": [
    {
     "data": {
      "text/plain": "(255.20298929900744, 111.20149134307127, 138.84384195794158, 79.53004664712726)"
     },
     "execution_count": 30,
     "metadata": {},
     "output_type": "execute_result"
    }
   ],
   "source": [
    "# First, let's just see the means of both\n",
    "day_depths.mean(), statistics.stdev(day_depths), night_depths.mean(), statistics.stdev(night_depths)"
   ]
  },
  {
   "cell_type": "code",
   "execution_count": 31,
   "metadata": {},
   "outputs": [
    {
     "data": {
      "text/plain": "(136.2395627831587, '0.0000000000000000')"
     },
     "execution_count": 31,
     "metadata": {},
     "output_type": "execute_result"
    }
   ],
   "source": [
    "# The means look pretty different. Let's test that with a paired t-test\n",
    "stat, p = stats.ttest_rel(day_depths, wilcox_night) # sample len must be same\n",
    "stat, '{0:.16f}'.format(p)"
   ]
  },
  {
   "cell_type": "code",
   "execution_count": 32,
   "metadata": {},
   "outputs": [
    {
     "data": {
      "text/plain": "(136.6024842978686, '0.0000000000000000')"
     },
     "execution_count": 32,
     "metadata": {},
     "output_type": "execute_result"
    }
   ],
   "source": [
    "# unpaired t-test\n",
    "stat, p = stats.ttest_ind(day_depths, wilcox_night, equal_var=False)\n",
    "stat, '{0:.16f}'.format(p)"
   ]
  },
  {
   "cell_type": "markdown",
   "metadata": {},
   "source": [
    "## 190601200 \n",
    "(M, 426.72 cm)"
   ]
  },
  {
   "cell_type": "code",
   "execution_count": 33,
   "metadata": {},
   "outputs": [
    {
     "data": {
      "text/html": "<div>\n<style scoped>\n    .dataframe tbody tr th:only-of-type {\n        vertical-align: middle;\n    }\n\n    .dataframe tbody tr th {\n        vertical-align: top;\n    }\n\n    .dataframe thead th {\n        text-align: right;\n    }\n</style>\n<table border=\"1\" class=\"dataframe\">\n  <thead>\n    <tr style=\"text-align: right;\">\n      <th></th>\n      <th>Unnamed: 0</th>\n      <th>Id</th>\n      <th>Datetime (UTC-10)</th>\n      <th>Hour (UTC-10)</th>\n      <th>Time of Day</th>\n      <th>Depth(m)</th>\n      <th>External Temp (c)</th>\n      <th>Sex</th>\n      <th>Shark Length (cm)</th>\n      <th>Time of Day (Astral)</th>\n      <th>Depth Diff (m)</th>\n      <th>Vertical Velocity (m/s)</th>\n      <th>Speed (m/s)</th>\n      <th>Moon Phase</th>\n      <th>Mean Hourly Depth (m)</th>\n      <th>Mean Hourly External Temp (c)</th>\n      <th>Hourly Diving Ratio</th>\n      <th>Mean Hourly Speed (m/s)</th>\n      <th>Daily SST Est (c)</th>\n    </tr>\n  </thead>\n  <tbody>\n    <tr>\n      <th>394710</th>\n      <td>394710</td>\n      <td>190601200</td>\n      <td>2007-02-08 14:00:00-10:00</td>\n      <td>14</td>\n      <td>Day</td>\n      <td>254.5</td>\n      <td>16.05</td>\n      <td>M</td>\n      <td>426.72</td>\n      <td>Day</td>\n      <td>2.0</td>\n      <td>1.0</td>\n      <td>0.133333</td>\n      <td>Full Moon</td>\n      <td>186.506250</td>\n      <td>20.040625</td>\n      <td>0.920833</td>\n      <td>0.150556</td>\n      <td>24.25</td>\n    </tr>\n    <tr>\n      <th>394711</th>\n      <td>394711</td>\n      <td>190601200</td>\n      <td>2007-02-08 14:00:15-10:00</td>\n      <td>14</td>\n      <td>Day</td>\n      <td>252.5</td>\n      <td>16.65</td>\n      <td>M</td>\n      <td>426.72</td>\n      <td>Day</td>\n      <td>1.0</td>\n      <td>1.0</td>\n      <td>0.066667</td>\n      <td>Full Moon</td>\n      <td>186.506250</td>\n      <td>20.040625</td>\n      <td>0.920833</td>\n      <td>0.150556</td>\n      <td>24.25</td>\n    </tr>\n    <tr>\n      <th>394712</th>\n      <td>394712</td>\n      <td>190601200</td>\n      <td>2007-02-08 14:00:30-10:00</td>\n      <td>14</td>\n      <td>Day</td>\n      <td>251.5</td>\n      <td>16.65</td>\n      <td>M</td>\n      <td>426.72</td>\n      <td>Day</td>\n      <td>-1.5</td>\n      <td>1.0</td>\n      <td>0.100000</td>\n      <td>Full Moon</td>\n      <td>186.506250</td>\n      <td>20.040625</td>\n      <td>0.920833</td>\n      <td>0.150556</td>\n      <td>24.25</td>\n    </tr>\n    <tr>\n      <th>394713</th>\n      <td>394713</td>\n      <td>190601200</td>\n      <td>2007-02-08 14:00:45-10:00</td>\n      <td>14</td>\n      <td>Day</td>\n      <td>253.0</td>\n      <td>16.60</td>\n      <td>M</td>\n      <td>426.72</td>\n      <td>Day</td>\n      <td>-4.5</td>\n      <td>1.0</td>\n      <td>0.300000</td>\n      <td>Full Moon</td>\n      <td>186.506250</td>\n      <td>20.040625</td>\n      <td>0.920833</td>\n      <td>0.150556</td>\n      <td>24.25</td>\n    </tr>\n    <tr>\n      <th>394714</th>\n      <td>394714</td>\n      <td>190601200</td>\n      <td>2007-02-08 14:01:00-10:00</td>\n      <td>14</td>\n      <td>Day</td>\n      <td>257.5</td>\n      <td>15.20</td>\n      <td>M</td>\n      <td>426.72</td>\n      <td>Day</td>\n      <td>-3.0</td>\n      <td>1.0</td>\n      <td>0.200000</td>\n      <td>Full Moon</td>\n      <td>186.506250</td>\n      <td>20.040625</td>\n      <td>0.920833</td>\n      <td>0.150556</td>\n      <td>24.25</td>\n    </tr>\n    <tr>\n      <th>...</th>\n      <td>...</td>\n      <td>...</td>\n      <td>...</td>\n      <td>...</td>\n      <td>...</td>\n      <td>...</td>\n      <td>...</td>\n      <td>...</td>\n      <td>...</td>\n      <td>...</td>\n      <td>...</td>\n      <td>...</td>\n      <td>...</td>\n      <td>...</td>\n      <td>...</td>\n      <td>...</td>\n      <td>...</td>\n      <td>...</td>\n      <td>...</td>\n    </tr>\n    <tr>\n      <th>1068625</th>\n      <td>1068625</td>\n      <td>190601200</td>\n      <td>2007-06-05 13:58:45-10:00</td>\n      <td>13</td>\n      <td>Day</td>\n      <td>242.7</td>\n      <td>15.55</td>\n      <td>M</td>\n      <td>426.72</td>\n      <td>Day</td>\n      <td>12.0</td>\n      <td>1.0</td>\n      <td>0.800000</td>\n      <td>Full Moon</td>\n      <td>267.020833</td>\n      <td>14.422292</td>\n      <td>1.000000</td>\n      <td>0.772803</td>\n      <td>26.10</td>\n    </tr>\n    <tr>\n      <th>1068626</th>\n      <td>1068626</td>\n      <td>190601200</td>\n      <td>2007-06-05 13:59:00-10:00</td>\n      <td>13</td>\n      <td>Day</td>\n      <td>230.7</td>\n      <td>16.05</td>\n      <td>M</td>\n      <td>426.72</td>\n      <td>Day</td>\n      <td>12.5</td>\n      <td>1.0</td>\n      <td>0.833333</td>\n      <td>Full Moon</td>\n      <td>267.020833</td>\n      <td>14.422292</td>\n      <td>1.000000</td>\n      <td>0.772803</td>\n      <td>26.10</td>\n    </tr>\n    <tr>\n      <th>1068627</th>\n      <td>1068627</td>\n      <td>190601200</td>\n      <td>2007-06-05 13:59:15-10:00</td>\n      <td>13</td>\n      <td>Day</td>\n      <td>218.2</td>\n      <td>16.40</td>\n      <td>M</td>\n      <td>426.72</td>\n      <td>Day</td>\n      <td>10.5</td>\n      <td>1.0</td>\n      <td>0.700000</td>\n      <td>Full Moon</td>\n      <td>267.020833</td>\n      <td>14.422292</td>\n      <td>1.000000</td>\n      <td>0.772803</td>\n      <td>26.10</td>\n    </tr>\n    <tr>\n      <th>1068628</th>\n      <td>1068628</td>\n      <td>190601200</td>\n      <td>2007-06-05 13:59:30-10:00</td>\n      <td>13</td>\n      <td>Day</td>\n      <td>207.7</td>\n      <td>17.00</td>\n      <td>M</td>\n      <td>426.72</td>\n      <td>Day</td>\n      <td>10.5</td>\n      <td>1.0</td>\n      <td>0.700000</td>\n      <td>Full Moon</td>\n      <td>267.020833</td>\n      <td>14.422292</td>\n      <td>1.000000</td>\n      <td>0.772803</td>\n      <td>26.10</td>\n    </tr>\n    <tr>\n      <th>1068629</th>\n      <td>1068629</td>\n      <td>190601200</td>\n      <td>2007-06-05 13:59:45-10:00</td>\n      <td>13</td>\n      <td>Day</td>\n      <td>197.2</td>\n      <td>17.75</td>\n      <td>M</td>\n      <td>426.72</td>\n      <td>Day</td>\n      <td>NaN</td>\n      <td>NaN</td>\n      <td>NaN</td>\n      <td>Full Moon</td>\n      <td>267.020833</td>\n      <td>14.422292</td>\n      <td>1.000000</td>\n      <td>0.772803</td>\n      <td>26.10</td>\n    </tr>\n  </tbody>\n</table>\n<p>673920 rows × 19 columns</p>\n</div>",
      "text/plain": "         Unnamed: 0         Id          Datetime (UTC-10)  Hour (UTC-10)  \\\n394710       394710  190601200  2007-02-08 14:00:00-10:00             14   \n394711       394711  190601200  2007-02-08 14:00:15-10:00             14   \n394712       394712  190601200  2007-02-08 14:00:30-10:00             14   \n394713       394713  190601200  2007-02-08 14:00:45-10:00             14   \n394714       394714  190601200  2007-02-08 14:01:00-10:00             14   \n...             ...        ...                        ...            ...   \n1068625     1068625  190601200  2007-06-05 13:58:45-10:00             13   \n1068626     1068626  190601200  2007-06-05 13:59:00-10:00             13   \n1068627     1068627  190601200  2007-06-05 13:59:15-10:00             13   \n1068628     1068628  190601200  2007-06-05 13:59:30-10:00             13   \n1068629     1068629  190601200  2007-06-05 13:59:45-10:00             13   \n\n        Time of Day  Depth(m)  External Temp (c) Sex  Shark Length (cm)  \\\n394710          Day     254.5              16.05   M             426.72   \n394711          Day     252.5              16.65   M             426.72   \n394712          Day     251.5              16.65   M             426.72   \n394713          Day     253.0              16.60   M             426.72   \n394714          Day     257.5              15.20   M             426.72   \n...             ...       ...                ...  ..                ...   \n1068625         Day     242.7              15.55   M             426.72   \n1068626         Day     230.7              16.05   M             426.72   \n1068627         Day     218.2              16.40   M             426.72   \n1068628         Day     207.7              17.00   M             426.72   \n1068629         Day     197.2              17.75   M             426.72   \n\n        Time of Day (Astral)  Depth Diff (m)  Vertical Velocity (m/s)  \\\n394710                   Day             2.0                      1.0   \n394711                   Day             1.0                      1.0   \n394712                   Day            -1.5                      1.0   \n394713                   Day            -4.5                      1.0   \n394714                   Day            -3.0                      1.0   \n...                      ...             ...                      ...   \n1068625                  Day            12.0                      1.0   \n1068626                  Day            12.5                      1.0   \n1068627                  Day            10.5                      1.0   \n1068628                  Day            10.5                      1.0   \n1068629                  Day             NaN                      NaN   \n\n         Speed (m/s) Moon Phase  Mean Hourly Depth (m)  \\\n394710      0.133333  Full Moon             186.506250   \n394711      0.066667  Full Moon             186.506250   \n394712      0.100000  Full Moon             186.506250   \n394713      0.300000  Full Moon             186.506250   \n394714      0.200000  Full Moon             186.506250   \n...              ...        ...                    ...   \n1068625     0.800000  Full Moon             267.020833   \n1068626     0.833333  Full Moon             267.020833   \n1068627     0.700000  Full Moon             267.020833   \n1068628     0.700000  Full Moon             267.020833   \n1068629          NaN  Full Moon             267.020833   \n\n         Mean Hourly External Temp (c)  Hourly Diving Ratio  \\\n394710                       20.040625             0.920833   \n394711                       20.040625             0.920833   \n394712                       20.040625             0.920833   \n394713                       20.040625             0.920833   \n394714                       20.040625             0.920833   \n...                                ...                  ...   \n1068625                      14.422292             1.000000   \n1068626                      14.422292             1.000000   \n1068627                      14.422292             1.000000   \n1068628                      14.422292             1.000000   \n1068629                      14.422292             1.000000   \n\n         Mean Hourly Speed (m/s)  Daily SST Est (c)  \n394710                  0.150556              24.25  \n394711                  0.150556              24.25  \n394712                  0.150556              24.25  \n394713                  0.150556              24.25  \n394714                  0.150556              24.25  \n...                          ...                ...  \n1068625                 0.772803              26.10  \n1068626                 0.772803              26.10  \n1068627                 0.772803              26.10  \n1068628                 0.772803              26.10  \n1068629                 0.772803              26.10  \n\n[673920 rows x 19 columns]"
     },
     "execution_count": 33,
     "metadata": {},
     "output_type": "execute_result"
    }
   ],
   "source": [
    "sh = master[master['Id'] == 190601200]\n",
    "sh"
   ]
  },
  {
   "cell_type": "code",
   "execution_count": 34,
   "metadata": {},
   "outputs": [
    {
     "name": "stderr",
     "output_type": "stream",
     "text": [
      "/Library/Frameworks/Python.framework/Versions/3.10/lib/python3.10/site-packages/swifter/swifter.py:83: UserWarning: This pandas object has duplicate indices, and swifter may not be able to improve performance. Consider resetting the indices with `df.reset_index(drop=True)`.\n",
      "  warnings.warn(\n"
     ]
    },
    {
     "data": {
      "image/png": "[encoded data removed]",
      "text/plain": "<Figure size 432x288 with 1 Axes>"
     },
     "metadata": {
      "needs_background": "light"
     },
     "output_type": "display_data"
    }
   ],
   "source": [
    "# Plot the overall depth distribution for day and night\n",
    "\n",
    "# filter out transition states (leaving only deep day or deep night)\n",
    "filtered = sh.loc[(sh['Time of Day (Astral)'] == 'Day') | (sh['Time of Day (Astral)'] == 'Night')]\n",
    "\n",
    "# Plot a histogram and color by 'Time of Day (Astral)'\n",
    "ax = sns.histplot(filtered, x=\"Depth(m)\", hue=\"Time of Day (Astral)\", stat=\"density\", common_norm=False)\n",
    "ax.set_xlim(0, filtered[\"Depth(m)\"].max())\n",
    "ax.set_ylabel('Fraction of Time Spent')\n",
    "ax.set_xlabel('Depth (m)')\n",
    "ax.set_title('Depth distribution for 190601200')\n",
    "sns.set(rc={'figure.figsize':(11.7,8.27)})\n",
    "plt.show()"
   ]
  },
  {
   "cell_type": "code",
   "execution_count": 35,
   "metadata": {},
   "outputs": [
    {
     "name": "stderr",
     "output_type": "stream",
     "text": [
      "/Library/Frameworks/Python.framework/Versions/3.10/lib/python3.10/site-packages/swifter/swifter.py:83: UserWarning: This pandas object has duplicate indices, and swifter may not be able to improve performance. Consider resetting the indices with `df.reset_index(drop=True)`.\n",
      "  warnings.warn(\n"
     ]
    },
    {
     "data": {
      "image/png": "[encoded data removed]",
      "text/plain": "<Figure size 842.4x595.44 with 1 Axes>"
     },
     "metadata": {},
     "output_type": "display_data"
    },
    {
     "name": "stderr",
     "output_type": "stream",
     "text": [
      "/Library/Frameworks/Python.framework/Versions/3.10/lib/python3.10/site-packages/swifter/swifter.py:83: UserWarning: This pandas object has duplicate indices, and swifter may not be able to improve performance. Consider resetting the indices with `df.reset_index(drop=True)`.\n",
      "  warnings.warn(\n"
     ]
    },
    {
     "data": {
      "image/png": "[encoded data removed]",
      "text/plain": "<Figure size 842.4x595.44 with 1 Axes>"
     },
     "metadata": {},
     "output_type": "display_data"
    }
   ],
   "source": [
    "# Plot the depth distribution during different moon phases to see if lunar cycle has an effect on this shark's depth distribution\n",
    "\n",
    "# filter out transition states 'First Quarter' and 'Last Quarter'\n",
    "new_moon = filtered[filtered['Moon Phase'] == 'New Moon']\n",
    "full_moon = filtered[filtered['Moon Phase'] == 'Full Moon']\n",
    "\n",
    "# Plot a histogram and color by 'Time of Day (Astral)'\n",
    "ax = sns.histplot(new_moon, x=\"Depth(m)\", hue=\"Time of Day (Astral)\", stat=\"density\", common_norm=False)\n",
    "ax.set_xlim(0, new_moon[\"Depth(m)\"].max())\n",
    "ax.set_ylabel('Fraction of Time Spent')\n",
    "ax.set_xlabel('Depth (m)')\n",
    "ax.set_title('Depth distribution for 190601200 during the New Moon')\n",
    "plt.show()\n",
    "\n",
    "ax = sns.histplot(full_moon, x=\"Depth(m)\", hue=\"Time of Day (Astral)\", stat=\"density\", common_norm=False)\n",
    "ax.set_xlim(0, full_moon[\"Depth(m)\"].max())\n",
    "ax.set_ylabel('Fraction of Time Spent')\n",
    "ax.set_xlabel('Depth (m)')\n",
    "ax.set_title('Depth distribution for 190601200 during the Full Moon')\n",
    "plt.show()"
   ]
  },
  {
   "cell_type": "code",
   "execution_count": 36,
   "metadata": {},
   "outputs": [
    {
     "data": {
      "text/plain": "(133.2, 135.48837670673356, 151.5, 152.0866905740692)"
     },
     "execution_count": 36,
     "metadata": {},
     "output_type": "execute_result"
    }
   ],
   "source": [
    "full_night = full_moon[full_moon['Time of Day (Astral)'] == 'Night']\n",
    "new_night = new_moon[new_moon['Time of Day (Astral)'] == 'Night']\n",
    "\n",
    "statistics.median(new_night['Depth(m)']), new_night['Depth(m)'].mean(), statistics.median(full_night['Depth(m)']), full_night['Depth(m)'].mean()"
   ]
  },
  {
   "cell_type": "code",
   "execution_count": 37,
   "metadata": {},
   "outputs": [
    {
     "data": {
      "text/plain": "(332.0, 313.05674020364086, 301.2, 296.41329787939475)"
     },
     "execution_count": 37,
     "metadata": {},
     "output_type": "execute_result"
    }
   ],
   "source": [
    "full_day = full_moon[full_moon['Time of Day (Astral)'] == 'Day']\n",
    "new_day = new_moon[new_moon['Time of Day (Astral)'] == 'Day']\n",
    "\n",
    "statistics.median(new_day['Depth(m)']), new_day['Depth(m)'].mean(), statistics.median(full_day['Depth(m)']), full_day['Depth(m)'].mean()"
   ]
  },
  {
   "cell_type": "code",
   "execution_count": 38,
   "metadata": {},
   "outputs": [],
   "source": [
    "# Lunar cycle does not seem to have a strong effect on depth distribution for this shark. By eye, metrics that may be significantly different include: mean or median depth during day vs night OR \n",
    "# distribution shape/type during day vs night (this does not necesarrily mean that mean/median depth are significantly different). Since we are focusing on diving behavior, it would make\n",
    "# sense to filter out data points from the top 5-10 meters since there are many points in this region that could skew both day/night sample distributions. Then, although the distributions don't\n",
    "# appear normal, a normality test for sanity would reduce the scope of best metrics and statistical tests that an be used to compare the two distributions. If the distributions are normal,\n",
    "# they can be compared with parametric tests, which in most cases can be stronger tests than non-parametric tests. However, in the likely case that the two distributions are not normal,\n",
    "# we must use non-parametric tests to compare the day/night samples.\n",
    "# \n",
    "# In the case that both samples are normal, a  p-value from a comparison of means test (parametric test) would be a good indication of significant difference. However, in the case that both samples are not \n",
    "# normal, a p-value from a comparison of medians (non-parametric test) would be a good indication of significant difference (though less strong that comparison of means). If the medians are not significantly \n",
    "# different, we can perform a KS test (non-parametric) to determine whether the shape of the distributions themselves are significantly different (reguardless of the normality of both distributions)."
   ]
  },
  {
   "cell_type": "code",
   "execution_count": 39,
   "metadata": {},
   "outputs": [
    {
     "name": "stderr",
     "output_type": "stream",
     "text": [
      "/Library/Frameworks/Python.framework/Versions/3.10/lib/python3.10/site-packages/swifter/swifter.py:83: UserWarning: This pandas object has duplicate indices, and swifter may not be able to improve performance. Consider resetting the indices with `df.reset_index(drop=True)`.\n",
      "  warnings.warn(\n"
     ]
    },
    {
     "data": {
      "image/png": "[encoded data removed]",
      "text/plain": "<Figure size 842.4x595.44 with 1 Axes>"
     },
     "metadata": {},
     "output_type": "display_data"
    }
   ],
   "source": [
    "#  1 - filter out surface datapoints (top 5m of water) and visualize\n",
    "\n",
    "filtered = filtered[filtered['Depth(m)'] > 5]\n",
    "\n",
    "ax = sns.histplot(filtered, x=\"Depth(m)\", hue=\"Time of Day (Astral)\", stat=\"density\", common_norm=False)\n",
    "ax.set_xlim(0, filtered[\"Depth(m)\"].max())\n",
    "ax.set_ylabel('Fraction of Time Spent')\n",
    "ax.set_xlabel('Depth (m)')\n",
    "ax.set_title('Depth distribution for 190000400 excluding surface time')\n",
    "plt.show()"
   ]
  },
  {
   "cell_type": "code",
   "execution_count": null,
   "metadata": {},
   "outputs": [],
   "source": [
    "# Since filtering out sample data shallower than 5 m in depth got rid of the abnormal spikes in the depth distribution, we can move on to the normaility test."
   ]
  },
  {
   "cell_type": "code",
   "execution_count": null,
   "metadata": {},
   "outputs": [],
   "source": [
    "# 1 - Test both samples for normality to determine whether parametric or non-parametric tests should be used to compare the samples.\n",
    "# The Shapiro–Wilk test is more appropriate method for small sample sizes (<50 samples) although it can also be handling on larger sample size while Kolmogorov–Smirnov test is used for n ≥50.\n",
    "# The Scipy Sharpiro test is not accurate for samples larger than 5000. We will test it anyways, and for this test, a p-value of less than 0.05 means that the distribution is normal. \n",
    "# However, the Lilliefors test is a normality test based on the Kolmogorov–Smirnov test. As all the above methods, this test is used to check if the data come from a normal distribution for\n",
    "# samples > 5000 datapoints. For the Lilliefors test, ff the p-value ≤ 0.05, then we reject the null hypothesis i.e. we assume the distribution of our variable is not normal/gaussian.\n",
    "# If the p-value > 0.05, then we fail to reject the null hypothesis i.e. we assume the distribution of our variable is normal/gaussian.\n",
    "\n",
    "\n",
    "day_depths = filtered[filtered['Time of Day (Astral)'] == 'Day']['Depth(m)']\n",
    "night_depths = filtered[filtered['Time of Day (Astral)'] == 'Night']['Depth(m)']\n",
    "\n",
    "day_depths, night_depths, shapiro(day_depths), shapiro(night_depths) "
   ]
  },
  {
   "cell_type": "code",
   "execution_count": null,
   "metadata": {},
   "outputs": [],
   "source": [
    "# Lillifors\n",
    "stat,p = lilliefors(day_depths)\n",
    "stat_2,p_2 = lilliefors(night_depths)\n",
    "\n",
    "stat, p, stat_2, p_2"
   ]
  },
  {
   "cell_type": "code",
   "execution_count": null,
   "metadata": {},
   "outputs": [],
   "source": [
    "# According to Lillifors, the distributions are not normal. We disreguard the p-value from the Shapiro-Wilk normality test because it is clearly innaccurate for our sample size. We continue using non-parametric\n",
    "# tests. First, we will perform a comparison of medians test. If the medians are not significantly different, we can compare the distributions shapes with a KS test."
   ]
  },
  {
   "cell_type": "code",
   "execution_count": null,
   "metadata": {},
   "outputs": [],
   "source": [
    "# print the medians just for reference - we can proabably tell ourselves if they are significantly difference but the tests will be performed reguardless for sanity\n",
    "statistics.median(day_depths), statistics.median(night_depths)\n"
   ]
  },
  {
   "cell_type": "code",
   "execution_count": null,
   "metadata": {},
   "outputs": [],
   "source": [
    "# The medians seem pretty different. Now we can move onto non-parametric tests. First, we will do a comparison of medians. If the medians are not significatly different,\n",
    "# we can compare the shape of the sample distributions using a KS-test. If the shapes are different enough (via p-value), we can say that the samples are from different distributions"
   ]
  },
  {
   "cell_type": "code",
   "execution_count": null,
   "metadata": {},
   "outputs": [],
   "source": [
    "len(night_depths), len(day_depths)"
   ]
  },
  {
   "cell_type": "code",
   "execution_count": null,
   "metadata": {},
   "outputs": [],
   "source": [
    "# 2 - Since both samples are non-Gaussian, compare them using non parametric tests. Since the medians seem pretty different, we begin with a difference of medians.\n",
    "# Scientific experiments often consist of comparing two or more sets of data. This data is described as unpaired or independent when the sets of data arise from \n",
    "# separate individuals or paired when it arises from the same individual at different points in time. The Wilcoxon signed-rank test is a nonparametric test\n",
    "# for comparing paired data samples (the nonparametric version of the paired Student t-test). It is better than the Wilcoxon rank-sum for this scenario because\n",
    "# Wilcoxon rank-sum test is used to compare two independent samples, while Wilcoxon signed-rank test is used to compare two related samples, matched samples, \n",
    "# or to conduct a paired difference test of repeated measurements on a single sample to assess whether their population mean ranks differ.\n",
    "# For the Wilcoxon Signed Rank test to be effective, it requires at least 20 observations in each data sample, which we have (by far).\n",
    "\n",
    "from scipy.stats import mannwhitneyu\n",
    "from scipy.stats import wilcoxon\n",
    "import random\n",
    "from random import sample\n",
    "\n",
    "# samples must be same size to perform wilcoxon signed rank. In this case, we know that there are 25,792 datapoints in the day_depth sample\n",
    "# and 27,866 in the night_depths sample. We randomly resample (without replacement) the larger sample to match the size of the smaller one.\n",
    "wilcox_day = sample(list(day_depths), len(night_depths))\n",
    "\n",
    "# case p > 0.05: Samples come from the same distribution (fail to reject H_0)\n",
    "# else p <= 0.05 : Samples come from different distribution (reject H0)\n",
    "\n",
    "# traditional median comparison followed by wilcoxon signed-rank test\n",
    "stat, p, med, tbl = median_test(list(day_depths), list(night_depths))\n",
    "stat_2, p_2 = wilcoxon(wilcox_day, night_depths)\n",
    "stat_3, p_3 = mannwhitneyu(wilcox_day, night_depths) # Mann whitney is more powerful\n",
    "\n",
    "stat, '{0:.16f}'.format(p), med, tbl, stat_2, '{0:.16f}'.format(p_2), stat_3, '{0:.16f}'.format(p_3)"
   ]
  },
  {
   "cell_type": "code",
   "execution_count": null,
   "metadata": {},
   "outputs": [],
   "source": [
    "# that's funny - both a p-value of zero. Seems a little fishy. While not listed in their documentation, while the Wilcoxon signed-rank test in general doesn't assume any distribution, \n",
    "# most exact implementations are restricted to <50 samples (i.e. scipy). Let's try a different test. Since KS test can be used for large samples, let's try that to compare the distributions\n",
    "\n",
    "stat, p = stats.kstest(day_depths, night_depths)\n",
    "stat, '{0:.16f}'.format(p)"
   ]
  },
  {
   "cell_type": "code",
   "execution_count": null,
   "metadata": {},
   "outputs": [],
   "source": [
    "# Seems fishy... upon further exploration, I found this paper: https://bmcmedresmethodol.biomedcentral.com/articles/10.1186/1471-2288-12-78.\n",
    "# The conclusion:\n",
    "# \"Non-parametric tests are most useful for small studies. Using non-parametric tests in large studies may provide answers to the wrong question, \n",
    "# thus confusing readers. For studies with a large sample size, t-tests and their corresponding confidence intervals can and should be used even \n",
    "# for heavily skewed data.\"\n",
    "# From the Discussion:\n",
    "# \"With a large sample size, the WMW test has great power to detect that that probability is not 50%. If the purpose of the study is to detect \n",
    "# any distributional difference, using a non-parametric test is probably useful. Most studies, however, are carried out to investigate differences \n",
    "# in means or medians, and as such, the ratio of non-parametric tests to t-tests ought to decrease when studies grow in size.\"\n",
    "\n",
    "# Let's try a t-test to look at the difference in means of the daytime and nighttime depth samples for shark 190000400"
   ]
  },
  {
   "cell_type": "code",
   "execution_count": null,
   "metadata": {},
   "outputs": [],
   "source": [
    "# First, let's just see the means of both\n",
    "day_depths.mean(), night_depths.mean()"
   ]
  },
  {
   "cell_type": "code",
   "execution_count": null,
   "metadata": {},
   "outputs": [],
   "source": [
    "# The means look pretty different. Let's test that with a paired t-test\n",
    "\n",
    "# This is a test for the null hypothesis that two related or repeated samples have identical average (expected) values.\n",
    "# If we observe a large p-value, for example greater than 0.05 or 0.1 then we cannot reject the null hypothesis of identical average scores. \n",
    "# If the p-value is smaller than the threshold, e.g. 1%, 5% or 10%, then we reject the null hypothesis of equal averages.\n",
    "stat, p = stats.ttest_rel(wilcox_day, night_depths) # sample len must be same\n",
    "stat, '{0:.16f}'.format(p)"
   ]
  },
  {
   "cell_type": "code",
   "execution_count": null,
   "metadata": {},
   "outputs": [],
   "source": [
    "# unpaired t-test\n",
    "\n",
    "# A p-value larger than a chosen threshold (e.g. 5% or 1%) indicates that our observation is not so unlikely \n",
    "# to have occurred by chance. Therefore, we do not reject the null hypothesis of equal population means. \n",
    "# If the p-value is smaller than our threshold, then we have evidence against the null hypothesis of equal \n",
    "# population means.\n",
    "stat, p = stats.ttest_ind(wilcox_day, night_depths, equal_var=False)\n",
    "stat, '{0:.16f}'.format(p)"
   ]
  },
  {
   "cell_type": "markdown",
   "metadata": {},
   "source": [
    "## 190400900 \n",
    "(F, 396 cm)"
   ]
  },
  {
   "cell_type": "code",
   "execution_count": null,
   "metadata": {},
   "outputs": [],
   "source": [
    "sh = master[master['Id'] == 190400900]\n",
    "sh"
   ]
  },
  {
   "cell_type": "code",
   "execution_count": null,
   "metadata": {},
   "outputs": [],
   "source": [
    "# Plot the overall depth distribution for day and night\n",
    "\n",
    "# filter out transition states (leaving only deep day or deep night)\n",
    "filtered = sh.loc[(sh['Time of Day (Astral)'] == 'Day') | (sh['Time of Day (Astral)'] == 'Night')]\n",
    "\n",
    "# Plot a histogram and color by 'Time of Day (Astral)'\n",
    "ax = sns.histplot(filtered, x=\"Depth(m)\", hue=\"Time of Day (Astral)\", stat=\"density\", common_norm=False)\n",
    "ax.set_xlim(0, filtered[\"Depth(m)\"].max())\n",
    "ax.set_ylabel('Fraction of Time Spent')\n",
    "ax.set_xlabel('Depth (m)')\n",
    "ax.set_title('Depth distribution for 190400900')\n",
    "sns.set(rc={'figure.figsize':(11.7,8.27)})\n",
    "plt.show()"
   ]
  },
  {
   "cell_type": "code",
   "execution_count": null,
   "metadata": {},
   "outputs": [],
   "source": [
    "# Plot the depth distribution during different moon phases to see if lunar cycle has an effect on this shark's depth distribution\n",
    "\n",
    "# filter out transition states 'First Quarter' and 'Last Quarter'\n",
    "new_moon = filtered[filtered['Moon Phase'] == 'New Moon']\n",
    "full_moon = filtered[filtered['Moon Phase'] == 'Full Moon']\n",
    "\n",
    "# Plot a histogram and color by 'Time of Day (Astral)'\n",
    "ax = sns.histplot(new_moon, x=\"Depth(m)\", hue=\"Time of Day (Astral)\", stat=\"density\", common_norm=False)\n",
    "ax.set_xlim(0, new_moon[\"Depth(m)\"].max())\n",
    "ax.set_ylabel('Fraction of Time Spent')\n",
    "ax.set_xlabel('Depth (m)')\n",
    "ax.set_title('Depth distribution for 190400900 during the New Moon')\n",
    "plt.show()\n",
    "\n",
    "ax = sns.histplot(full_moon, x=\"Depth(m)\", hue=\"Time of Day (Astral)\", stat=\"density\", common_norm=False)\n",
    "ax.set_xlim(0, full_moon[\"Depth(m)\"].max())\n",
    "ax.set_ylabel('Fraction of Time Spent')\n",
    "ax.set_xlabel('Depth (m)')\n",
    "ax.set_title('Depth distribution for 190400900 during the Full Moon')\n",
    "plt.show()"
   ]
  },
  {
   "cell_type": "code",
   "execution_count": null,
   "metadata": {},
   "outputs": [],
   "source": [
    "full_night = full_moon[full_moon['Time of Day (Astral)'] == 'Night']\n",
    "new_night = new_moon[new_moon['Time of Day (Astral)'] == 'Night']\n",
    "\n",
    "statistics.median(new_night['Depth(m)']), new_night['Depth(m)'].mean(), statistics.median(full_night['Depth(m)']), full_night['Depth(m)'].mean()"
   ]
  },
  {
   "cell_type": "code",
   "execution_count": null,
   "metadata": {},
   "outputs": [],
   "source": [
    "full_day = full_moon[full_moon['Time of Day (Astral)'] == 'Day']\n",
    "new_day = new_moon[new_moon['Time of Day (Astral)'] == 'Day']\n",
    "\n",
    "statistics.median(new_day['Depth(m)']), new_day['Depth(m)'].mean(), statistics.median(full_day['Depth(m)']), full_day['Depth(m)'].mean()"
   ]
  },
  {
   "cell_type": "code",
   "execution_count": null,
   "metadata": {},
   "outputs": [],
   "source": [
    "# Lunar cycle does not seem to have a strong effect on depth distribution for this shark. By eye, metrics that may be significantly different include: mean or median depth during day vs night OR \n",
    "# distribution shape/type during day vs night (this does not necesarrily mean that mean/median depth are significantly different). Since we are focusing on diving behavior, it would make\n",
    "# sense to filter out data points from the top 5-10 meters since there are many points in this region that could skew both day/night sample distributions. Then, although the distributions don't\n",
    "# appear normal, a normality test for sanity would reduce the scope of best metrics and statistical tests that an be used to compare the two distributions. If the distributions are normal,\n",
    "# they can be compared with parametric tests, which in most cases can be stronger tests than non-parametric tests. However, in the likely case that the two distributions are not normal,\n",
    "# we must use non-parametric tests to compare the day/night samples.\n",
    "# \n",
    "# In the case that both samples are normal, a  p-value from a comparison of means test (parametric test) would be a good indication of significant difference. However, in the case that both samples are not \n",
    "# normal, a p-value from a comparison of medians (non-parametric test) would be a good indication of significant difference (though less strong that comparison of means). If the medians are not significantly \n",
    "# different, we can perform a KS test (non-parametric) to determine whether the shape of the distributions themselves are significantly different (reguardless of the normality of both distributions)."
   ]
  },
  {
   "cell_type": "code",
   "execution_count": null,
   "metadata": {},
   "outputs": [],
   "source": [
    "#  1 - filter out surface datapoints (top 5m of water) and visualize\n",
    "\n",
    "filtered = filtered[filtered['Depth(m)'] > 5]\n",
    "\n",
    "ax = sns.histplot(filtered, x=\"Depth(m)\", hue=\"Time of Day (Astral)\", stat=\"density\", common_norm=False)\n",
    "ax.set_xlim(0, filtered[\"Depth(m)\"].max())\n",
    "ax.set_ylabel('Fraction of Time Spent')\n",
    "ax.set_xlabel('Depth (m)')\n",
    "ax.set_title('Depth distribution for 190400900 excluding surface time')\n",
    "plt.show()"
   ]
  },
  {
   "cell_type": "code",
   "execution_count": null,
   "metadata": {},
   "outputs": [],
   "source": [
    "# Since filtering out sample data shallower than 5 m in depth got rid of the abnormal spikes in the depth distribution, we can move on to the normaility test."
   ]
  },
  {
   "cell_type": "code",
   "execution_count": null,
   "metadata": {},
   "outputs": [],
   "source": [
    "# 1 - Test both samples for normality to determine whether parametric or non-parametric tests should be used to compare the samples.\n",
    "# The Shapiro–Wilk test is more appropriate method for small sample sizes (<50 samples) although it can also be handling on larger sample size while Kolmogorov–Smirnov test is used for n ≥50.\n",
    "# The Scipy Sharpiro test is not accurate for samples larger than 5000. We will test it anyways, and for this test, a p-value of less than 0.05 means that the distribution is normal. \n",
    "# However, the Lilliefors test is a normality test based on the Kolmogorov–Smirnov test. As all the above methods, this test is used to check if the data come from a normal distribution for\n",
    "# samples > 5000 datapoints. For the Lilliefors test, ff the p-value ≤ 0.05, then we reject the null hypothesis i.e. we assume the distribution of our variable is not normal/gaussian.\n",
    "# If the p-value > 0.05, then we fail to reject the null hypothesis i.e. we assume the distribution of our variable is normal/gaussian.\n",
    "\n",
    "\n",
    "day_depths = filtered[filtered['Time of Day (Astral)'] == 'Day']['Depth(m)']\n",
    "night_depths = filtered[filtered['Time of Day (Astral)'] == 'Night']['Depth(m)']\n",
    "\n",
    "day_depths, night_depths, shapiro(day_depths), shapiro(night_depths) "
   ]
  },
  {
   "cell_type": "code",
   "execution_count": null,
   "metadata": {},
   "outputs": [],
   "source": [
    "# Lillifors\n",
    "stat,p = lilliefors(day_depths)\n",
    "stat_2,p_2 = lilliefors(night_depths)\n",
    "\n",
    "stat, p, stat_2, p_2"
   ]
  },
  {
   "cell_type": "code",
   "execution_count": null,
   "metadata": {},
   "outputs": [],
   "source": [
    "# According to Lillifors, the distributions are not normal. This is obvious from the histogram.\n",
    "# We disreguard the p-value from the Shapiro-Wilk normality test because it is clearly innaccurate for our sample size. We continue using non-parametric\n",
    "# tests. First, we will perform a KS test. We do this because the distributions lok like different shapes but it's not obvious\n",
    "# that their medians/means would come from different distributions if we assumed normality.\n",
    "# If the the distributions are not significantly different, we can try other non-parametric tests, but it might not be best to \n",
    "# use parametric tests in this case. We can always try them anyways"
   ]
  },
  {
   "cell_type": "code",
   "execution_count": null,
   "metadata": {},
   "outputs": [],
   "source": [
    "# that's funny - both a p-value of zero. Seems a little fishy. While not listed in their documentation, while the Wilcoxon signed-rank test in general doesn't assume any distribution, \n",
    "# most exact implementations are restricted to <50 samples (i.e. scipy). Let's try a different test. Since KS test can be used for large samples, let's try that to compare the distributions\n",
    "\n",
    "stat, p = stats.kstest(day_depths, night_depths)\n",
    "stat, '{0:.16f}'.format(p)"
   ]
  },
  {
   "cell_type": "code",
   "execution_count": null,
   "metadata": {},
   "outputs": [],
   "source": [
    "# print the medians just for reference - we can proabably tell ourselves if they are significantly difference but the tests will be performed reguardless for sanity\n",
    "statistics.median(day_depths), statistics.median(night_depths)\n"
   ]
  },
  {
   "cell_type": "code",
   "execution_count": null,
   "metadata": {},
   "outputs": [],
   "source": [
    "# The medians seem pretty different. Now we can move onto non-parametric tests. First, we will do a comparison of medians. If the medians are not significatly different,\n",
    "# we can compare the shape of the sample distributions using a KS-test. If the shapes are different enough (via p-value), we can say that the samples are from different distributions"
   ]
  },
  {
   "cell_type": "code",
   "execution_count": null,
   "metadata": {},
   "outputs": [],
   "source": [
    "len(night_depths), len(day_depths)"
   ]
  },
  {
   "cell_type": "code",
   "execution_count": null,
   "metadata": {},
   "outputs": [],
   "source": [
    "# 2 - Since both samples are non-Gaussian, compare them using non parametric tests. Since the medians seem pretty different, we begin with a difference of medians.\n",
    "# Scientific experiments often consist of comparing two or more sets of data. This data is described as unpaired or independent when the sets of data arise from \n",
    "# separate individuals or paired when it arises from the same individual at different points in time. The Wilcoxon signed-rank test is a nonparametric test\n",
    "# for comparing paired data samples (the nonparametric version of the paired Student t-test). It is better than the Wilcoxon rank-sum for this scenario because\n",
    "# Wilcoxon rank-sum test is used to compare two independent samples, while Wilcoxon signed-rank test is used to compare two related samples, matched samples, \n",
    "# or to conduct a paired difference test of repeated measurements on a single sample to assess whether their population mean ranks differ.\n",
    "# For the Wilcoxon Signed Rank test to be effective, it requires at least 20 observations in each data sample, which we have (by far).\n",
    "\n",
    "from scipy.stats import mannwhitneyu\n",
    "from scipy.stats import wilcoxon\n",
    "import random\n",
    "from random import sample\n",
    "\n",
    "# samples must be same size to perform wilcoxon signed rank. In this case, we know that there are 25,792 datapoints in the day_depth sample\n",
    "# and 27,866 in the night_depths sample. We randomly resample (without replacement) the larger sample to match the size of the smaller one.\n",
    "wilcox_day = sample(list(day_depths), len(night_depths))\n",
    "\n",
    "# case p > 0.05: Samples come from the same distribution (fail to reject H_0)\n",
    "# else p <= 0.05 : Samples come from different distribution (reject H0)\n",
    "\n",
    "# traditional median comparison followed by wilcoxon signed-rank test\n",
    "stat, p, med, tbl = median_test(list(day_depths), list(night_depths))\n",
    "stat_2, p_2 = wilcoxon(wilcox_day, night_depths)\n",
    "stat_3, p_3 = mannwhitneyu(wilcox_day, night_depths) # Mann whitney is more powerful\n",
    "\n",
    "stat, '{0:.16f}'.format(p), med, tbl, stat_2, '{0:.16f}'.format(p_2), stat_3, '{0:.16f}'.format(p_3)"
   ]
  },
  {
   "cell_type": "code",
   "execution_count": null,
   "metadata": {},
   "outputs": [],
   "source": [
    "# Seems fishy... upon further exploration, I found this paper: https://bmcmedresmethodol.biomedcentral.com/articles/10.1186/1471-2288-12-78.\n",
    "# The conclusion:\n",
    "# \"Non-parametric tests are most useful for small studies. Using non-parametric tests in large studies may provide answers to the wrong question, \n",
    "# thus confusing readers. For studies with a large sample size, t-tests and their corresponding confidence intervals can and should be used even \n",
    "# for heavily skewed data.\"\n",
    "# From the Discussion:\n",
    "# \"With a large sample size, the WMW test has great power to detect that that probability is not 50%. If the purpose of the study is to detect \n",
    "# any distributional difference, using a non-parametric test is probably useful. Most studies, however, are carried out to investigate differences \n",
    "# in means or medians, and as such, the ratio of non-parametric tests to t-tests ought to decrease when studies grow in size.\"\n",
    "\n",
    "# Let's try a t-test to look at the difference in means of the daytime and nighttime depth samples for shark 190000400"
   ]
  },
  {
   "cell_type": "code",
   "execution_count": null,
   "metadata": {},
   "outputs": [],
   "source": [
    "# First, let's just see the means of both\n",
    "day_depths.mean(), night_depths.mean()"
   ]
  },
  {
   "cell_type": "code",
   "execution_count": null,
   "metadata": {},
   "outputs": [],
   "source": [
    "# The means look pretty different. Let's test that with a paired t-test\n",
    "\n",
    "# This is a test for the null hypothesis that two related or repeated samples have identical average (expected) values.\n",
    "# If we observe a large p-value, for example greater than 0.05 or 0.1 then we cannot reject the null hypothesis of identical average scores. \n",
    "# If the p-value is smaller than the threshold, e.g. 1%, 5% or 10%, then we reject the null hypothesis of equal averages.\n",
    "stat, p = stats.ttest_rel(wilcox_day, night_depths) # sample len must be same\n",
    "stat, '{0:.16f}'.format(p)"
   ]
  },
  {
   "cell_type": "code",
   "execution_count": null,
   "metadata": {},
   "outputs": [],
   "source": [
    "# unpaired t-test\n",
    "\n",
    "# A p-value larger than a chosen threshold (e.g. 5% or 1%) indicates that our observation is not so unlikely \n",
    "# to have occurred by chance. Therefore, we do not reject the null hypothesis of equal population means. \n",
    "# If the p-value is smaller than our threshold, then we have evidence against the null hypothesis of equal \n",
    "# population means.\n",
    "stat, p = stats.ttest_ind(wilcox_day, night_depths, equal_var=False)\n",
    "stat, '{0:.16f}'.format(p)"
   ]
  },
  {
   "cell_type": "code",
   "execution_count": null,
   "metadata": {},
   "outputs": [],
   "source": []
  },
  {
   "cell_type": "code",
   "execution_count": null,
   "metadata": {},
   "outputs": [],
   "source": []
  }
 ],
 "metadata": {
  "kernelspec": {
   "display_name": "Python 3.10.2 64-bit",
   "name": "python3102jvsc74a57bd098590ff4fe04c8543246b2a01debd3de3c5ca9b666f43f1fa87d5110c692004c"
  },
  "language_info": {
   "name": "python",
   "version": ""
  },
  "orig_nbformat": 3
 },
 "nbformat": 4,
 "nbformat_minor": 2
}